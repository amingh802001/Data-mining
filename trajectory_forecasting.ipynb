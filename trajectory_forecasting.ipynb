{
  "cells": [
    {
      "cell_type": "markdown",
      "metadata": {
        "id": "mYjBdMr0w34k"
      },
      "source": [
        "# Transformer"
      ]
    },
    {
      "cell_type": "markdown",
      "metadata": {
        "id": "N3v-S02Gw_dA"
      },
      "source": [
        "## Embedding"
      ]
    },
    {
      "cell_type": "code",
      "execution_count": null,
      "metadata": {
        "id": "_x6lapJTwps3"
      },
      "outputs": [],
      "source": [
        "import torch\n",
        "import torch.nn as nn\n",
        "import numpy as np\n",
        "\n",
        "# expected input shape: (batch_size, seq_length, input_dim)\n",
        "# format: norm, linear, + position_emb, norm, dropout\n",
        "import math\n",
        "class Embedding(nn.Module):\n",
        "  def __init__(self, d_input, d_model, bias=True):\n",
        "    super(Embedding, self).__init__()\n",
        "    self.d_input = d_input\n",
        "    self.d_model = d_model\n",
        "    self.bias = bias\n",
        "\n",
        "    self.linear = nn.Linear(d_input, d_model, bias)\n",
        "    # self.token_type_embedding = nn.Embedding(num_embeddings=2, embedding_dim= d_model)\n",
        "\n",
        "    self.norm1 = nn.LayerNorm(d_input)\n",
        "    self.norm2 = nn.LayerNorm(d_model)\n",
        "    self.dropout = nn.Dropout(p=0.1)\n",
        "    self.pe = self.positional_encoding(200)\n",
        "    self.pe.requires_grad = False\n",
        "\n",
        "\n",
        "  def positional_encoding(self, max_len):\n",
        "    pe = torch.zeros(max_len, self.d_model)\n",
        "    position = torch.arange(0, max_len, dtype=torch.float).unsqueeze(1)\n",
        "    div_term = torch.exp(torch.arange(0, self.d_model, 2).float() * (-math.log(10000.0) / self.d_model))\n",
        "    pe[:, 0::2] = torch.sin(position * div_term)\n",
        "    pe[:, 1::2] = torch.cos(position * div_term)\n",
        "    pe = pe.unsqueeze(0).transpose(0, 1)\n",
        "    self.register_buffer('pe', pe)\n",
        "    return pe\n",
        "\n",
        "\n",
        "  def forward(self, axes):\n",
        "    input = self.norm1(axes)\n",
        "    linear_embeddings = self.linear(input)\n",
        "\n",
        "    pe_batched = self.pe[:linear_embeddings.size(1), :]\n",
        "    pe_batched = pe_batched.view(linear_embeddings.size(1), -1)\n",
        "    pe_batched = pe_batched.repeat(linear_embeddings.size(0), 1, 1)\n",
        "\n",
        "    #req_grad is False for static pos_embedding\n",
        "    embeddings = linear_embeddings\n",
        "    embeddings = embeddings + pe_batched.requires_grad_(False)\n",
        "    embeddings = self.norm2(embeddings)\n",
        "    embeddings = self.dropout(embeddings)\n",
        "    return embeddings"
      ]
    },
    {
      "cell_type": "markdown",
      "metadata": {
        "id": "B_tp0EfhyvLt"
      },
      "source": [
        "## Multi-head attention"
      ]
    },
    {
      "cell_type": "code",
      "execution_count": null,
      "metadata": {
        "id": "vydwVwaMExaX"
      },
      "outputs": [],
      "source": [
        "class MultiHeadAttentionBlock(nn.Module):\n",
        "    def __init__(self, d_model: int, h: int, dropout: float) -> None:\n",
        "        super().__init__()\n",
        "        self.d_model = d_model\n",
        "        self.h = h\n",
        "        assert d_model % h == 0, \"d_model is not divisible by h\"\n",
        "\n",
        "        self.d_k = d_model // h\n",
        "        self.w_q = nn.Linear(d_model, d_model, bias=False)\n",
        "        self.w_k = nn.Linear(d_model, d_model, bias=False)\n",
        "        self.w_v = nn.Linear(d_model, d_model, bias=False)\n",
        "        self.w_o = nn.Linear(d_model, d_model, bias=False)\n",
        "        self.dropout = nn.Dropout(dropout)\n",
        "\n",
        "    @staticmethod\n",
        "    def attention(query, key, value, mask, dropout: nn.Dropout):\n",
        "        d_k = query.shape[-1]\n",
        "        attention_scores = (query @ key.transpose(-2, -1)) / math.sqrt(d_k)\n",
        "        if mask is not None:\n",
        "            attention_scores = attention_scores.masked_fill(mask == 0, -1e9).clone()\n",
        "        attention_scores = attention_scores.softmax(dim=-1)\n",
        "        if dropout is not None:\n",
        "            attention_scores = dropout(attention_scores)\n",
        "        return (attention_scores @ value), attention_scores\n",
        "\n",
        "    def forward(self, q, k, v, mask):\n",
        "        if mask is not None:\n",
        "            mask = mask.unsqueeze(1).repeat(1, self.h, 1, 1)\n",
        "        query = self.w_q(q)\n",
        "        key = self.w_k(k)\n",
        "        value = self.w_v(v)\n",
        "\n",
        "        query = query.view(query.shape[0], query.shape[1], self.h, self.d_k).transpose(1, 2)\n",
        "        key = key.view(key.shape[0], key.shape[1], self.h, self.d_k).transpose(1, 2)\n",
        "        value = value.view(value.shape[0], value.shape[1], self.h, self.d_k).transpose(1, 2)\n",
        "\n",
        "        x, self.attention_scores = MultiHeadAttentionBlock.attention(query, key, value, mask, self.dropout)\n",
        "\n",
        "        x = x.transpose(1, 2).contiguous().view(x.shape[0], -1, self.h * self.d_k)\n",
        "        return self.w_o(x)\n"
      ]
    },
    {
      "cell_type": "markdown",
      "metadata": {
        "id": "CurUkG1h85Pc"
      },
      "source": [
        "## Encoder"
      ]
    },
    {
      "cell_type": "code",
      "execution_count": null,
      "metadata": {
        "id": "mZUXRFpLFc4K"
      },
      "outputs": [],
      "source": [
        "import torch.nn.functional as F"
      ]
    },
    {
      "cell_type": "code",
      "execution_count": null,
      "metadata": {
        "id": "bxs6XF7errJS"
      },
      "outputs": [],
      "source": [
        "# expected input shape: (batch_size, seq_length, model_dim)\n",
        "class EncoderLayer(nn.Module):\n",
        "    def __init__(self, d_model, h, ff_hidden_dim, dropout):\n",
        "        super().__init__()\n",
        "        self.self_attn = MultiHeadAttentionBlock(d_model, h, dropout)\n",
        "        self.linear1 = nn.Linear(d_model, ff_hidden_dim)\n",
        "        self.linear2 = nn.Linear(ff_hidden_dim, d_model)\n",
        "        self.norm1 = nn.LayerNorm(d_model)\n",
        "        self.norm2 = nn.LayerNorm(d_model)\n",
        "        self.dropout = nn.Dropout(dropout)\n",
        "\n",
        "    def forward(self, src, src_mask=None):\n",
        "        src2 = self.self_attn(src, src, src, mask=src_mask)\n",
        "        src = src + self.dropout(src2)  # not an in-place operation\n",
        "        src = self.norm1(src)\n",
        "\n",
        "        src2 = self.linear2(self.dropout(F.relu(self.linear1(src))))\n",
        "        src = src + self.dropout(src2)  # not an in-place operation\n",
        "        src = self.norm2(src)\n",
        "        return src\n",
        "\n",
        "\n",
        "class Encoder(nn.Module):\n",
        "    def __init__(self, num_layers, d_model, h, ff_hidden_dim, dropout):\n",
        "        super(Encoder, self).__init__()\n",
        "        self.layers = nn.ModuleList([EncoderLayer(d_model, h, ff_hidden_dim, dropout) for _ in range(num_layers)])\n",
        "\n",
        "    def forward(self, src, mask=None):\n",
        "        for layer in self.layers:\n",
        "            src = layer(src, mask)\n",
        "        return src\n"
      ]
    },
    {
      "cell_type": "markdown",
      "metadata": {
        "id": "IaC5e3S7JQCL"
      },
      "source": [
        "## Decoder"
      ]
    },
    {
      "cell_type": "code",
      "execution_count": null,
      "metadata": {
        "id": "f2aNp3BhJU7K"
      },
      "outputs": [],
      "source": [
        "class DecoderLayer(nn.Module):\n",
        "    def __init__(self, d_model, h, ff_hidden_dim, dropout):\n",
        "        super().__init__()\n",
        "        self.self_attn = MultiHeadAttentionBlock(d_model, h, dropout)\n",
        "        self.cross_attn = MultiHeadAttentionBlock(d_model, h, dropout)\n",
        "        self.linear1 = nn.Linear(d_model, ff_hidden_dim)\n",
        "        self.linear2 = nn.Linear(ff_hidden_dim, d_model)\n",
        "        self.norm1 = nn.LayerNorm(d_model)\n",
        "        self.norm2 = nn.LayerNorm(d_model)\n",
        "        self.norm3 = nn.LayerNorm(d_model)\n",
        "        self.dropout = nn.Dropout(dropout)\n",
        "\n",
        "    def forward(self, tgt, src, src_mask=None, tgt_mask=None):\n",
        "        tgt2 = self.self_attn(tgt, tgt, tgt, mask=tgt_mask)\n",
        "        tgt = tgt + self.dropout(tgt2)  # not an in-place operation\n",
        "        tgt = self.norm1(tgt)\n",
        "\n",
        "        tgt2 = self.cross_attn(tgt, src, src, mask=src_mask)\n",
        "        tgt = tgt + self.dropout(tgt2)  # not an in-place operation\n",
        "        tgt = self.norm2(tgt)\n",
        "\n",
        "        tgt2 = self.linear2(self.dropout(F.relu(self.linear1(tgt))))\n",
        "        tgt = tgt + self.dropout(tgt2)  # not an in-place operation\n",
        "        tgt = self.norm3(tgt)\n",
        "\n",
        "        return tgt\n",
        "\n",
        "\n",
        "class Decoder(nn.Module):\n",
        "    def __init__(self, num_layers, d_model, h, ff_hidden_dim, dropout):\n",
        "        super().__init__()\n",
        "        self.layers = nn.ModuleList([DecoderLayer(d_model, h, ff_hidden_dim, dropout) for _ in range(num_layers)])\n",
        "\n",
        "    def forward(self, tgt, memory, src_mask=None, tgt_mask=None):\n",
        "\n",
        "        for layer in self.layers:\n",
        "            tgt = layer(tgt, memory, src_mask=src_mask, tgt_mask=tgt_mask)\n",
        "        return tgt"
      ]
    },
    {
      "cell_type": "markdown",
      "metadata": {
        "id": "IV9HiPwyNjTo"
      },
      "source": [
        "## Projection"
      ]
    },
    {
      "cell_type": "code",
      "execution_count": null,
      "metadata": {
        "id": "u7mSzrY2U_S6"
      },
      "outputs": [],
      "source": [
        "class ProjectionLayer(nn.Module):\n",
        "\n",
        "    def __init__(self, d_model, d_output) -> None:\n",
        "        super().__init__()\n",
        "        self.proj = nn.Linear(d_model, d_output)\n",
        "\n",
        "    def forward(self, x) -> None:\n",
        "        # feed it last decoder output for prediction\n",
        "        # (batch, seq_len, d_model) --> (batch, seq_len, vocab_size)\n",
        "        return self.proj(x)"
      ]
    },
    {
      "cell_type": "markdown",
      "metadata": {
        "id": "JROd7GaiSzU1"
      },
      "source": [
        "## Transformer"
      ]
    },
    {
      "cell_type": "code",
      "execution_count": null,
      "metadata": {
        "id": "kAK6Xh6nqn7i"
      },
      "outputs": [],
      "source": [
        "import torch\n",
        "import torch.nn as nn\n",
        "import torch.distributions as dist\n",
        "\n",
        "class GaussianSample(nn.Module):\n",
        "    def __init__(self, input_dim, output_dim=3):\n",
        "        super(GaussianSample, self).__init__()\n",
        "        self.linear = nn.Linear(input_dim, output_dim)\n",
        "\n",
        "    def forward(self, x):\n",
        "        # Transform input tensor\n",
        "        transformed = self.linear(F.relu(x))  # Shape: (batch_size, seq_len, 3)\n",
        "\n",
        "        # Extract parameters\n",
        "        mean1 = transformed[..., 0]  # Shape: (batch_size, seq_len)\n",
        "        mean2 = transformed[..., 1]  # Shape: (batch_size, seq_len)\n",
        "        log_var = transformed[..., 2]  # Shape: (batch_size, seq_len)\n",
        "\n",
        "        # Variance must be positive, so we use an exponential function\n",
        "        var = torch.exp(log_var)  # Shape: (batch_size, seq_len)\n",
        "\n",
        "        # Create Gaussian distributions\n",
        "        dist1 = dist.Normal(mean1, torch.sqrt(var))\n",
        "        dist2 = dist.Normal(mean2, torch.sqrt(var))\n",
        "\n",
        "        # Sample from the distributions\n",
        "        sample1 = dist1.rsample()  # Shape: (batch_size, seq_len)\n",
        "        sample2 = dist2.rsample()  # Shape: (batch_size, seq_len)\n",
        "\n",
        "        # Stack samples to get the final output shape (batch_size, seq_len, 2)\n",
        "        samples = torch.stack([sample1, sample2], dim=-1)  # Shape: (batch_size, seq_len, 2)\n",
        "\n",
        "        return samples\n",
        "\n",
        "# Example\n",
        "batch_size = 5\n",
        "hidden_size = 10\n",
        "input_tensor = torch.randn(batch_size, 13, hidden_size)\n",
        "\n",
        "# Create the model and forward the input tensor\n",
        "model = GaussianSample(hidden_size)\n",
        "samples = model(input_tensor)"
      ]
    },
    {
      "cell_type": "code",
      "execution_count": null,
      "metadata": {
        "id": "VoJRHfDItMMP"
      },
      "outputs": [],
      "source": [
        "class Transformer(nn.Module):\n",
        "  def __init__(self, d_input, d_model, num_layers, h, ff_hidden_dim, dropout):\n",
        "    super(Transformer, self).__init__()\n",
        "    self.embedding =  Embedding(d_input, d_model)\n",
        "    self.encoder = Encoder(num_layers, d_model, h, ff_hidden_dim, dropout)\n",
        "    self.decoder = Decoder(num_layers, d_model, h, ff_hidden_dim, dropout)\n",
        "    #self.project = nn.Linear(d_model, d_input)\n",
        "    self.sampler = GaussianSample(d_model)\n",
        "\n",
        "  def forward(self, src, tgt, src_mask=None, tgt_src_mask=None, tgt_mask=None, inference= False):\n",
        "    src = self.embedding(src)\n",
        "    tgt = self.embedding(tgt)\n",
        "    encoder_out = self.encoder(src, src_mask)\n",
        "    decoder_out = self.decoder(tgt, encoder_out, src_mask= tgt_src_mask, tgt_mask= tgt_mask)\n",
        "    if inference == True:\n",
        "      sampler_out = self.sampler(decoder_out[:, -1])\n",
        "    else:\n",
        "      sampler_out = self.sampler(decoder_out)\n",
        "\n",
        "    return sampler_out\n",
        "    '''\n",
        "    if inference == True:\n",
        "      project_out = self.project(decoder_out[:, -1])\n",
        "    else:\n",
        "      project_out = self.project(decoder_out)\n",
        "\n",
        "    return project_out\n",
        "    '''"
      ]
    },
    {
      "cell_type": "markdown",
      "source": [
        "# Sample data preprocess"
      ],
      "metadata": {
        "id": "BIgyuKTkNMzw"
      }
    },
    {
      "cell_type": "markdown",
      "source": [
        "Approach:\n",
        "* calculating angles of change and scale of change for each consecutive trajectory points.\n",
        "* scaling the scales to make loss not very small\n",
        "* calculating loss for each one ans then their weighted sum"
      ],
      "metadata": {
        "id": "wbH62v5iXCrL"
      }
    },
    {
      "cell_type": "markdown",
      "source": [
        "* version 1: not including the coordinates_only starting point (would probably work for short paths but not long ones, append coordinate of last input point, should define a separate embedding for it)\n",
        "* version 2: including the coordinates (similart but instead of only end, for every m mins)"
      ],
      "metadata": {
        "id": "mMQ-IwxhDW9s"
      }
    },
    {
      "cell_type": "markdown",
      "source": [
        "* have to define new sequences with shorter paths for train and test"
      ],
      "metadata": {
        "id": "P6uGHSiQFKKH"
      }
    },
    {
      "cell_type": "code",
      "source": [
        "def prepaire_batch(batch_idx, max_len_input, mex_len_pred): # here we have the data in matrix for and want to iterate over it by batches of indexees\n",
        "    # concat x,y axes for input and pred\n",
        "    axes           = torch.stack((train_tensors_dict['latitude']['input'][batch_idx],\n",
        "                                train_tensors_dict['longitude']['input'][batch_idx])\n",
        "                                , dim=2)"
      ],
      "metadata": {
        "id": "HcbDImviASjf"
      },
      "execution_count": null,
      "outputs": []
    },
    {
      "cell_type": "code",
      "source": [
        "coords = torch.stack((train_tensors_dict['latitude']['input'][[1]],\n",
        "                                train_tensors_dict['longitude']['input'][[1]])\n",
        "                                , dim=2)\n",
        "coords = np.array(coords)[0][:30]\n",
        "coords.shape"
      ],
      "metadata": {
        "colab": {
          "base_uri": "https://localhost:8080/"
        },
        "id": "j_fgo1T2AYLj",
        "outputId": "51e75f15-fb9d-46ab-ff40-fde06e899b10"
      },
      "execution_count": null,
      "outputs": [
        {
          "output_type": "execute_result",
          "data": {
            "text/plain": [
              "(30, 2)"
            ]
          },
          "metadata": {},
          "execution_count": 53
        }
      ]
    },
    {
      "cell_type": "code",
      "source": [
        "import numpy as np\n",
        "import torch\n",
        "import torch.nn as nn\n",
        "import torch.optim as optim\n",
        "\n",
        "# Sample data: a list of coordinates (latitude, longitude)\n",
        "\n",
        "\n",
        "# Function to compute angle and scale of change between consecutive points\n",
        "def compute_angle_and_scale(coords, scale_factor=1e3):\n",
        "    deltas = np.diff(coords, axis=0)\n",
        "    scales = np.linalg.norm(deltas, axis=1) * scale_factor  # scale up\n",
        "    angles = np.arctan2(deltas[:, 1], deltas[:, 0])  # calculate angle in radians\n",
        "    return scales, angles\n",
        "\n",
        "# Generate angle and scale features from coordinates\n",
        "scales, angles = compute_angle_and_scale(coords)\n",
        "print('scales: ', scales)\n",
        "print('angles: ', angles)\n",
        "starting_point = coords[0]\n",
        "print(starting_point)\n",
        "\n",
        "\n",
        "# Prepare input features: replicate starting_point and append scales, angles as columns\n",
        "num_points = len(scales)\n",
        "starting_points = np.tile(starting_point, (num_points, 1))  # repeat starting point for each step\n",
        "input_features = np.column_stack([starting_points, scales, angles])\n",
        "print('input features: ', input_features)\n",
        "\n",
        "'''\n",
        "# Sample Model (Transformer) setup\n",
        "class TrajectoryModel(nn.Module):\n",
        "    def __init__(self, d_model=128, num_layers=4, num_heads=4, dim_ff=512, dropout=0.1):\n",
        "        super(TrajectoryModel, self).__init__()\n",
        "        self.encoder_layer = nn.TransformerEncoderLayer(d_model=d_model, nhead=num_heads, dim_feedforward=dim_ff, dropout=dropout)\n",
        "        self.encoder = nn.TransformerEncoder(self.encoder_layer, num_layers=num_layers)\n",
        "        self.fc = nn.Linear(d_model, 2)  # Predicts latitude and longitude deltas\n",
        "\n",
        "    def forward(self, x):\n",
        "        x = x.permute(1, 0, 2)  # Transformer expects (seq_len, batch, features)\n",
        "        x = self.encoder(x)\n",
        "        return self.fc(x[-1])  # Final position prediction (latitude, longitude)\n",
        "\n",
        "# Define a custom loss function to balance MSE on relative movement and final target\n",
        "class CustomTrajectoryLoss(nn.Module):\n",
        "    def __init__(self, alpha=0.7):\n",
        "        super(CustomTrajectoryLoss, self).__init__()\n",
        "        self.alpha = alpha  # weight for final position vs relative changes\n",
        "\n",
        "    def forward(self, pred_deltas, true_deltas, pred_final, true_final):\n",
        "        # MSE for relative changes (angles and scales)\n",
        "        loss_relative = nn.MSELoss()(pred_deltas, true_deltas)\n",
        "        # MSE for final position\n",
        "        loss_final = nn.MSELoss()(pred_final, true_final)\n",
        "        return self.alpha * loss_relative + (1 - self.alpha) * loss_final\n",
        "\n",
        "# Prepare data for model (sample tensor, would come from preprocessed data)\n",
        "input_tensor = torch.tensor(input_features, dtype=torch.float32).unsqueeze(0)  # batch size of 1\n",
        "target_deltas = torch.tensor(np.diff(coords, axis=0), dtype=torch.float32).unsqueeze(0)\n",
        "target_final = torch.tensor(coords[-1], dtype=torch.float32).unsqueeze(0)\n",
        "\n",
        "# Model, loss, and optimizer setup\n",
        "model = TrajectoryModel()\n",
        "criterion = CustomTrajectoryLoss(alpha=0.7)\n",
        "optimizer = optim.Adam(model.parameters(), lr=1e-4)\n",
        "\n",
        "# Training step example\n",
        "model.train()\n",
        "optimizer.zero_grad()\n",
        "pred_deltas = model(input_tensor)  # Predictions (replace with proper sequence if needed)\n",
        "loss = criterion(pred_deltas, target_deltas, pred_deltas[-1], target_final)\n",
        "loss.backward()\n",
        "optimizer.step()\n",
        "\n",
        "print(f\"Training Loss: {loss.item()}\")\n",
        "'''"
      ],
      "metadata": {
        "colab": {
          "base_uri": "https://localhost:8080/",
          "height": 851
        },
        "id": "z0b-ilnzNR9P",
        "outputId": "88553f03-7371-42d3-8130-39aab8477509"
      },
      "execution_count": null,
      "outputs": [
        {
          "output_type": "stream",
          "name": "stdout",
          "text": [
            "scales:  [2.2239392e+00 9.6963120e-01 4.0787802e+00 1.4191955e+00 3.4129670e+00\n",
            " 1.9361534e+00 2.8939652e+00 4.5405107e+00 7.1089911e+00 8.8380470e+00\n",
            " 1.1586313e+01 1.3738498e+01 1.3939623e+01 1.3823541e+01 1.3730998e+01\n",
            " 1.3490179e+01 1.3969980e+01 1.4772376e+01 1.4450988e+01 1.3658280e+01\n",
            " 1.3506229e+01 1.3868841e+01 1.0977753e+01 2.9444423e+00 1.4051348e+00\n",
            " 2.4425982e-02 1.1444092e-02 0.0000000e+00 2.5481949e+00]\n",
            "angles:  [ 2.965728    2.9032934   2.941996    2.946833    2.9481428   2.9472883\n",
            "  2.9317882   2.9522707   2.2344751   2.233808    2.9487815  -2.865429\n",
            "  2.8876536   2.79235     2.7857485   2.9162986   2.9897323  -2.4652386\n",
            " -2.4554732   3.0346982   2.9014776   2.7540376   1.4729948   0.22738148\n",
            " -1.6142472   2.4668517   0.          0.         -2.3180773 ]\n",
            "[  37.79795 -122.42219]\n",
            "input features:  [[ 3.7797951e+01 -1.2242219e+02  2.2239392e+00  2.9657280e+00]\n",
            " [ 3.7797951e+01 -1.2242219e+02  9.6963120e-01  2.9032934e+00]\n",
            " [ 3.7797951e+01 -1.2242219e+02  4.0787802e+00  2.9419961e+00]\n",
            " [ 3.7797951e+01 -1.2242219e+02  1.4191955e+00  2.9468329e+00]\n",
            " [ 3.7797951e+01 -1.2242219e+02  3.4129670e+00  2.9481428e+00]\n",
            " [ 3.7797951e+01 -1.2242219e+02  1.9361534e+00  2.9472883e+00]\n",
            " [ 3.7797951e+01 -1.2242219e+02  2.8939652e+00  2.9317882e+00]\n",
            " [ 3.7797951e+01 -1.2242219e+02  4.5405107e+00  2.9522707e+00]\n",
            " [ 3.7797951e+01 -1.2242219e+02  7.1089911e+00  2.2344751e+00]\n",
            " [ 3.7797951e+01 -1.2242219e+02  8.8380470e+00  2.2338080e+00]\n",
            " [ 3.7797951e+01 -1.2242219e+02  1.1586313e+01  2.9487815e+00]\n",
            " [ 3.7797951e+01 -1.2242219e+02  1.3738498e+01 -2.8654289e+00]\n",
            " [ 3.7797951e+01 -1.2242219e+02  1.3939623e+01  2.8876536e+00]\n",
            " [ 3.7797951e+01 -1.2242219e+02  1.3823541e+01  2.7923501e+00]\n",
            " [ 3.7797951e+01 -1.2242219e+02  1.3730998e+01  2.7857485e+00]\n",
            " [ 3.7797951e+01 -1.2242219e+02  1.3490179e+01  2.9162986e+00]\n",
            " [ 3.7797951e+01 -1.2242219e+02  1.3969980e+01  2.9897323e+00]\n",
            " [ 3.7797951e+01 -1.2242219e+02  1.4772376e+01 -2.4652386e+00]\n",
            " [ 3.7797951e+01 -1.2242219e+02  1.4450988e+01 -2.4554732e+00]\n",
            " [ 3.7797951e+01 -1.2242219e+02  1.3658280e+01  3.0346982e+00]\n",
            " [ 3.7797951e+01 -1.2242219e+02  1.3506229e+01  2.9014776e+00]\n",
            " [ 3.7797951e+01 -1.2242219e+02  1.3868841e+01  2.7540376e+00]\n",
            " [ 3.7797951e+01 -1.2242219e+02  1.0977753e+01  1.4729948e+00]\n",
            " [ 3.7797951e+01 -1.2242219e+02  2.9444423e+00  2.2738148e-01]\n",
            " [ 3.7797951e+01 -1.2242219e+02  1.4051348e+00 -1.6142472e+00]\n",
            " [ 3.7797951e+01 -1.2242219e+02  2.4425982e-02  2.4668517e+00]\n",
            " [ 3.7797951e+01 -1.2242219e+02  1.1444092e-02  0.0000000e+00]\n",
            " [ 3.7797951e+01 -1.2242219e+02  0.0000000e+00  0.0000000e+00]\n",
            " [ 3.7797951e+01 -1.2242219e+02  2.5481949e+00 -2.3180773e+00]]\n"
          ]
        },
        {
          "output_type": "execute_result",
          "data": {
            "text/plain": [
              "'\\n# Sample Model (Transformer) setup\\nclass TrajectoryModel(nn.Module):\\n    def __init__(self, d_model=128, num_layers=4, num_heads=4, dim_ff=512, dropout=0.1):\\n        super(TrajectoryModel, self).__init__()\\n        self.encoder_layer = nn.TransformerEncoderLayer(d_model=d_model, nhead=num_heads, dim_feedforward=dim_ff, dropout=dropout)\\n        self.encoder = nn.TransformerEncoder(self.encoder_layer, num_layers=num_layers)\\n        self.fc = nn.Linear(d_model, 2)  # Predicts latitude and longitude deltas\\n\\n    def forward(self, x):\\n        x = x.permute(1, 0, 2)  # Transformer expects (seq_len, batch, features)\\n        x = self.encoder(x)\\n        return self.fc(x[-1])  # Final position prediction (latitude, longitude)\\n\\n# Define a custom loss function to balance MSE on relative movement and final target\\nclass CustomTrajectoryLoss(nn.Module):\\n    def __init__(self, alpha=0.7):\\n        super(CustomTrajectoryLoss, self).__init__()\\n        self.alpha = alpha  # weight for final position vs relative changes\\n\\n    def forward(self, pred_deltas, true_deltas, pred_final, true_final):\\n        # MSE for relative changes (angles and scales)\\n        loss_relative = nn.MSELoss()(pred_deltas, true_deltas)\\n        # MSE for final position\\n        loss_final = nn.MSELoss()(pred_final, true_final)\\n        return self.alpha * loss_relative + (1 - self.alpha) * loss_final\\n\\n# Prepare data for model (sample tensor, would come from preprocessed data)\\ninput_tensor = torch.tensor(input_features, dtype=torch.float32).unsqueeze(0)  # batch size of 1\\ntarget_deltas = torch.tensor(np.diff(coords, axis=0), dtype=torch.float32).unsqueeze(0)\\ntarget_final = torch.tensor(coords[-1], dtype=torch.float32).unsqueeze(0)\\n\\n# Model, loss, and optimizer setup\\nmodel = TrajectoryModel()\\ncriterion = CustomTrajectoryLoss(alpha=0.7)\\noptimizer = optim.Adam(model.parameters(), lr=1e-4)\\n\\n# Training step example\\nmodel.train()\\noptimizer.zero_grad()\\npred_deltas = model(input_tensor)  # Predictions (replace with proper sequence if needed)\\nloss = criterion(pred_deltas, target_deltas, pred_deltas[-1], target_final)\\nloss.backward()\\noptimizer.step()\\n\\nprint(f\"Training Loss: {loss.item()}\")\\n'"
            ],
            "application/vnd.google.colaboratory.intrinsic+json": {
              "type": "string"
            }
          },
          "metadata": {},
          "execution_count": 56
        }
      ]
    },
    {
      "cell_type": "code",
      "source": [
        "scales[3]"
      ],
      "metadata": {
        "colab": {
          "base_uri": "https://localhost:8080/"
        },
        "id": "ONgzDQNiQqDF",
        "outputId": "35604b70-c63d-4187-dd15-c3f844bbb4a1"
      },
      "execution_count": null,
      "outputs": [
        {
          "output_type": "execute_result",
          "data": {
            "text/plain": [
              "7.07106781159778"
            ]
          },
          "metadata": {},
          "execution_count": 22
        }
      ]
    },
    {
      "cell_type": "markdown",
      "metadata": {
        "id": "q7iSK6Pew9gX"
      },
      "source": [
        "# Train"
      ]
    },
    {
      "cell_type": "markdown",
      "metadata": {
        "id": "x_iv4yAFfoe-"
      },
      "source": [
        "## prepaire batch (Cabspotting)"
      ]
    },
    {
      "cell_type": "code",
      "execution_count": null,
      "metadata": {
        "id": "glWv_u39Yo3u"
      },
      "outputs": [],
      "source": [
        "def prepaire_batch(batch_idx, max_len_input, mex_len_pred): # here we have the data in matrix for and want to iterate over it by batches of indexees\n",
        "    # concat x,y axes for input and pred\n",
        "    axes           = torch.stack((train_tensors_dict['latitude']['input'][batch_idx],\n",
        "                                train_tensors_dict['longitude']['input'][batch_idx])\n",
        "                                , dim=2)\n",
        "\n",
        "    # token_type_ids = train_tensors_dict['occupancy']['input'][i['idx']]  commented cuz don't wanna consider occupancy in this case\n",
        "\n",
        "    axes_pred      = torch.stack((train_tensors_dict['latitude']['pred'][batch_idx],\n",
        "                                  train_tensors_dict['longitude']['pred'][batch_idx])\n",
        "                                  , dim=2)\n",
        "\n",
        "    # create attention masks for src, tgt and tgt_src\n",
        "    seq_lens              = [len(train_data[batch_idx[i].item()]['time']) for i in range(len(batch_idx))] # we can use other cols (e.g. latitude) too, it's kinda just to know the len of seq\n",
        "    seq_lens_input        = [seq_len - seq_len//5 for seq_len in seq_lens]\n",
        "    seq_lens_pred         = [          seq_len//5 for seq_len in seq_lens]\n",
        "\n",
        "\n",
        "    attention_masks_input = [torch.tensor([1 for _ in range(seq_len)]\n",
        "                                           + [0]*(max_len_input - seq_len))\n",
        "                            for seq_len in seq_lens_input]\n",
        "    attention_masks_pred = [torch.tensor([1 for _ in range(seq_len-1)]\n",
        "                                           + [0]*(mex_len_pred - seq_len)).view(-1, 1).repeat(1, 2)\n",
        "                            for seq_len in seq_lens_pred]\n",
        "\n",
        "\n",
        "    src_mask  = [torch.ger(attention_mask, attention_mask) for attention_mask in attention_masks_input]\n",
        "    #pred_mask = [torch.ger(attention_mask, attention_mask) for attention_mask in attention_masks_pred]\n",
        "    src_mask  = torch.stack(src_mask)\n",
        "    #pred_mask = torch.stack(pred_mask)\n",
        "    pred_mask = torch.triu(torch.ones((axes.shape[0], mex_len_pred-1, mex_len_pred-1)), diagonal=1).type(torch.int)\n",
        "    pred_mask = (pred_mask+1)%2\n",
        "\n",
        "    loss_mask = [attention_mask for attention_mask in attention_masks_pred]\n",
        "    loss_mask = torch.stack(loss_mask)\n",
        "\n",
        "    pred_src_mask = [attention_mask.repeat(mex_len_pred-1,1) for attention_mask in attention_masks_input]\n",
        "    pred_src_mask = torch.stack(pred_src_mask)\n",
        "\n",
        "    output = dict()\n",
        "    output['axes'] = dict()\n",
        "    output['axes']['input'] = axes\n",
        "    output['axes']['pred']  = axes_pred\n",
        "    output['mask'] = dict()\n",
        "    output['mask']['src'] = src_mask\n",
        "    output['mask']['tgt'] = pred_mask\n",
        "    output['mask']['tgt_src'] = pred_src_mask\n",
        "    output['mask']['loss'] = loss_mask\n",
        "\n",
        "    return output"
      ]
    },
    {
      "cell_type": "code",
      "execution_count": null,
      "metadata": {
        "colab": {
          "base_uri": "https://localhost:8080/"
        },
        "id": "RwELTTHVj07z",
        "outputId": "7320f96a-fabd-4e8a-b443-12ed31a465d2"
      },
      "outputs": [
        {
          "output_type": "execute_result",
          "data": {
            "text/plain": [
              "[37.75153, 37.75149, 37.75149, 37.75149, 37.75144]"
            ]
          },
          "metadata": {},
          "execution_count": 14
        }
      ],
      "source": [
        "train_data[0]['latitude'][:5]"
      ]
    },
    {
      "cell_type": "code",
      "execution_count": null,
      "metadata": {
        "id": "3yDp9Z48jzRa"
      },
      "outputs": [],
      "source": [
        "def prepaire_batch_test(batch_idx, max_len_input, mex_len_pred): # here we have the data in matrix for and want to iterate over it by batches of indexees\n",
        "    # concat x,y axes for input and pred\n",
        "    axes           = torch.stack((test_tensors_dict['latitude']['input'][batch_idx],\n",
        "                                test_tensors_dict['longitude']['input'][batch_idx])\n",
        "                                , dim=2)\n",
        "\n",
        "    # token_type_ids = test_tensors_dict['occupancy']['input'][i['idx']]  commented cuz don't wanna consider occupancy in this case\n",
        "\n",
        "    axes_pred      = torch.stack((test_tensors_dict['latitude']['pred'][batch_idx],\n",
        "                                  test_tensors_dict['longitude']['pred'][batch_idx])\n",
        "                                  , dim=2)\n",
        "\n",
        "    # create attention masks for src, tgt and tgt_src\n",
        "    seq_lens              = [len(test_data[batch_idx[i].item()]['time']) for i in range(len(batch_idx))] # we can use other cols (e.g. latitude) too, it's kinda just to know the len of seq\n",
        "    seq_lens_input        = [seq_len - seq_len//5 for seq_len in seq_lens]\n",
        "    seq_lens_pred         = [          seq_len//5 for seq_len in seq_lens]\n",
        "\n",
        "\n",
        "    attention_masks_input = [torch.tensor([1 for _ in range(seq_len)]\n",
        "                                           + [0]*(max_len_input - seq_len))\n",
        "                            for seq_len in seq_lens_input]\n",
        "    attention_masks_pred = [torch.tensor([1 for _ in range(seq_len-1)]\n",
        "                                           + [0]*(mex_len_pred - seq_len)).view(-1, 1).repeat(1, 2)\n",
        "                            for seq_len in seq_lens_pred]\n",
        "\n",
        "\n",
        "    src_mask  = [torch.ger(attention_mask, attention_mask) for attention_mask in attention_masks_input]\n",
        "    #pred_mask = [torch.ger(attention_mask, attention_mask) for attention_mask in attention_masks_pred]\n",
        "    src_mask  = torch.stack(src_mask)\n",
        "    #pred_mask = torch.stack(pred_mask)\n",
        "    pred_mask = torch.triu(torch.ones((axes.shape[0], mex_len_pred-1, mex_len_pred-1)), diagonal=1).type(torch.int)\n",
        "    pred_mask = (pred_mask+1)%2\n",
        "\n",
        "    loss_mask = [attention_mask for attention_mask in attention_masks_pred]\n",
        "    loss_mask = torch.stack(loss_mask)\n",
        "\n",
        "    pred_src_mask = [attention_mask.repeat(mex_len_pred-1,1) for attention_mask in attention_masks_input]\n",
        "    pred_src_mask = torch.stack(pred_src_mask)\n",
        "\n",
        "    output = dict()\n",
        "    output['axes'] = dict()\n",
        "    output['axes']['input'] = axes\n",
        "    output['axes']['pred']  = axes_pred\n",
        "    output['mask'] = dict()\n",
        "    output['mask']['src'] = src_mask\n",
        "    output['mask']['tgt'] = pred_mask\n",
        "    output['mask']['tgt_src'] = pred_src_mask\n",
        "    output['mask']['loss'] = loss_mask\n",
        "\n",
        "    return output"
      ]
    },
    {
      "cell_type": "code",
      "execution_count": null,
      "metadata": {
        "id": "doYCEdWOldbW",
        "colab": {
          "base_uri": "https://localhost:8080/",
          "height": 193
        },
        "outputId": "fdf33d5d-abcb-456b-e82c-021057669af0"
      },
      "outputs": [
        {
          "output_type": "error",
          "ename": "NameError",
          "evalue": "name 'test_idx_loader' is not defined",
          "traceback": [
            "\u001b[0;31m---------------------------------------------------------------------------\u001b[0m",
            "\u001b[0;31mNameError\u001b[0m                                 Traceback (most recent call last)",
            "\u001b[0;32m<ipython-input-16-c5116c11a26b>\u001b[0m in \u001b[0;36m<cell line: 1>\u001b[0;34m()\u001b[0m\n\u001b[0;32m----> 1\u001b[0;31m \u001b[0;32mfor\u001b[0m \u001b[0mi\u001b[0m \u001b[0;32min\u001b[0m \u001b[0mtest_idx_loader\u001b[0m\u001b[0;34m:\u001b[0m\u001b[0;34m\u001b[0m\u001b[0;34m\u001b[0m\u001b[0m\n\u001b[0m\u001b[1;32m      2\u001b[0m   \u001b[0mbatch_idx\u001b[0m \u001b[0;34m=\u001b[0m \u001b[0mi\u001b[0m\u001b[0;34m[\u001b[0m\u001b[0;34m'idx'\u001b[0m\u001b[0;34m]\u001b[0m\u001b[0;34m\u001b[0m\u001b[0;34m\u001b[0m\u001b[0m\n\u001b[1;32m      3\u001b[0m   \u001b[0moutput\u001b[0m \u001b[0;34m=\u001b[0m \u001b[0mprepaire_batch\u001b[0m\u001b[0;34m(\u001b[0m\u001b[0mbatch_idx\u001b[0m\u001b[0;34m,\u001b[0m \u001b[0mmax_len_input\u001b[0m\u001b[0;34m=\u001b[0m\u001b[0;36m120\u001b[0m\u001b[0;34m,\u001b[0m \u001b[0mmex_len_pred\u001b[0m\u001b[0;34m=\u001b[0m\u001b[0;36m30\u001b[0m\u001b[0;34m)\u001b[0m\u001b[0;34m\u001b[0m\u001b[0;34m\u001b[0m\u001b[0m\n\u001b[1;32m      4\u001b[0m   \u001b[0;32mbreak\u001b[0m\u001b[0;34m\u001b[0m\u001b[0;34m\u001b[0m\u001b[0m\n",
            "\u001b[0;31mNameError\u001b[0m: name 'test_idx_loader' is not defined"
          ]
        }
      ],
      "source": [
        "for i in test_idx_loader:\n",
        "  batch_idx = i['idx']\n",
        "  output = prepaire_batch(batch_idx, max_len_input=120, mex_len_pred=30)\n",
        "  break"
      ]
    },
    {
      "cell_type": "code",
      "execution_count": null,
      "metadata": {
        "id": "R9puohqlhmS1"
      },
      "outputs": [],
      "source": [
        "'''\n",
        "train_data\n",
        "test_tensors_dict\n",
        "train_idx\n",
        "train_idx_loader\n",
        "\n",
        "\n",
        "for i in valid_idx_loader:\n",
        "  print(test_tensors_dict['time']['input'][i['idx']].shape)\n",
        "\n",
        "\n",
        "axes = torch.stack((train_tensors_dict['latitude']['input'][i['idx']],\n",
        "                    train_tensors_dict['longitude']['input'][i['idx']])\n",
        "                    , dim=2)\n",
        "'''"
      ]
    },
    {
      "cell_type": "markdown",
      "metadata": {
        "id": "SEXc6v2Y4Y2M"
      },
      "source": [
        "## train loop"
      ]
    },
    {
      "cell_type": "code",
      "execution_count": null,
      "metadata": {
        "id": "TjExd2Ik-Oqv"
      },
      "outputs": [],
      "source": [
        "# define hyper parameters\n",
        "# validation loop and use it for training\n",
        "# lr scheduler?"
      ]
    },
    {
      "cell_type": "code",
      "execution_count": null,
      "metadata": {
        "id": "OC400kvt6oOz"
      },
      "outputs": [],
      "source": [
        "import tqdm\n",
        "from tqdm import tqdm"
      ]
    },
    {
      "cell_type": "code",
      "execution_count": null,
      "metadata": {
        "id": "VdwOvRaO61az"
      },
      "outputs": [],
      "source": [
        "# parameters\n",
        "\n",
        "import torch.optim as optim\n",
        "\n",
        "d_input = 2\n",
        "d_model = 32\n",
        "num_layers = 6\n",
        "h = 8\n",
        "ff_hidden_dim = 64\n",
        "dropout = 0.1\n",
        "\n",
        "model = Transformer(d_input, d_model, num_layers, h, ff_hidden_dim, dropout)\n",
        "#Encoder(num_layers, d_model, h, ff_hidden_dim, dropout)\n",
        "\n",
        "criterion = nn.MSELoss()\n",
        "optimizer = torch.optim.Adam(model.parameters(), lr=2e-5)"
      ]
    },
    {
      "cell_type": "code",
      "execution_count": null,
      "metadata": {
        "id": "MxoPHL2yaJOW",
        "colab": {
          "base_uri": "https://localhost:8080/",
          "height": 373
        },
        "outputId": "4274a0b7-1039-4010-98a3-f597d88c733c"
      },
      "outputs": [
        {
          "output_type": "stream",
          "name": "stderr",
          "text": [
            "100%|██████████| 1021/1021 [27:42<00:00,  1.63s/it]\n"
          ]
        },
        {
          "output_type": "stream",
          "name": "stdout",
          "text": [
            "Loss of epoch 0 is:  7490.610846539085\n"
          ]
        },
        {
          "output_type": "stream",
          "name": "stderr",
          "text": [
            "  4%|▍         | 45/1021 [01:13<26:35,  1.63s/it]\n"
          ]
        },
        {
          "output_type": "error",
          "ename": "KeyboardInterrupt",
          "evalue": "",
          "traceback": [
            "\u001b[0;31m---------------------------------------------------------------------------\u001b[0m",
            "\u001b[0;31mKeyboardInterrupt\u001b[0m                         Traceback (most recent call last)",
            "\u001b[0;32m<ipython-input-105-bb43fb878d7f>\u001b[0m in \u001b[0;36m<cell line: 41>\u001b[0;34m()\u001b[0m\n\u001b[1;32m     39\u001b[0m \u001b[0;34m\u001b[0m\u001b[0m\n\u001b[1;32m     40\u001b[0m     \u001b[0mtorch\u001b[0m\u001b[0;34m.\u001b[0m\u001b[0msave\u001b[0m\u001b[0;34m(\u001b[0m\u001b[0mmodel\u001b[0m\u001b[0;34m.\u001b[0m\u001b[0mstate_dict\u001b[0m\u001b[0;34m(\u001b[0m\u001b[0;34m)\u001b[0m\u001b[0;34m,\u001b[0m \u001b[0;34m'/content/drive/My Drive/models/TT.pt'\u001b[0m\u001b[0;34m)\u001b[0m\u001b[0;34m\u001b[0m\u001b[0;34m\u001b[0m\u001b[0m\n\u001b[0;32m---> 41\u001b[0;31m \u001b[0mtrain_loop\u001b[0m\u001b[0;34m(\u001b[0m\u001b[0;34m)\u001b[0m\u001b[0;34m\u001b[0m\u001b[0;34m\u001b[0m\u001b[0m\n\u001b[0m",
            "\u001b[0;32m<ipython-input-105-bb43fb878d7f>\u001b[0m in \u001b[0;36mtrain_loop\u001b[0;34m()\u001b[0m\n\u001b[1;32m     22\u001b[0m \u001b[0;34m\u001b[0m\u001b[0m\n\u001b[1;32m     23\u001b[0m \u001b[0;34m\u001b[0m\u001b[0m\n\u001b[0;32m---> 24\u001b[0;31m       \u001b[0mout\u001b[0m \u001b[0;34m=\u001b[0m \u001b[0mmodel\u001b[0m\u001b[0;34m(\u001b[0m\u001b[0minput_axes\u001b[0m\u001b[0;34m,\u001b[0m \u001b[0mtgt_axes\u001b[0m\u001b[0;34m,\u001b[0m \u001b[0msrc_mask\u001b[0m\u001b[0;34m,\u001b[0m \u001b[0mtgt_src_mask\u001b[0m\u001b[0;34m,\u001b[0m \u001b[0mtgt_mask\u001b[0m\u001b[0;34m,\u001b[0m \u001b[0minference\u001b[0m\u001b[0;34m=\u001b[0m\u001b[0;32mFalse\u001b[0m\u001b[0;34m)\u001b[0m\u001b[0;34m\u001b[0m\u001b[0;34m\u001b[0m\u001b[0m\n\u001b[0m\u001b[1;32m     25\u001b[0m       \u001b[0mout\u001b[0m \u001b[0;34m=\u001b[0m \u001b[0mout\u001b[0m\u001b[0;34m.\u001b[0m\u001b[0mmasked_fill\u001b[0m\u001b[0;34m(\u001b[0m\u001b[0mloss_mask\u001b[0m \u001b[0;34m==\u001b[0m \u001b[0;36m0\u001b[0m\u001b[0;34m,\u001b[0m \u001b[0;36m0\u001b[0m\u001b[0;34m)\u001b[0m\u001b[0;34m\u001b[0m\u001b[0;34m\u001b[0m\u001b[0m\n\u001b[1;32m     26\u001b[0m \u001b[0;34m\u001b[0m\u001b[0m\n",
            "\u001b[0;32m/usr/local/lib/python3.10/dist-packages/torch/nn/modules/module.py\u001b[0m in \u001b[0;36m_wrapped_call_impl\u001b[0;34m(self, *args, **kwargs)\u001b[0m\n\u001b[1;32m   1551\u001b[0m             \u001b[0;32mreturn\u001b[0m \u001b[0mself\u001b[0m\u001b[0;34m.\u001b[0m\u001b[0m_compiled_call_impl\u001b[0m\u001b[0;34m(\u001b[0m\u001b[0;34m*\u001b[0m\u001b[0margs\u001b[0m\u001b[0;34m,\u001b[0m \u001b[0;34m**\u001b[0m\u001b[0mkwargs\u001b[0m\u001b[0;34m)\u001b[0m  \u001b[0;31m# type: ignore[misc]\u001b[0m\u001b[0;34m\u001b[0m\u001b[0;34m\u001b[0m\u001b[0m\n\u001b[1;32m   1552\u001b[0m         \u001b[0;32melse\u001b[0m\u001b[0;34m:\u001b[0m\u001b[0;34m\u001b[0m\u001b[0;34m\u001b[0m\u001b[0m\n\u001b[0;32m-> 1553\u001b[0;31m             \u001b[0;32mreturn\u001b[0m \u001b[0mself\u001b[0m\u001b[0;34m.\u001b[0m\u001b[0m_call_impl\u001b[0m\u001b[0;34m(\u001b[0m\u001b[0;34m*\u001b[0m\u001b[0margs\u001b[0m\u001b[0;34m,\u001b[0m \u001b[0;34m**\u001b[0m\u001b[0mkwargs\u001b[0m\u001b[0;34m)\u001b[0m\u001b[0;34m\u001b[0m\u001b[0;34m\u001b[0m\u001b[0m\n\u001b[0m\u001b[1;32m   1554\u001b[0m \u001b[0;34m\u001b[0m\u001b[0m\n\u001b[1;32m   1555\u001b[0m     \u001b[0;32mdef\u001b[0m \u001b[0m_call_impl\u001b[0m\u001b[0;34m(\u001b[0m\u001b[0mself\u001b[0m\u001b[0;34m,\u001b[0m \u001b[0;34m*\u001b[0m\u001b[0margs\u001b[0m\u001b[0;34m,\u001b[0m \u001b[0;34m**\u001b[0m\u001b[0mkwargs\u001b[0m\u001b[0;34m)\u001b[0m\u001b[0;34m:\u001b[0m\u001b[0;34m\u001b[0m\u001b[0;34m\u001b[0m\u001b[0m\n",
            "\u001b[0;32m/usr/local/lib/python3.10/dist-packages/torch/nn/modules/module.py\u001b[0m in \u001b[0;36m_call_impl\u001b[0;34m(self, *args, **kwargs)\u001b[0m\n\u001b[1;32m   1560\u001b[0m                 \u001b[0;32mor\u001b[0m \u001b[0m_global_backward_pre_hooks\u001b[0m \u001b[0;32mor\u001b[0m \u001b[0m_global_backward_hooks\u001b[0m\u001b[0;34m\u001b[0m\u001b[0;34m\u001b[0m\u001b[0m\n\u001b[1;32m   1561\u001b[0m                 or _global_forward_hooks or _global_forward_pre_hooks):\n\u001b[0;32m-> 1562\u001b[0;31m             \u001b[0;32mreturn\u001b[0m \u001b[0mforward_call\u001b[0m\u001b[0;34m(\u001b[0m\u001b[0;34m*\u001b[0m\u001b[0margs\u001b[0m\u001b[0;34m,\u001b[0m \u001b[0;34m**\u001b[0m\u001b[0mkwargs\u001b[0m\u001b[0;34m)\u001b[0m\u001b[0;34m\u001b[0m\u001b[0;34m\u001b[0m\u001b[0m\n\u001b[0m\u001b[1;32m   1563\u001b[0m \u001b[0;34m\u001b[0m\u001b[0m\n\u001b[1;32m   1564\u001b[0m         \u001b[0;32mtry\u001b[0m\u001b[0;34m:\u001b[0m\u001b[0;34m\u001b[0m\u001b[0;34m\u001b[0m\u001b[0m\n",
            "\u001b[0;32m<ipython-input-26-f8e7361174dd>\u001b[0m in \u001b[0;36mforward\u001b[0;34m(self, src, tgt, src_mask, tgt_src_mask, tgt_mask, inference)\u001b[0m\n\u001b[1;32m     11\u001b[0m     \u001b[0msrc\u001b[0m \u001b[0;34m=\u001b[0m \u001b[0mself\u001b[0m\u001b[0;34m.\u001b[0m\u001b[0membedding\u001b[0m\u001b[0;34m(\u001b[0m\u001b[0msrc\u001b[0m\u001b[0;34m)\u001b[0m\u001b[0;34m\u001b[0m\u001b[0;34m\u001b[0m\u001b[0m\n\u001b[1;32m     12\u001b[0m     \u001b[0mtgt\u001b[0m \u001b[0;34m=\u001b[0m \u001b[0mself\u001b[0m\u001b[0;34m.\u001b[0m\u001b[0membedding\u001b[0m\u001b[0;34m(\u001b[0m\u001b[0mtgt\u001b[0m\u001b[0;34m)\u001b[0m\u001b[0;34m\u001b[0m\u001b[0;34m\u001b[0m\u001b[0m\n\u001b[0;32m---> 13\u001b[0;31m     \u001b[0mencoder_out\u001b[0m \u001b[0;34m=\u001b[0m \u001b[0mself\u001b[0m\u001b[0;34m.\u001b[0m\u001b[0mencoder\u001b[0m\u001b[0;34m(\u001b[0m\u001b[0msrc\u001b[0m\u001b[0;34m,\u001b[0m \u001b[0msrc_mask\u001b[0m\u001b[0;34m)\u001b[0m\u001b[0;34m\u001b[0m\u001b[0;34m\u001b[0m\u001b[0m\n\u001b[0m\u001b[1;32m     14\u001b[0m     \u001b[0mdecoder_out\u001b[0m \u001b[0;34m=\u001b[0m \u001b[0mself\u001b[0m\u001b[0;34m.\u001b[0m\u001b[0mdecoder\u001b[0m\u001b[0;34m(\u001b[0m\u001b[0mtgt\u001b[0m\u001b[0;34m,\u001b[0m \u001b[0mencoder_out\u001b[0m\u001b[0;34m,\u001b[0m \u001b[0msrc_mask\u001b[0m\u001b[0;34m=\u001b[0m \u001b[0mtgt_src_mask\u001b[0m\u001b[0;34m,\u001b[0m \u001b[0mtgt_mask\u001b[0m\u001b[0;34m=\u001b[0m \u001b[0mtgt_mask\u001b[0m\u001b[0;34m)\u001b[0m\u001b[0;34m\u001b[0m\u001b[0;34m\u001b[0m\u001b[0m\n\u001b[1;32m     15\u001b[0m     \u001b[0;32mif\u001b[0m \u001b[0minference\u001b[0m \u001b[0;34m==\u001b[0m \u001b[0;32mTrue\u001b[0m\u001b[0;34m:\u001b[0m\u001b[0;34m\u001b[0m\u001b[0;34m\u001b[0m\u001b[0m\n",
            "\u001b[0;32m/usr/local/lib/python3.10/dist-packages/torch/nn/modules/module.py\u001b[0m in \u001b[0;36m_wrapped_call_impl\u001b[0;34m(self, *args, **kwargs)\u001b[0m\n\u001b[1;32m   1551\u001b[0m             \u001b[0;32mreturn\u001b[0m \u001b[0mself\u001b[0m\u001b[0;34m.\u001b[0m\u001b[0m_compiled_call_impl\u001b[0m\u001b[0;34m(\u001b[0m\u001b[0;34m*\u001b[0m\u001b[0margs\u001b[0m\u001b[0;34m,\u001b[0m \u001b[0;34m**\u001b[0m\u001b[0mkwargs\u001b[0m\u001b[0;34m)\u001b[0m  \u001b[0;31m# type: ignore[misc]\u001b[0m\u001b[0;34m\u001b[0m\u001b[0;34m\u001b[0m\u001b[0m\n\u001b[1;32m   1552\u001b[0m         \u001b[0;32melse\u001b[0m\u001b[0;34m:\u001b[0m\u001b[0;34m\u001b[0m\u001b[0;34m\u001b[0m\u001b[0m\n\u001b[0;32m-> 1553\u001b[0;31m             \u001b[0;32mreturn\u001b[0m \u001b[0mself\u001b[0m\u001b[0;34m.\u001b[0m\u001b[0m_call_impl\u001b[0m\u001b[0;34m(\u001b[0m\u001b[0;34m*\u001b[0m\u001b[0margs\u001b[0m\u001b[0;34m,\u001b[0m \u001b[0;34m**\u001b[0m\u001b[0mkwargs\u001b[0m\u001b[0;34m)\u001b[0m\u001b[0;34m\u001b[0m\u001b[0;34m\u001b[0m\u001b[0m\n\u001b[0m\u001b[1;32m   1554\u001b[0m \u001b[0;34m\u001b[0m\u001b[0m\n\u001b[1;32m   1555\u001b[0m     \u001b[0;32mdef\u001b[0m \u001b[0m_call_impl\u001b[0m\u001b[0;34m(\u001b[0m\u001b[0mself\u001b[0m\u001b[0;34m,\u001b[0m \u001b[0;34m*\u001b[0m\u001b[0margs\u001b[0m\u001b[0;34m,\u001b[0m \u001b[0;34m**\u001b[0m\u001b[0mkwargs\u001b[0m\u001b[0;34m)\u001b[0m\u001b[0;34m:\u001b[0m\u001b[0;34m\u001b[0m\u001b[0;34m\u001b[0m\u001b[0m\n",
            "\u001b[0;32m/usr/local/lib/python3.10/dist-packages/torch/nn/modules/module.py\u001b[0m in \u001b[0;36m_call_impl\u001b[0;34m(self, *args, **kwargs)\u001b[0m\n\u001b[1;32m   1560\u001b[0m                 \u001b[0;32mor\u001b[0m \u001b[0m_global_backward_pre_hooks\u001b[0m \u001b[0;32mor\u001b[0m \u001b[0m_global_backward_hooks\u001b[0m\u001b[0;34m\u001b[0m\u001b[0;34m\u001b[0m\u001b[0m\n\u001b[1;32m   1561\u001b[0m                 or _global_forward_hooks or _global_forward_pre_hooks):\n\u001b[0;32m-> 1562\u001b[0;31m             \u001b[0;32mreturn\u001b[0m \u001b[0mforward_call\u001b[0m\u001b[0;34m(\u001b[0m\u001b[0;34m*\u001b[0m\u001b[0margs\u001b[0m\u001b[0;34m,\u001b[0m \u001b[0;34m**\u001b[0m\u001b[0mkwargs\u001b[0m\u001b[0;34m)\u001b[0m\u001b[0;34m\u001b[0m\u001b[0;34m\u001b[0m\u001b[0m\n\u001b[0m\u001b[1;32m   1563\u001b[0m \u001b[0;34m\u001b[0m\u001b[0m\n\u001b[1;32m   1564\u001b[0m         \u001b[0;32mtry\u001b[0m\u001b[0;34m:\u001b[0m\u001b[0;34m\u001b[0m\u001b[0;34m\u001b[0m\u001b[0m\n",
            "\u001b[0;32m<ipython-input-22-9a255f4f6070>\u001b[0m in \u001b[0;36mforward\u001b[0;34m(self, src, mask)\u001b[0m\n\u001b[1;32m     28\u001b[0m     \u001b[0;32mdef\u001b[0m \u001b[0mforward\u001b[0m\u001b[0;34m(\u001b[0m\u001b[0mself\u001b[0m\u001b[0;34m,\u001b[0m \u001b[0msrc\u001b[0m\u001b[0;34m,\u001b[0m \u001b[0mmask\u001b[0m\u001b[0;34m=\u001b[0m\u001b[0;32mNone\u001b[0m\u001b[0;34m)\u001b[0m\u001b[0;34m:\u001b[0m\u001b[0;34m\u001b[0m\u001b[0;34m\u001b[0m\u001b[0m\n\u001b[1;32m     29\u001b[0m         \u001b[0;32mfor\u001b[0m \u001b[0mlayer\u001b[0m \u001b[0;32min\u001b[0m \u001b[0mself\u001b[0m\u001b[0;34m.\u001b[0m\u001b[0mlayers\u001b[0m\u001b[0;34m:\u001b[0m\u001b[0;34m\u001b[0m\u001b[0;34m\u001b[0m\u001b[0m\n\u001b[0;32m---> 30\u001b[0;31m             \u001b[0msrc\u001b[0m \u001b[0;34m=\u001b[0m \u001b[0mlayer\u001b[0m\u001b[0;34m(\u001b[0m\u001b[0msrc\u001b[0m\u001b[0;34m,\u001b[0m \u001b[0mmask\u001b[0m\u001b[0;34m)\u001b[0m\u001b[0;34m\u001b[0m\u001b[0;34m\u001b[0m\u001b[0m\n\u001b[0m\u001b[1;32m     31\u001b[0m         \u001b[0;32mreturn\u001b[0m \u001b[0msrc\u001b[0m\u001b[0;34m\u001b[0m\u001b[0;34m\u001b[0m\u001b[0m\n",
            "\u001b[0;32m/usr/local/lib/python3.10/dist-packages/torch/nn/modules/module.py\u001b[0m in \u001b[0;36m_wrapped_call_impl\u001b[0;34m(self, *args, **kwargs)\u001b[0m\n\u001b[1;32m   1551\u001b[0m             \u001b[0;32mreturn\u001b[0m \u001b[0mself\u001b[0m\u001b[0;34m.\u001b[0m\u001b[0m_compiled_call_impl\u001b[0m\u001b[0;34m(\u001b[0m\u001b[0;34m*\u001b[0m\u001b[0margs\u001b[0m\u001b[0;34m,\u001b[0m \u001b[0;34m**\u001b[0m\u001b[0mkwargs\u001b[0m\u001b[0;34m)\u001b[0m  \u001b[0;31m# type: ignore[misc]\u001b[0m\u001b[0;34m\u001b[0m\u001b[0;34m\u001b[0m\u001b[0m\n\u001b[1;32m   1552\u001b[0m         \u001b[0;32melse\u001b[0m\u001b[0;34m:\u001b[0m\u001b[0;34m\u001b[0m\u001b[0;34m\u001b[0m\u001b[0m\n\u001b[0;32m-> 1553\u001b[0;31m             \u001b[0;32mreturn\u001b[0m \u001b[0mself\u001b[0m\u001b[0;34m.\u001b[0m\u001b[0m_call_impl\u001b[0m\u001b[0;34m(\u001b[0m\u001b[0;34m*\u001b[0m\u001b[0margs\u001b[0m\u001b[0;34m,\u001b[0m \u001b[0;34m**\u001b[0m\u001b[0mkwargs\u001b[0m\u001b[0;34m)\u001b[0m\u001b[0;34m\u001b[0m\u001b[0;34m\u001b[0m\u001b[0m\n\u001b[0m\u001b[1;32m   1554\u001b[0m \u001b[0;34m\u001b[0m\u001b[0m\n\u001b[1;32m   1555\u001b[0m     \u001b[0;32mdef\u001b[0m \u001b[0m_call_impl\u001b[0m\u001b[0;34m(\u001b[0m\u001b[0mself\u001b[0m\u001b[0;34m,\u001b[0m \u001b[0;34m*\u001b[0m\u001b[0margs\u001b[0m\u001b[0;34m,\u001b[0m \u001b[0;34m**\u001b[0m\u001b[0mkwargs\u001b[0m\u001b[0;34m)\u001b[0m\u001b[0;34m:\u001b[0m\u001b[0;34m\u001b[0m\u001b[0;34m\u001b[0m\u001b[0m\n",
            "\u001b[0;32m/usr/local/lib/python3.10/dist-packages/torch/nn/modules/module.py\u001b[0m in \u001b[0;36m_call_impl\u001b[0;34m(self, *args, **kwargs)\u001b[0m\n\u001b[1;32m   1560\u001b[0m                 \u001b[0;32mor\u001b[0m \u001b[0m_global_backward_pre_hooks\u001b[0m \u001b[0;32mor\u001b[0m \u001b[0m_global_backward_hooks\u001b[0m\u001b[0;34m\u001b[0m\u001b[0;34m\u001b[0m\u001b[0m\n\u001b[1;32m   1561\u001b[0m                 or _global_forward_hooks or _global_forward_pre_hooks):\n\u001b[0;32m-> 1562\u001b[0;31m             \u001b[0;32mreturn\u001b[0m \u001b[0mforward_call\u001b[0m\u001b[0;34m(\u001b[0m\u001b[0;34m*\u001b[0m\u001b[0margs\u001b[0m\u001b[0;34m,\u001b[0m \u001b[0;34m**\u001b[0m\u001b[0mkwargs\u001b[0m\u001b[0;34m)\u001b[0m\u001b[0;34m\u001b[0m\u001b[0;34m\u001b[0m\u001b[0m\n\u001b[0m\u001b[1;32m   1563\u001b[0m \u001b[0;34m\u001b[0m\u001b[0m\n\u001b[1;32m   1564\u001b[0m         \u001b[0;32mtry\u001b[0m\u001b[0;34m:\u001b[0m\u001b[0;34m\u001b[0m\u001b[0;34m\u001b[0m\u001b[0m\n",
            "\u001b[0;32m<ipython-input-22-9a255f4f6070>\u001b[0m in \u001b[0;36mforward\u001b[0;34m(self, src, src_mask)\u001b[0m\n\u001b[1;32m     11\u001b[0m \u001b[0;34m\u001b[0m\u001b[0m\n\u001b[1;32m     12\u001b[0m     \u001b[0;32mdef\u001b[0m \u001b[0mforward\u001b[0m\u001b[0;34m(\u001b[0m\u001b[0mself\u001b[0m\u001b[0;34m,\u001b[0m \u001b[0msrc\u001b[0m\u001b[0;34m,\u001b[0m \u001b[0msrc_mask\u001b[0m\u001b[0;34m=\u001b[0m\u001b[0;32mNone\u001b[0m\u001b[0;34m)\u001b[0m\u001b[0;34m:\u001b[0m\u001b[0;34m\u001b[0m\u001b[0;34m\u001b[0m\u001b[0m\n\u001b[0;32m---> 13\u001b[0;31m         \u001b[0msrc2\u001b[0m \u001b[0;34m=\u001b[0m \u001b[0mself\u001b[0m\u001b[0;34m.\u001b[0m\u001b[0mself_attn\u001b[0m\u001b[0;34m(\u001b[0m\u001b[0msrc\u001b[0m\u001b[0;34m,\u001b[0m \u001b[0msrc\u001b[0m\u001b[0;34m,\u001b[0m \u001b[0msrc\u001b[0m\u001b[0;34m,\u001b[0m \u001b[0mmask\u001b[0m\u001b[0;34m=\u001b[0m\u001b[0msrc_mask\u001b[0m\u001b[0;34m)\u001b[0m\u001b[0;34m\u001b[0m\u001b[0;34m\u001b[0m\u001b[0m\n\u001b[0m\u001b[1;32m     14\u001b[0m         \u001b[0msrc\u001b[0m \u001b[0;34m=\u001b[0m \u001b[0msrc\u001b[0m \u001b[0;34m+\u001b[0m \u001b[0mself\u001b[0m\u001b[0;34m.\u001b[0m\u001b[0mdropout\u001b[0m\u001b[0;34m(\u001b[0m\u001b[0msrc2\u001b[0m\u001b[0;34m)\u001b[0m  \u001b[0;31m# not an in-place operation\u001b[0m\u001b[0;34m\u001b[0m\u001b[0;34m\u001b[0m\u001b[0m\n\u001b[1;32m     15\u001b[0m         \u001b[0msrc\u001b[0m \u001b[0;34m=\u001b[0m \u001b[0mself\u001b[0m\u001b[0;34m.\u001b[0m\u001b[0mnorm1\u001b[0m\u001b[0;34m(\u001b[0m\u001b[0msrc\u001b[0m\u001b[0;34m)\u001b[0m\u001b[0;34m\u001b[0m\u001b[0;34m\u001b[0m\u001b[0m\n",
            "\u001b[0;32m/usr/local/lib/python3.10/dist-packages/torch/nn/modules/module.py\u001b[0m in \u001b[0;36m_wrapped_call_impl\u001b[0;34m(self, *args, **kwargs)\u001b[0m\n\u001b[1;32m   1551\u001b[0m             \u001b[0;32mreturn\u001b[0m \u001b[0mself\u001b[0m\u001b[0;34m.\u001b[0m\u001b[0m_compiled_call_impl\u001b[0m\u001b[0;34m(\u001b[0m\u001b[0;34m*\u001b[0m\u001b[0margs\u001b[0m\u001b[0;34m,\u001b[0m \u001b[0;34m**\u001b[0m\u001b[0mkwargs\u001b[0m\u001b[0;34m)\u001b[0m  \u001b[0;31m# type: ignore[misc]\u001b[0m\u001b[0;34m\u001b[0m\u001b[0;34m\u001b[0m\u001b[0m\n\u001b[1;32m   1552\u001b[0m         \u001b[0;32melse\u001b[0m\u001b[0;34m:\u001b[0m\u001b[0;34m\u001b[0m\u001b[0;34m\u001b[0m\u001b[0m\n\u001b[0;32m-> 1553\u001b[0;31m             \u001b[0;32mreturn\u001b[0m \u001b[0mself\u001b[0m\u001b[0;34m.\u001b[0m\u001b[0m_call_impl\u001b[0m\u001b[0;34m(\u001b[0m\u001b[0;34m*\u001b[0m\u001b[0margs\u001b[0m\u001b[0;34m,\u001b[0m \u001b[0;34m**\u001b[0m\u001b[0mkwargs\u001b[0m\u001b[0;34m)\u001b[0m\u001b[0;34m\u001b[0m\u001b[0;34m\u001b[0m\u001b[0m\n\u001b[0m\u001b[1;32m   1554\u001b[0m \u001b[0;34m\u001b[0m\u001b[0m\n\u001b[1;32m   1555\u001b[0m     \u001b[0;32mdef\u001b[0m \u001b[0m_call_impl\u001b[0m\u001b[0;34m(\u001b[0m\u001b[0mself\u001b[0m\u001b[0;34m,\u001b[0m \u001b[0;34m*\u001b[0m\u001b[0margs\u001b[0m\u001b[0;34m,\u001b[0m \u001b[0;34m**\u001b[0m\u001b[0mkwargs\u001b[0m\u001b[0;34m)\u001b[0m\u001b[0;34m:\u001b[0m\u001b[0;34m\u001b[0m\u001b[0;34m\u001b[0m\u001b[0m\n",
            "\u001b[0;32m/usr/local/lib/python3.10/dist-packages/torch/nn/modules/module.py\u001b[0m in \u001b[0;36m_call_impl\u001b[0;34m(self, *args, **kwargs)\u001b[0m\n\u001b[1;32m   1560\u001b[0m                 \u001b[0;32mor\u001b[0m \u001b[0m_global_backward_pre_hooks\u001b[0m \u001b[0;32mor\u001b[0m \u001b[0m_global_backward_hooks\u001b[0m\u001b[0;34m\u001b[0m\u001b[0;34m\u001b[0m\u001b[0m\n\u001b[1;32m   1561\u001b[0m                 or _global_forward_hooks or _global_forward_pre_hooks):\n\u001b[0;32m-> 1562\u001b[0;31m             \u001b[0;32mreturn\u001b[0m \u001b[0mforward_call\u001b[0m\u001b[0;34m(\u001b[0m\u001b[0;34m*\u001b[0m\u001b[0margs\u001b[0m\u001b[0;34m,\u001b[0m \u001b[0;34m**\u001b[0m\u001b[0mkwargs\u001b[0m\u001b[0;34m)\u001b[0m\u001b[0;34m\u001b[0m\u001b[0;34m\u001b[0m\u001b[0m\n\u001b[0m\u001b[1;32m   1563\u001b[0m \u001b[0;34m\u001b[0m\u001b[0m\n\u001b[1;32m   1564\u001b[0m         \u001b[0;32mtry\u001b[0m\u001b[0;34m:\u001b[0m\u001b[0;34m\u001b[0m\u001b[0;34m\u001b[0m\u001b[0m\n",
            "\u001b[0;32m<ipython-input-20-796731e5f6f1>\u001b[0m in \u001b[0;36mforward\u001b[0;34m(self, q, k, v, mask)\u001b[0m\n\u001b[1;32m     35\u001b[0m         \u001b[0mvalue\u001b[0m \u001b[0;34m=\u001b[0m \u001b[0mvalue\u001b[0m\u001b[0;34m.\u001b[0m\u001b[0mview\u001b[0m\u001b[0;34m(\u001b[0m\u001b[0mvalue\u001b[0m\u001b[0;34m.\u001b[0m\u001b[0mshape\u001b[0m\u001b[0;34m[\u001b[0m\u001b[0;36m0\u001b[0m\u001b[0;34m]\u001b[0m\u001b[0;34m,\u001b[0m \u001b[0mvalue\u001b[0m\u001b[0;34m.\u001b[0m\u001b[0mshape\u001b[0m\u001b[0;34m[\u001b[0m\u001b[0;36m1\u001b[0m\u001b[0;34m]\u001b[0m\u001b[0;34m,\u001b[0m \u001b[0mself\u001b[0m\u001b[0;34m.\u001b[0m\u001b[0mh\u001b[0m\u001b[0;34m,\u001b[0m \u001b[0mself\u001b[0m\u001b[0;34m.\u001b[0m\u001b[0md_k\u001b[0m\u001b[0;34m)\u001b[0m\u001b[0;34m.\u001b[0m\u001b[0mtranspose\u001b[0m\u001b[0;34m(\u001b[0m\u001b[0;36m1\u001b[0m\u001b[0;34m,\u001b[0m \u001b[0;36m2\u001b[0m\u001b[0;34m)\u001b[0m\u001b[0;34m\u001b[0m\u001b[0;34m\u001b[0m\u001b[0m\n\u001b[1;32m     36\u001b[0m \u001b[0;34m\u001b[0m\u001b[0m\n\u001b[0;32m---> 37\u001b[0;31m         \u001b[0mx\u001b[0m\u001b[0;34m,\u001b[0m \u001b[0mself\u001b[0m\u001b[0;34m.\u001b[0m\u001b[0mattention_scores\u001b[0m \u001b[0;34m=\u001b[0m \u001b[0mMultiHeadAttentionBlock\u001b[0m\u001b[0;34m.\u001b[0m\u001b[0mattention\u001b[0m\u001b[0;34m(\u001b[0m\u001b[0mquery\u001b[0m\u001b[0;34m,\u001b[0m \u001b[0mkey\u001b[0m\u001b[0;34m,\u001b[0m \u001b[0mvalue\u001b[0m\u001b[0;34m,\u001b[0m \u001b[0mmask\u001b[0m\u001b[0;34m,\u001b[0m \u001b[0mself\u001b[0m\u001b[0;34m.\u001b[0m\u001b[0mdropout\u001b[0m\u001b[0;34m)\u001b[0m\u001b[0;34m\u001b[0m\u001b[0;34m\u001b[0m\u001b[0m\n\u001b[0m\u001b[1;32m     38\u001b[0m \u001b[0;34m\u001b[0m\u001b[0m\n\u001b[1;32m     39\u001b[0m         \u001b[0mx\u001b[0m \u001b[0;34m=\u001b[0m \u001b[0mx\u001b[0m\u001b[0;34m.\u001b[0m\u001b[0mtranspose\u001b[0m\u001b[0;34m(\u001b[0m\u001b[0;36m1\u001b[0m\u001b[0;34m,\u001b[0m \u001b[0;36m2\u001b[0m\u001b[0;34m)\u001b[0m\u001b[0;34m.\u001b[0m\u001b[0mcontiguous\u001b[0m\u001b[0;34m(\u001b[0m\u001b[0;34m)\u001b[0m\u001b[0;34m.\u001b[0m\u001b[0mview\u001b[0m\u001b[0;34m(\u001b[0m\u001b[0mx\u001b[0m\u001b[0;34m.\u001b[0m\u001b[0mshape\u001b[0m\u001b[0;34m[\u001b[0m\u001b[0;36m0\u001b[0m\u001b[0;34m]\u001b[0m\u001b[0;34m,\u001b[0m \u001b[0;34m-\u001b[0m\u001b[0;36m1\u001b[0m\u001b[0;34m,\u001b[0m \u001b[0mself\u001b[0m\u001b[0;34m.\u001b[0m\u001b[0mh\u001b[0m \u001b[0;34m*\u001b[0m \u001b[0mself\u001b[0m\u001b[0;34m.\u001b[0m\u001b[0md_k\u001b[0m\u001b[0;34m)\u001b[0m\u001b[0;34m\u001b[0m\u001b[0;34m\u001b[0m\u001b[0m\n",
            "\u001b[0;32m<ipython-input-20-796731e5f6f1>\u001b[0m in \u001b[0;36mattention\u001b[0;34m(query, key, value, mask, dropout)\u001b[0m\n\u001b[1;32m     18\u001b[0m         \u001b[0mattention_scores\u001b[0m \u001b[0;34m=\u001b[0m \u001b[0;34m(\u001b[0m\u001b[0mquery\u001b[0m \u001b[0;34m@\u001b[0m \u001b[0mkey\u001b[0m\u001b[0;34m.\u001b[0m\u001b[0mtranspose\u001b[0m\u001b[0;34m(\u001b[0m\u001b[0;34m-\u001b[0m\u001b[0;36m2\u001b[0m\u001b[0;34m,\u001b[0m \u001b[0;34m-\u001b[0m\u001b[0;36m1\u001b[0m\u001b[0;34m)\u001b[0m\u001b[0;34m)\u001b[0m \u001b[0;34m/\u001b[0m \u001b[0mmath\u001b[0m\u001b[0;34m.\u001b[0m\u001b[0msqrt\u001b[0m\u001b[0;34m(\u001b[0m\u001b[0md_k\u001b[0m\u001b[0;34m)\u001b[0m\u001b[0;34m\u001b[0m\u001b[0;34m\u001b[0m\u001b[0m\n\u001b[1;32m     19\u001b[0m         \u001b[0;32mif\u001b[0m \u001b[0mmask\u001b[0m \u001b[0;32mis\u001b[0m \u001b[0;32mnot\u001b[0m \u001b[0;32mNone\u001b[0m\u001b[0;34m:\u001b[0m\u001b[0;34m\u001b[0m\u001b[0;34m\u001b[0m\u001b[0m\n\u001b[0;32m---> 20\u001b[0;31m             \u001b[0mattention_scores\u001b[0m \u001b[0;34m=\u001b[0m \u001b[0mattention_scores\u001b[0m\u001b[0;34m.\u001b[0m\u001b[0mmasked_fill\u001b[0m\u001b[0;34m(\u001b[0m\u001b[0mmask\u001b[0m \u001b[0;34m==\u001b[0m \u001b[0;36m0\u001b[0m\u001b[0;34m,\u001b[0m \u001b[0;34m-\u001b[0m\u001b[0;36m1e9\u001b[0m\u001b[0;34m)\u001b[0m\u001b[0;34m.\u001b[0m\u001b[0mclone\u001b[0m\u001b[0;34m(\u001b[0m\u001b[0;34m)\u001b[0m\u001b[0;34m\u001b[0m\u001b[0;34m\u001b[0m\u001b[0m\n\u001b[0m\u001b[1;32m     21\u001b[0m         \u001b[0mattention_scores\u001b[0m \u001b[0;34m=\u001b[0m \u001b[0mattention_scores\u001b[0m\u001b[0;34m.\u001b[0m\u001b[0msoftmax\u001b[0m\u001b[0;34m(\u001b[0m\u001b[0mdim\u001b[0m\u001b[0;34m=\u001b[0m\u001b[0;34m-\u001b[0m\u001b[0;36m1\u001b[0m\u001b[0;34m)\u001b[0m\u001b[0;34m\u001b[0m\u001b[0;34m\u001b[0m\u001b[0m\n\u001b[1;32m     22\u001b[0m         \u001b[0;32mif\u001b[0m \u001b[0mdropout\u001b[0m \u001b[0;32mis\u001b[0m \u001b[0;32mnot\u001b[0m \u001b[0;32mNone\u001b[0m\u001b[0;34m:\u001b[0m\u001b[0;34m\u001b[0m\u001b[0;34m\u001b[0m\u001b[0m\n",
            "\u001b[0;31mKeyboardInterrupt\u001b[0m: "
          ]
        }
      ],
      "source": [
        "num_epochs = 5\n",
        "\n",
        "def train_loop():\n",
        "  for epoch_num in range(num_epochs):\n",
        "    epoch_loss = 0\n",
        "    model.train()\n",
        "\n",
        "    for idx in tqdm(train_idx_loader):\n",
        "      batch_idx = idx['idx']\n",
        "\n",
        "      batch = prepaire_batch(batch_idx, max_len_input=120, mex_len_pred=30)\n",
        "\n",
        "      input_axes = batch['axes']['input']\n",
        "      pred_axes  = batch['axes']['pred']\n",
        "      src_mask   = batch['mask']['src']\n",
        "      tgt_mask   = batch['mask']['tgt']\n",
        "      tgt_src_mask = batch['mask']['tgt_src']\n",
        "      loss_mask  = batch['mask']['loss']\n",
        "\n",
        "      tgt_axes = pred_axes[:, :-1]\n",
        "      real_axes = pred_axes[:, 1:]\n",
        "\n",
        "\n",
        "      out = model(input_axes, tgt_axes, src_mask, tgt_src_mask, tgt_mask, inference=False)\n",
        "      out = out.masked_fill(loss_mask == 0, 0)\n",
        "\n",
        "      y =   real_axes\n",
        "      loss = criterion(out, y)\n",
        "      epoch_loss += loss.item()\n",
        "      loss.backward()\n",
        "      optimizer.step()\n",
        "      optimizer.zero_grad()\n",
        "\n",
        "    test_loop(loaded_model, test_idx_loader, max_len_pred=29)\n",
        "\n",
        "    train_loss = epoch_loss / len(train_idx_loader)\n",
        "\n",
        "    print(f'Loss of epoch {epoch_num} is: ', train_loss)\n",
        "\n",
        "    torch.save(model.state_dict(), '/content/drive/My Drive/models/TT.pt')\n",
        "\n",
        "train_loop()"
      ]
    },
    {
      "cell_type": "markdown",
      "metadata": {
        "id": "3K5i2ZST2NxP"
      },
      "source": [
        "## load the model"
      ]
    },
    {
      "cell_type": "code",
      "execution_count": null,
      "metadata": {
        "colab": {
          "base_uri": "https://localhost:8080/"
        },
        "id": "yznODPr5iCEV",
        "outputId": "63ad66c4-d1fe-4976-e370-7beaac30d877"
      },
      "outputs": [
        {
          "output_type": "stream",
          "name": "stderr",
          "text": [
            "<ipython-input-29-af7a1b799cef>:11: FutureWarning: You are using `torch.load` with `weights_only=False` (the current default value), which uses the default pickle module implicitly. It is possible to construct malicious pickle data which will execute arbitrary code during unpickling (See https://github.com/pytorch/pytorch/blob/main/SECURITY.md#untrusted-models for more details). In a future release, the default value for `weights_only` will be flipped to `True`. This limits the functions that could be executed during unpickling. Arbitrary objects will no longer be allowed to be loaded via this mode unless they are explicitly allowlisted by the user via `torch.serialization.add_safe_globals`. We recommend you start setting `weights_only=True` for any use case where you don't have full control of the loaded file. Please open an issue on GitHub for any issues related to this experimental feature.\n",
            "  loaded_model.load_state_dict(torch.load('/content/drive/My Drive/models/TT.pt'))\n"
          ]
        },
        {
          "output_type": "execute_result",
          "data": {
            "text/plain": [
              "<All keys matched successfully>"
            ]
          },
          "metadata": {},
          "execution_count": 29
        }
      ],
      "source": [
        "d_input = 2\n",
        "d_model = 256\n",
        "num_layers = 4\n",
        "h = 4\n",
        "ff_hidden_dim = 512\n",
        "dropout = 0.1\n",
        "\n",
        "\n",
        "criterion = torch.nn.MSELoss()\n",
        "loaded_model = Transformer(d_input, d_model, num_layers, h, ff_hidden_dim, dropout)\n",
        "loaded_model.load_state_dict(torch.load('/content/drive/My Drive/models/TT.pt'))"
      ]
    },
    {
      "cell_type": "markdown",
      "metadata": {
        "id": "zbBDdRPsCibL"
      },
      "source": [
        "## test loop"
      ]
    },
    {
      "cell_type": "code",
      "execution_count": null,
      "metadata": {
        "id": "VYaQrGdgQd7g"
      },
      "outputs": [],
      "source": [
        "import tqdm\n",
        "from tqdm import tqdm"
      ]
    },
    {
      "cell_type": "code",
      "execution_count": null,
      "metadata": {
        "id": "qT145wGpnJhG"
      },
      "outputs": [],
      "source": [
        "def test_loop(model, idx_loader, max_len_pred):\n",
        "    model.eval()\n",
        "    total_test_loss = 0\n",
        "    batch_num = 0\n",
        "\n",
        "    for idx in tqdm(idx_loader):\n",
        "      batch_idx = idx['idx']\n",
        "      with torch.no_grad():\n",
        "        # calculate the sum original lenghts of the sequences for calculating the true loss\n",
        "        output = prepaire_batch_test(batch_idx, max_len_input=120, mex_len_pred=30)\n",
        "        input_axes = output['axes']['input']\n",
        "        pred_axes  = output['axes']['pred']\n",
        "        src_mask   = output['mask']['src']\n",
        "        tgt_mask   = output['mask']['tgt']\n",
        "        tgt_src_mask = output['mask']['tgt_src']\n",
        "        loss_mask  = output['mask']['loss']\n",
        "\n",
        "\n",
        "        try:\n",
        "          tgt_axes = pred_axes[:, 0].clone()\n",
        "\n",
        "          tgt_axes = tgt_axes.view(64,1,2)\n",
        "          real_axes = pred_axes[:, 1:].clone()\n",
        "          batch_num+= 1\n",
        "          for i in range(max_len_pred):\n",
        "                tgt_src_mask_ = tgt_src_mask[:, :i+1]\n",
        "                out = model(input_axes, tgt_axes, src_mask, tgt_src_mask_, tgt_mask=None, inference=True)\n",
        "                out = out.masked_fill(loss_mask[:, i] == 0, 0).clone()\n",
        "\n",
        "                y = real_axes[:, i]\n",
        "                loss = criterion(out, y)\n",
        "                total_test_loss += loss.item()\n",
        "                out = out.view(64,1,2)\n",
        "                tgt_axes = torch.cat((tgt_axes, out), dim=1)\n",
        "          return (real_axes, tgt_axes)\n",
        "        except:\n",
        "          pass\n",
        "\n",
        "\n",
        "    avg_test_loss = total_test_loss / (batch_num*max_len_pred)\n",
        "    print(f\"Test Loss: {avg_test_loss}\")\n",
        "    return avg_test_loss"
      ]
    },
    {
      "cell_type": "code",
      "source": [
        "real, pred = test_loop(loaded_model, test_idx_loader, max_len_pred=29)"
      ],
      "metadata": {
        "id": "0YEcZIwssThI"
      },
      "execution_count": null,
      "outputs": []
    },
    {
      "cell_type": "code",
      "source": [
        "pred = pred[:, 1:]\n",
        "pred.size() == real.size()"
      ],
      "metadata": {
        "colab": {
          "base_uri": "https://localhost:8080/"
        },
        "id": "LzL-fJeVsq2O",
        "outputId": "e8712c4f-7aa3-407c-a9de-db8361461040"
      },
      "execution_count": null,
      "outputs": [
        {
          "output_type": "execute_result",
          "data": {
            "text/plain": [
              "True"
            ]
          },
          "metadata": {},
          "execution_count": 90
        }
      ]
    },
    {
      "cell_type": "code",
      "source": [
        "# Plot the real and predicted paths\n",
        "import matplotlib.pyplot as plt\n",
        "\n",
        "\n",
        "# Convert to numpy for easy slicing\n",
        "import numpy as np\n",
        "real_ = np.array(real[0])\n",
        "pred_ = np.array(pred[0])\n",
        "\n",
        "# Plot the paths\n",
        "plt.figure(figsize=(10, 6), dpi=300)  # High resolution for paper\n",
        "\n",
        "# Path 1\n",
        "plt.plot(real_[:, 0], real_[:, 1], 'o-', label=\"Original path\", color='green', markersize=5, linewidth=1.5)\n",
        "\n",
        "# Path 2\n",
        "plt.plot(pred_[:, 0], pred_[:, 1], 's-', label=\"Predicted path\", color='blue', markersize=5, linewidth=1.5)\n",
        "\n",
        "# Add title and labels\n",
        "plt.xlabel('latitude', fontsize=12)\n",
        "plt.ylabel('longitude', fontsize=12)\n",
        "\n",
        "# Add grid\n",
        "plt.grid(True)\n",
        "\n",
        "# Add legend\n",
        "plt.legend(fontsize=12)\n",
        "\n",
        "# Save the figure as a high-resolution image (suitable for publication)\n",
        "plt.savefig('path_comparison_plot.png', bbox_inches='tight')\n",
        "\n",
        "# Show plot\n",
        "plt.show()\n"
      ],
      "metadata": {
        "colab": {
          "base_uri": "https://localhost:8080/",
          "height": 705
        },
        "id": "gqZ-zX2jwX_L",
        "outputId": "2f26a682-d8f1-40ef-d7da-3a51c8681e6c"
      },
      "execution_count": null,
      "outputs": [
        {
          "output_type": "display_data",
          "data": {
            "text/plain": [
              "<Figure size 3000x1800 with 1 Axes>"
            ],
            "image/png": "[encoded data removed]"
          },
          "metadata": {}
        }
      ]
    },
    {
      "cell_type": "code",
      "execution_count": null,
      "metadata": {
        "colab": {
          "base_uri": "https://localhost:8080/"
        },
        "id": "XnLOwSlyOhay",
        "outputId": "1d373906-c14e-42b0-f6de-68beffd687c3"
      },
      "outputs": [
        {
          "output_type": "stream",
          "name": "stderr",
          "text": [
            " 20%|██        | 11/55 [02:31<07:20, 10.01s/it]"
          ]
        }
      ],
      "source": [
        "test_loop(loaded_model, test_idx_loader, max_len_pred=29)"
      ]
    },
    {
      "cell_type": "code",
      "execution_count": null,
      "metadata": {
        "id": "4E9v_keRAC1u"
      },
      "outputs": [],
      "source": [
        " def custom_prepaire_batch_test(batch_idx, len_input, len_pred): # here we have the data in matrix for and want to iterate over it by batches of indexees\n",
        "    # concat x,y axes for input and pred\n",
        "    axes           = torch.stack((test_tensors_dict['latitude']['input'][batch_idx],\n",
        "                                test_tensors_dict['longitude']['input'][batch_idx])\n",
        "                                , dim=2)\n",
        "    axes           = axes[:, :len_input-1,:]\n",
        "\n",
        "    # token_type_ids = test_tensors_dict['occupancy']['input'][i['idx']]  commented cuz don't wanna consider occupancy in this case\n",
        "\n",
        "    axes_pred      = torch.stack((test_tensors_dict['latitude']['input'][batch_idx],\n",
        "                                  test_tensors_dict['longitude']['input'][batch_idx])\n",
        "                                  , dim=2)\n",
        "    axes_pred      = axes_pred[:, len_input-1:(len_input-1)+len_pred+1, :]\n",
        "\n",
        "    # create attention masks for src, tgt and tgt_src\n",
        "    seq_lens_input        = [len_input-1 for i in range(64)]\n",
        "    seq_lens_pred         = [len_pred+1  for i in range(64)] # batch_size=64\n",
        "\n",
        "\n",
        "    #pred_mask = torch.stack(pred_mask)\n",
        "    pred_mask = torch.triu(torch.ones((axes.shape[0], len_pred, len_pred)), diagonal=1).type(torch.int)\n",
        "    pred_mask = (pred_mask+1)%2\n",
        "\n",
        "\n",
        "    output = dict()\n",
        "    output['axes'] = dict()\n",
        "    output['axes']['input'] = axes\n",
        "    output['axes']['pred']  = axes_pred\n",
        "    output['mask'] = dict()\n",
        "    output['mask']['tgt'] = pred_mask\n",
        "\n",
        "    return output"
      ]
    },
    {
      "cell_type": "code",
      "execution_count": null,
      "metadata": {
        "id": "cCVEBSwLAF7J"
      },
      "outputs": [],
      "source": [
        "def custom_test_loop(model, idx_loader, len_input, len_pred):\n",
        "    model.eval()\n",
        "    total_test_loss = 0\n",
        "    batch_num = 0\n",
        "\n",
        "    for idx in tqdm(idx_loader):\n",
        "      batch_idx = idx['idx']\n",
        "      with torch.no_grad():\n",
        "        # calculate the sum original lenghts of the sequences for calculating the true loss\n",
        "        output = custom_prepaire_batch_test(batch_idx, len_input, len_pred)\n",
        "        input_axes = output['axes']['input']\n",
        "        pred_axes  = output['axes']['pred']\n",
        "        tgt_mask   = output['mask']['tgt']\n",
        "\n",
        "\n",
        "        try:\n",
        "          tgt_axes = pred_axes[:, 0].clone()\n",
        "\n",
        "          tgt_axes = tgt_axes.view(64,1,2)\n",
        "\n",
        "          real_axes = pred_axes[:, 1:].clone()\n",
        "\n",
        "          batch_num+= 1\n",
        "          for i in range(len_pred):\n",
        "                tgt_src_mask_ = tgt_src_mask[:, :i+1]\n",
        "                out = model(input_axes, tgt_axes, src_mask=None, tgt_src_mask=None, tgt_mask=None, inference=True)\n",
        "\n",
        "                y = real_axes[:, i]\n",
        "                loss = criterion(out, y)\n",
        "                total_test_loss += loss.item()\n",
        "                out = out.view(64,1,2)\n",
        "                tgt_axes = torch.cat((tgt_axes, out), dim=1)\n",
        "        except:\n",
        "          pass\n",
        "    avg_test_loss = total_test_loss / (batch_num*len_pred)\n",
        "    return avg_test_loss"
      ]
    },
    {
      "cell_type": "code",
      "execution_count": null,
      "metadata": {
        "colab": {
          "base_uri": "https://localhost:8080/"
        },
        "id": "iuYhjp6ETQIM",
        "outputId": "1c6753c1-0b4a-4ab8-9131-c5973136bd31"
      },
      "outputs": [
        {
          "name": "stderr",
          "output_type": "stream",
          "text": [
            "100%|██████████| 55/55 [02:33<00:00,  2.80s/it]\n"
          ]
        },
        {
          "data": {
            "text/plain": [
              "0.0019590945824920374"
            ]
          },
          "execution_count": 56,
          "metadata": {},
          "output_type": "execute_result"
        }
      ],
      "source": [
        "custom_test_loop(loaded_model, test_idx_loader, len_input=35, len_pred=10)"
      ]
    },
    {
      "cell_type": "code",
      "execution_count": null,
      "metadata": {
        "colab": {
          "base_uri": "https://localhost:8080/"
        },
        "id": "gnPtmzqeTb2Q",
        "outputId": "c90e3862-c78b-4caa-87de-a35e2bcef141"
      },
      "outputs": [
        {
          "name": "stderr",
          "output_type": "stream",
          "text": [
            "100%|██████████| 55/55 [02:57<00:00,  3.24s/it]\n"
          ]
        },
        {
          "data": {
            "text/plain": [
              "0.001980215558325182"
            ]
          },
          "execution_count": 57,
          "metadata": {},
          "output_type": "execute_result"
        }
      ],
      "source": [
        "custom_test_loop(loaded_model, test_idx_loader, len_input=40, len_pred=10)"
      ]
    },
    {
      "cell_type": "code",
      "execution_count": null,
      "metadata": {
        "colab": {
          "base_uri": "https://localhost:8080/"
        },
        "id": "nii3BF3Sad7m",
        "outputId": "7b1f45c9-bf14-49b0-dd71-6151a7f559f5"
      },
      "outputs": [
        {
          "name": "stderr",
          "output_type": "stream",
          "text": [
            "100%|██████████| 55/55 [01:02<00:00,  1.13s/it]\n"
          ]
        },
        {
          "data": {
            "text/plain": [
              "0.0020548217033070546"
            ]
          },
          "execution_count": 59,
          "metadata": {},
          "output_type": "execute_result"
        }
      ],
      "source": [
        "custom_test_loop(loaded_model, test_idx_loader, len_input=10, len_pred=10)"
      ]
    },
    {
      "cell_type": "code",
      "execution_count": null,
      "metadata": {
        "colab": {
          "base_uri": "https://localhost:8080/"
        },
        "id": "MawRG3bZuMoO",
        "outputId": "cab7ae14-8c66-4a2b-fd42-0134724d43e6"
      },
      "outputs": [
        {
          "name": "stderr",
          "output_type": "stream",
          "text": [
            "100%|██████████| 55/55 [10:57<00:00, 11.96s/it]\n"
          ]
        },
        {
          "data": {
            "text/plain": [
              "35.9780679434518"
            ]
          },
          "execution_count": 60,
          "metadata": {},
          "output_type": "execute_result"
        }
      ],
      "source": [
        "custom_test_loop(loaded_model, test_idx_loader, len_input =70, len_pred=20)"
      ]
    },
    {
      "cell_type": "code",
      "execution_count": null,
      "metadata": {
        "colab": {
          "base_uri": "https://localhost:8080/"
        },
        "id": "dtTZsBtZxu3j",
        "outputId": "7be09045-fdbd-4072-aba8-c70382a2eb6a"
      },
      "outputs": [
        {
          "name": "stderr",
          "output_type": "stream",
          "text": [
            "100%|██████████| 55/55 [09:29<00:00, 10.35s/it]\n"
          ]
        },
        {
          "data": {
            "text/plain": [
              "0.001966830335947668"
            ]
          },
          "execution_count": 61,
          "metadata": {},
          "output_type": "execute_result"
        }
      ],
      "source": [
        "custom_test_loop(loaded_model, test_idx_loader, len_input=60, len_pred=20)"
      ]
    },
    {
      "cell_type": "code",
      "execution_count": null,
      "metadata": {
        "colab": {
          "base_uri": "https://localhost:8080/"
        },
        "id": "polDGaNTyvr1",
        "outputId": "53c6d55b-4c5d-447e-c3de-3f8be877b3fc"
      },
      "outputs": [
        {
          "name": "stderr",
          "output_type": "stream",
          "text": [
            "100%|██████████| 55/55 [06:34<00:00,  7.16s/it]\n"
          ]
        },
        {
          "data": {
            "text/plain": [
              "0.002004748262212767"
            ]
          },
          "execution_count": 62,
          "metadata": {},
          "output_type": "execute_result"
        }
      ],
      "source": [
        "custom_test_loop(loaded_model, test_idx_loader, len_input=40, len_pred=20)"
      ]
    },
    {
      "cell_type": "code",
      "execution_count": null,
      "metadata": {
        "colab": {
          "base_uri": "https://localhost:8080/"
        },
        "id": "QDW1_Zrj7kVp",
        "outputId": "7254615f-4fd0-44c9-99a5-9377f8367306"
      },
      "outputs": [
        {
          "name": "stderr",
          "output_type": "stream",
          "text": [
            "100%|██████████| 55/55 [12:35<00:00, 13.74s/it]\n"
          ]
        },
        {
          "data": {
            "text/plain": [
              "121.34830570079082"
            ]
          },
          "execution_count": 63,
          "metadata": {},
          "output_type": "execute_result"
        }
      ],
      "source": [
        "custom_test_loop(loaded_model, test_idx_loader, len_input=80, len_pred=20)"
      ]
    },
    {
      "cell_type": "code",
      "execution_count": null,
      "metadata": {
        "colab": {
          "base_uri": "https://localhost:8080/"
        },
        "id": "FObqOrB0NwIk",
        "outputId": "34e29a59-7da7-4097-c703-fc188f962c9b"
      },
      "outputs": [
        {
          "name": "stderr",
          "output_type": "stream",
          "text": [
            "100%|██████████| 55/55 [00:12<00:00,  4.44it/s]\n"
          ]
        },
        {
          "name": "stdout",
          "output_type": "stream",
          "text": [
            "Loss for (10,10) as len_input and pred: 0.0020542257732746225\n"
          ]
        },
        {
          "name": "stderr",
          "output_type": "stream",
          "text": [
            "100%|██████████| 55/55 [00:39<00:00,  1.38it/s]\n"
          ]
        },
        {
          "name": "stdout",
          "output_type": "stream",
          "text": [
            "Loss for (25,20) as len_input and pred: 0.0019804130376777957\n"
          ]
        },
        {
          "name": "stderr",
          "output_type": "stream",
          "text": [
            "100%|██████████| 55/55 [00:18<00:00,  3.05it/s]\n"
          ]
        },
        {
          "name": "stdout",
          "output_type": "stream",
          "text": [
            "Loss for (25,10) as len_input and pred: 0.001985645980500892\n"
          ]
        },
        {
          "name": "stderr",
          "output_type": "stream",
          "text": [
            "100%|██████████| 55/55 [01:04<00:00,  1.17s/it]\n"
          ]
        },
        {
          "name": "stdout",
          "output_type": "stream",
          "text": [
            "Loss for (50,20) as len_input and pred: 0.0020054972328512966\n"
          ]
        },
        {
          "name": "stderr",
          "output_type": "stream",
          "text": [
            "100%|██████████| 55/55 [01:28<00:00,  1.60s/it]"
          ]
        },
        {
          "name": "stdout",
          "output_type": "stream",
          "text": [
            "Loss for (75,20) as len_input and pred: 74.32883248231757\n"
          ]
        },
        {
          "name": "stderr",
          "output_type": "stream",
          "text": [
            "\n"
          ]
        }
      ],
      "source": [
        "to_test = [(10,10), (25,20), (25,10), (50,20),(75,20)]\n",
        "\n",
        "for time_sample in to_test:\n",
        "  len_input = time_sample[0]\n",
        "  len_pred =  time_sample[1]\n",
        "  test_loss = custom_test_loop(loaded_model, test_idx_loader, len_input, len_pred)\n",
        "  print(f'Loss for ({len_input},{len_pred}) as len_input and pred: {test_loss}')"
      ]
    },
    {
      "cell_type": "markdown",
      "metadata": {
        "id": "pZyCyUKrkQwL"
      },
      "source": [
        "# dataset"
      ]
    },
    {
      "cell_type": "markdown",
      "metadata": {
        "id": "5e2A8beA94PL"
      },
      "source": [
        "## create sequences"
      ]
    },
    {
      "cell_type": "code",
      "execution_count": null,
      "metadata": {
        "colab": {
          "base_uri": "https://localhost:8080/"
        },
        "id": "oU7KDoFzkULA",
        "outputId": "57c84edf-0d2c-466c-830f-4f2135a018ec"
      },
      "outputs": [
        {
          "output_type": "stream",
          "name": "stdout",
          "text": [
            "Drive already mounted at /content/drive; to attempt to forcibly remount, call drive.mount(\"/content/drive\", force_remount=True).\n"
          ]
        }
      ],
      "source": [
        "from google.colab import drive\n",
        "drive.mount('/content/drive')\n",
        "import pandas as pd\n",
        "data_path = '/content/drive/My Drive/datasets/cabspotting.csv'\n",
        "data = pd.read_csv(data_path)"
      ]
    },
    {
      "cell_type": "code",
      "source": [
        "# to do: sorting the data"
      ],
      "metadata": {
        "id": "x6oLlBomW-A0"
      },
      "execution_count": null,
      "outputs": []
    },
    {
      "cell_type": "code",
      "execution_count": null,
      "metadata": {
        "id": "XKkDS2xQnjXb"
      },
      "outputs": [],
      "source": [
        "def stop_time_devision(l, stop_time):\n",
        "  p   = [i for i in range(len(l)-1) if l[i+1]-l[i] >stop_time]\n",
        "  idx = [-1]\n",
        "  for i in p:\n",
        "    idx.append(i)\n",
        "  idx.append(len(l))\n",
        "  return idx"
      ]
    },
    {
      "cell_type": "code",
      "execution_count": null,
      "metadata": {
        "id": "n9MIgjs8m3zO"
      },
      "outputs": [],
      "source": [
        "def make_seqs(list_, idx, max_len):\n",
        "  lists = [list_[idx[i]+1:idx[i+1]+1] for i in range(len(idx)-1)]\n",
        "  lens  = [len(s) for s in lists]\n",
        "  l_    = [[j for j in range(i)] for i in lens]\n",
        "  idxs   = [[0, len(s)] if len(s)<=max_len\n",
        "            else s[::max_len]\n",
        "            for s in l_]\n",
        "  ll = [\n",
        "      [s[idxs[i][j]:idxs[i][j+1]] for j in range(len(idxs[i])-1)]\n",
        "      for i, s in enumerate(lists)\n",
        "  ]\n",
        "\n",
        "  lll = [item for sublist in ll for item in sublist]\n",
        "  return lll"
      ]
    },
    {
      "cell_type": "code",
      "execution_count": null,
      "metadata": {
        "id": "PjhsEmxI8osd"
      },
      "outputs": [],
      "source": [
        "# create a dictionary which it's keys are cab_names\n",
        "# and values are the sequences of each cab\n",
        "# using the previous codes\n",
        "\n",
        "cabs_seq_dic = dict()\n",
        "\n",
        "\n",
        "for name in data['cab_name'].unique():\n",
        "\n",
        "    cab_data = data[data['cab_name']==name]\n",
        "\n",
        "    latitudes   = list(cab_data['latitude'])\n",
        "    longitudes  = list(cab_data['longitude'])\n",
        "    occupancies = list(cab_data['occupancy'])\n",
        "    times       = list(cab_data['time'])\n",
        "\n",
        "    stop_time = 30*60\n",
        "    max_len   = 30\n",
        "\n",
        "    # creating sequences\n",
        "    idx            = stop_time_devision(times, stop_time)\n",
        "\n",
        "    seqs_latitude  = make_seqs(latitudes, idx, max_len)\n",
        "    seqs_longitude = make_seqs(longitudes, idx, max_len)\n",
        "    seqs_occupancy = make_seqs(occupancies, idx, max_len)\n",
        "    seqs_time      = make_seqs(times, idx, max_len)\n",
        "\n",
        "    # add to the dictionary\n",
        "    cabs_seq_dic[name] = {'latitude':seqs_latitude,\n",
        "                          'longitude':seqs_longitude,\n",
        "                          'occupancy':seqs_occupancy,\n",
        "                          'time':seqs_time}"
      ]
    },
    {
      "cell_type": "code",
      "execution_count": null,
      "metadata": {
        "id": "L6qiS-Y-RnmI"
      },
      "outputs": [],
      "source": [
        "# create a list of all dictionaries\n",
        "seq_list = [{ 'name'     :name,\n",
        "              'latitude' :cabs_seq_dic[name]['latitude'][i],\n",
        "              'longitude':cabs_seq_dic[name]['longitude'][i],\n",
        "              'occupancy':cabs_seq_dic[name]['occupancy'][i],\n",
        "              'time'     :cabs_seq_dic[name]['time'][i]}\n",
        "            for name in cabs_seq_dic\n",
        "            for i in range(len(cabs_seq_dic[name]['time']))]"
      ]
    },
    {
      "cell_type": "code",
      "execution_count": null,
      "metadata": {
        "id": "PqZbLcyEUyP-",
        "colab": {
          "base_uri": "https://localhost:8080/"
        },
        "outputId": "6fc992ba-7372-425b-e365-bf929d63ef3b"
      },
      "outputs": [
        {
          "output_type": "execute_result",
          "data": {
            "text/plain": [
              "370118"
            ]
          },
          "metadata": {},
          "execution_count": 71
        }
      ],
      "source": [
        "len(seq_list)"
      ]
    },
    {
      "cell_type": "code",
      "execution_count": null,
      "metadata": {
        "id": "AH26JouYRTCO"
      },
      "outputs": [],
      "source": [
        "import json\n",
        "\n",
        "with open('/content/drive/My Drive/datasets/cabspotting_sequences_30.json', 'w') as f:\n",
        "  json.dump(seq_list, f)"
      ]
    },
    {
      "cell_type": "code",
      "execution_count": null,
      "metadata": {
        "id": "fiSQs73Ll5Vw",
        "colab": {
          "base_uri": "https://localhost:8080/"
        },
        "outputId": "3f599acb-4c11-41f9-e4c4-5a5815f35ec9"
      },
      "outputs": [
        {
          "output_type": "stream",
          "name": "stdout",
          "text": [
            "Drive already mounted at /content/drive; to attempt to forcibly remount, call drive.mount(\"/content/drive\", force_remount=True).\n"
          ]
        }
      ],
      "source": [
        "from google.colab import drive\n",
        "drive.mount('/content/drive')"
      ]
    },
    {
      "cell_type": "code",
      "execution_count": null,
      "metadata": {
        "id": "poxIeGhZVEKM"
      },
      "outputs": [],
      "source": [
        "import json\n",
        "seq_path = '/content/drive/My Drive/datasets/cabspotting_sequences_30.json'\n",
        "with open(seq_path, 'r') as f:\n",
        "  seq_list = json.load(f)"
      ]
    },
    {
      "cell_type": "markdown",
      "metadata": {
        "id": "ODpZ6_FBy8Z1"
      },
      "source": [
        "## Load train & test"
      ]
    },
    {
      "cell_type": "code",
      "execution_count": null,
      "metadata": {
        "id": "baYppK5N2PtP"
      },
      "outputs": [],
      "source": [
        "import torch\n",
        "import pandas\n",
        "import json"
      ]
    },
    {
      "cell_type": "code",
      "execution_count": null,
      "metadata": {
        "colab": {
          "base_uri": "https://localhost:8080/"
        },
        "id": "bVArJ5Vhy5lH",
        "outputId": "42afd2f7-0917-4fd4-d2dc-ed11cfca89a0"
      },
      "outputs": [
        {
          "output_type": "stream",
          "name": "stdout",
          "text": [
            "Mounted at /content/drive\n"
          ]
        }
      ],
      "source": [
        "from google.colab import drive\n",
        "drive.mount('/content/drive')"
      ]
    },
    {
      "cell_type": "code",
      "execution_count": null,
      "metadata": {
        "id": "BH4r3QE3yx4b"
      },
      "outputs": [],
      "source": [
        "train_path = '/content/drive/My Drive/datasets/cabspotting_train.json'\n",
        "test_path  = '/content/drive/My Drive/datasets/cabspotting_test.json'\n",
        "\n",
        "with open(train_path, 'r') as f:\n",
        "  train_data = json.load(f)\n",
        "\n",
        "with open(test_path, 'r') as f:\n",
        "  test_data = json.load(f)"
      ]
    },
    {
      "cell_type": "code",
      "execution_count": null,
      "metadata": {
        "id": "Hbpc3cCb0282"
      },
      "outputs": [],
      "source": [
        "# 1. input/pred\n",
        "# 2. pad them\n",
        "# 3. turn all input and outputs of each columns into a single tensor\n",
        "# 4. because we have all the data as tensors, define the dataloader object such that give a batch of indexes"
      ]
    },
    {
      "cell_type": "code",
      "execution_count": null,
      "metadata": {
        "id": "PLvsCKRAsxY4"
      },
      "outputs": [],
      "source": [
        "def padding_mask(sequence, max_len):\n",
        "  attention_mask  = [1 for _ in range(len(sequence[:max_len]))] + [0]*(max_len - len(sequence))\n",
        "  attention_mask  = torch.tensor(attention_mask)\n",
        "  return torch.ger(attention_mask, attention_mask)"
      ]
    },
    {
      "cell_type": "code",
      "execution_count": null,
      "metadata": {
        "id": "DuYR90znx0si"
      },
      "outputs": [],
      "source": [
        "def pad_sequence(sequence, max_len):\n",
        "  padded_sequence = sequence[:max_len] + [0]*(max_len - len(sequence))\n",
        "\n",
        "  return torch.tensor(padded_sequence)"
      ]
    },
    {
      "cell_type": "code",
      "execution_count": null,
      "metadata": {
        "id": "dUonz5Pexv_N"
      },
      "outputs": [],
      "source": [
        "def prepaire_row(row, max_len_input, max_len_pred):\n",
        "  tensor_row = dict()\n",
        "  output     = dict()\n",
        "\n",
        "  for col in row[0]:\n",
        "    if not col=='name':\n",
        "      tensor_row[col] = [{'input':pad_sequence(row[idx][col][:len(row[idx][col])-len(row[idx][col])//5], max_len_input),\n",
        "                          'pred': pad_sequence(row[idx][col][len(row[idx][col])-len(row[idx][col])//5:], max_len_pred),}\n",
        "                          for idx in range(len(row))]\n",
        "  for col in tensor_row:\n",
        "      output[col]=dict()\n",
        "      output[col]['input'] = [tensor_row[col][idx]['input']\n",
        "                              for idx in range(len(tensor_row[col]))]\n",
        "      output[col]['input'] = torch.stack(output[col]['input'])\n",
        "\n",
        "\n",
        "      output[col]['pred'] = [tensor_row[col][idx]['pred']\n",
        "                              for idx in range(len(tensor_row[col]))]\n",
        "      output[col]['pred'] = torch.stack(output[col]['pred'])\n",
        "\n",
        "  return output"
      ]
    },
    {
      "cell_type": "code",
      "execution_count": null,
      "metadata": {
        "id": "qHDJ3LyrzeZT"
      },
      "outputs": [],
      "source": [
        "test_tensors_dict = prepaire_row(test_data, 120, 30)\n",
        "train_tensors_dict = prepaire_row(train_data, 120, 30)"
      ]
    },
    {
      "cell_type": "code",
      "execution_count": null,
      "metadata": {
        "colab": {
          "base_uri": "https://localhost:8080/"
        },
        "id": "qwF_P_KMi8sK",
        "outputId": "ca4320ad-a702-40db-ab79-74efe8798ecf"
      },
      "outputs": [
        {
          "output_type": "execute_result",
          "data": {
            "text/plain": [
              "torch.Size([5000, 120])"
            ]
          },
          "metadata": {},
          "execution_count": 17
        }
      ],
      "source": [
        "test_tensors_dict['time']['input'].shape"
      ]
    },
    {
      "cell_type": "code",
      "execution_count": null,
      "metadata": {
        "colab": {
          "base_uri": "https://localhost:8080/"
        },
        "id": "7inlBhbBb3NU",
        "outputId": "580ef03a-c8ea-4673-9444-224744b770f3"
      },
      "outputs": [
        {
          "output_type": "execute_result",
          "data": {
            "text/plain": [
              "tensor([1211284864, 1211284924, 1211284985, 1211285044, 1211285105, 1211285165,\n",
              "        1211285225, 1211285285, 1211285345, 1211285386])"
            ]
          },
          "metadata": {},
          "execution_count": 18
        }
      ],
      "source": [
        "test_tensors_dict['time']['input'][0][:10]"
      ]
    },
    {
      "cell_type": "code",
      "execution_count": null,
      "metadata": {
        "id": "yNWkjSDT32_s",
        "colab": {
          "base_uri": "https://localhost:8080/"
        },
        "outputId": "afdcac04-95bc-45e2-cef2-8acb0232d52f"
      },
      "outputs": [
        {
          "output_type": "stream",
          "name": "stdout",
          "text": [
            "Collecting datasets\n",
            "  Downloading datasets-3.0.2-py3-none-any.whl.metadata (20 kB)\n",
            "Requirement already satisfied: filelock in /usr/local/lib/python3.10/dist-packages (from datasets) (3.16.1)\n",
            "Requirement already satisfied: numpy>=1.17 in /usr/local/lib/python3.10/dist-packages (from datasets) (1.26.4)\n",
            "Requirement already satisfied: pyarrow>=15.0.0 in /usr/local/lib/python3.10/dist-packages (from datasets) (16.1.0)\n",
            "Collecting dill<0.3.9,>=0.3.0 (from datasets)\n",
            "  Downloading dill-0.3.8-py3-none-any.whl.metadata (10 kB)\n",
            "Requirement already satisfied: pandas in /usr/local/lib/python3.10/dist-packages (from datasets) (2.2.2)\n",
            "Requirement already satisfied: requests>=2.32.2 in /usr/local/lib/python3.10/dist-packages (from datasets) (2.32.3)\n",
            "Requirement already satisfied: tqdm>=4.66.3 in /usr/local/lib/python3.10/dist-packages (from datasets) (4.66.5)\n",
            "Collecting xxhash (from datasets)\n",
            "  Downloading xxhash-3.5.0-cp310-cp310-manylinux_2_17_x86_64.manylinux2014_x86_64.whl.metadata (12 kB)\n",
            "Collecting multiprocess<0.70.17 (from datasets)\n",
            "  Downloading multiprocess-0.70.16-py310-none-any.whl.metadata (7.2 kB)\n",
            "Requirement already satisfied: fsspec<=2024.9.0,>=2023.1.0 in /usr/local/lib/python3.10/dist-packages (from fsspec[http]<=2024.9.0,>=2023.1.0->datasets) (2024.6.1)\n",
            "Requirement already satisfied: aiohttp in /usr/local/lib/python3.10/dist-packages (from datasets) (3.10.10)\n",
            "Requirement already satisfied: huggingface-hub>=0.23.0 in /usr/local/lib/python3.10/dist-packages (from datasets) (0.24.7)\n",
            "Requirement already satisfied: packaging in /usr/local/lib/python3.10/dist-packages (from datasets) (24.1)\n",
            "Requirement already satisfied: pyyaml>=5.1 in /usr/local/lib/python3.10/dist-packages (from datasets) (6.0.2)\n",
            "Requirement already satisfied: aiohappyeyeballs>=2.3.0 in /usr/local/lib/python3.10/dist-packages (from aiohttp->datasets) (2.4.3)\n",
            "Requirement already satisfied: aiosignal>=1.1.2 in /usr/local/lib/python3.10/dist-packages (from aiohttp->datasets) (1.3.1)\n",
            "Requirement already satisfied: attrs>=17.3.0 in /usr/local/lib/python3.10/dist-packages (from aiohttp->datasets) (24.2.0)\n",
            "Requirement already satisfied: frozenlist>=1.1.1 in /usr/local/lib/python3.10/dist-packages (from aiohttp->datasets) (1.4.1)\n",
            "Requirement already satisfied: multidict<7.0,>=4.5 in /usr/local/lib/python3.10/dist-packages (from aiohttp->datasets) (6.1.0)\n",
            "Requirement already satisfied: yarl<2.0,>=1.12.0 in /usr/local/lib/python3.10/dist-packages (from aiohttp->datasets) (1.16.0)\n",
            "Requirement already satisfied: async-timeout<5.0,>=4.0 in /usr/local/lib/python3.10/dist-packages (from aiohttp->datasets) (4.0.3)\n",
            "Requirement already satisfied: typing-extensions>=3.7.4.3 in /usr/local/lib/python3.10/dist-packages (from huggingface-hub>=0.23.0->datasets) (4.12.2)\n",
            "Requirement already satisfied: charset-normalizer<4,>=2 in /usr/local/lib/python3.10/dist-packages (from requests>=2.32.2->datasets) (3.4.0)\n",
            "Requirement already satisfied: idna<4,>=2.5 in /usr/local/lib/python3.10/dist-packages (from requests>=2.32.2->datasets) (3.10)\n",
            "Requirement already satisfied: urllib3<3,>=1.21.1 in /usr/local/lib/python3.10/dist-packages (from requests>=2.32.2->datasets) (2.2.3)\n",
            "Requirement already satisfied: certifi>=2017.4.17 in /usr/local/lib/python3.10/dist-packages (from requests>=2.32.2->datasets) (2024.8.30)\n",
            "Requirement already satisfied: python-dateutil>=2.8.2 in /usr/local/lib/python3.10/dist-packages (from pandas->datasets) (2.8.2)\n",
            "Requirement already satisfied: pytz>=2020.1 in /usr/local/lib/python3.10/dist-packages (from pandas->datasets) (2024.2)\n",
            "Requirement already satisfied: tzdata>=2022.7 in /usr/local/lib/python3.10/dist-packages (from pandas->datasets) (2024.2)\n",
            "Requirement already satisfied: six>=1.5 in /usr/local/lib/python3.10/dist-packages (from python-dateutil>=2.8.2->pandas->datasets) (1.16.0)\n",
            "Requirement already satisfied: propcache>=0.2.0 in /usr/local/lib/python3.10/dist-packages (from yarl<2.0,>=1.12.0->aiohttp->datasets) (0.2.0)\n",
            "Downloading datasets-3.0.2-py3-none-any.whl (472 kB)\n",
            "\u001b[2K   \u001b[90m━━━━━━━━━━━━━━━━━━━━━━━━━━━━━━━━━━━━━━━━\u001b[0m \u001b[32m472.7/472.7 kB\u001b[0m \u001b[31m6.2 MB/s\u001b[0m eta \u001b[36m0:00:00\u001b[0m\n",
            "\u001b[?25hDownloading dill-0.3.8-py3-none-any.whl (116 kB)\n",
            "\u001b[2K   \u001b[90m━━━━━━━━━━━━━━━━━━━━━━━━━━━━━━━━━━━━━━━━\u001b[0m \u001b[32m116.3/116.3 kB\u001b[0m \u001b[31m7.6 MB/s\u001b[0m eta \u001b[36m0:00:00\u001b[0m\n",
            "\u001b[?25hDownloading multiprocess-0.70.16-py310-none-any.whl (134 kB)\n",
            "\u001b[2K   \u001b[90m━━━━━━━━━━━━━━━━━━━━━━━━━━━━━━━━━━━━━━━━\u001b[0m \u001b[32m134.8/134.8 kB\u001b[0m \u001b[31m5.3 MB/s\u001b[0m eta \u001b[36m0:00:00\u001b[0m\n",
            "\u001b[?25hDownloading xxhash-3.5.0-cp310-cp310-manylinux_2_17_x86_64.manylinux2014_x86_64.whl (194 kB)\n",
            "\u001b[2K   \u001b[90m━━━━━━━━━━━━━━━━━━━━━━━━━━━━━━━━━━━━━━━━\u001b[0m \u001b[32m194.1/194.1 kB\u001b[0m \u001b[31m11.5 MB/s\u001b[0m eta \u001b[36m0:00:00\u001b[0m\n",
            "\u001b[?25hInstalling collected packages: xxhash, dill, multiprocess, datasets\n",
            "Successfully installed datasets-3.0.2 dill-0.3.8 multiprocess-0.70.16 xxhash-3.5.0\n"
          ]
        }
      ],
      "source": [
        "!pip install datasets"
      ]
    },
    {
      "cell_type": "code",
      "execution_count": null,
      "metadata": {
        "id": "qYw8K2iU3_hx",
        "colab": {
          "base_uri": "https://localhost:8080/"
        },
        "outputId": "5bb78205-0f83-441a-ba3e-62c8611ba7a5"
      },
      "outputs": [
        {
          "output_type": "stream",
          "name": "stdout",
          "text": [
            "{'idx': tensor([0, 1, 2, 3, 4])}\n",
            "<class 'dict'>\n",
            "torch.Size([5])\n",
            "torch.Size([5, 120])\n"
          ]
        }
      ],
      "source": [
        "train_idx = [{'idx':i} for i in range(len(train_data))]\n",
        "valid_idx = [{'idx':i} for i in range(1500)]\n",
        "test_idx  = [{'idx':i+1500} for i in range(5000-1500)]\n",
        "from torch.utils.data import DataLoader, Dataset\n",
        "train_idx_loader     = DataLoader(train_idx, batch_size= batch_size, shuffle=True)\n",
        "valid_idx_loader     = DataLoader(valid_idx, batch_size= batch_size, shuffle=False)\n",
        "test_idx_loader      = DataLoader(test_idx, batch_size= batch_size, shuffle=False)\n",
        "for i in valid_idx_loader:\n",
        "  print(i)\n",
        "  print(type(i))\n",
        "  print(i['idx'].shape)\n",
        "  print(test_tensors_dict['time']['input'][i['idx']].shape)\n",
        "  break"
      ]
    },
    {
      "cell_type": "code",
      "execution_count": null,
      "metadata": {
        "colab": {
          "base_uri": "https://localhost:8080/"
        },
        "id": "pwG9yW1W4RVF",
        "outputId": "5c53bda1-3420-4745-e49f-b65854862d6b"
      },
      "outputs": [
        {
          "output_type": "execute_result",
          "data": {
            "text/plain": [
              "3500"
            ]
          },
          "metadata": {},
          "execution_count": 21
        }
      ],
      "source": [
        "len(test_idx)"
      ]
    },
    {
      "cell_type": "code",
      "execution_count": null,
      "metadata": {
        "id": "1LBm9t695tuL"
      },
      "outputs": [],
      "source": [
        "batch_size = 64"
      ]
    },
    {
      "cell_type": "code",
      "execution_count": null,
      "metadata": {
        "id": "h-Ec6WEw3tU7"
      },
      "outputs": [],
      "source": [
        "from torch.utils.data import DataLoader, Dataset\n",
        "train_idx_loader     = DataLoader(train_idx, batch_size= batch_size, shuffle=True)\n",
        "valid_idx_loader     = DataLoader(valid_idx, batch_size= batch_size, shuffle=False)\n",
        "test_idx_loader      = DataLoader(test_idx, batch_size= batch_size, shuffle=False)"
      ]
    },
    {
      "cell_type": "code",
      "execution_count": null,
      "metadata": {
        "colab": {
          "base_uri": "https://localhost:8080/"
        },
        "id": "zha4eSQ36V3M",
        "outputId": "a4309b9e-1a13-4c87-a20c-109d07297285"
      },
      "outputs": [
        {
          "output_type": "stream",
          "name": "stdout",
          "text": [
            "{'idx': tensor([ 0,  1,  2,  3,  4,  5,  6,  7,  8,  9, 10, 11, 12, 13, 14, 15, 16, 17,\n",
            "        18, 19, 20, 21, 22, 23, 24, 25, 26, 27, 28, 29, 30, 31, 32, 33, 34, 35,\n",
            "        36, 37, 38, 39, 40, 41, 42, 43, 44, 45, 46, 47, 48, 49, 50, 51, 52, 53,\n",
            "        54, 55, 56, 57, 58, 59, 60, 61, 62, 63])}\n",
            "<class 'dict'>\n",
            "torch.Size([64])\n",
            "torch.Size([64, 120])\n"
          ]
        }
      ],
      "source": [
        "for i in valid_idx_loader:\n",
        "  print(i)\n",
        "  print(type(i))\n",
        "  print(i['idx'].shape)\n",
        "  print(test_tensors_dict['time']['input'][i['idx']].shape)\n",
        "  break"
      ]
    },
    {
      "cell_type": "code",
      "execution_count": null,
      "metadata": {
        "colab": {
          "base_uri": "https://localhost:8080/"
        },
        "id": "l-62nCGA3OVj",
        "outputId": "ab940315-3e25-430e-a2e8-616a28f800eb"
      },
      "outputs": [
        {
          "output_type": "stream",
          "name": "stdout",
          "text": [
            "name\n",
            "latitude\n",
            "longitude\n",
            "occupancy\n",
            "time\n"
          ]
        }
      ],
      "source": [
        "for i in train_data[0]:\n",
        "  print(i)"
      ]
    },
    {
      "cell_type": "code",
      "execution_count": null,
      "metadata": {
        "colab": {
          "base_uri": "https://localhost:8080/"
        },
        "id": "6d4mnphl00q0",
        "outputId": "f283855e-4567-4b8a-a4b1-350deecc6aef"
      },
      "outputs": [
        {
          "output_type": "stream",
          "name": "stdout",
          "text": [
            "{'idx': tensor([24812, 51872, 16475, 34249, 17546, 40708, 54997, 58250, 58876, 29688,\n",
            "        64937, 39231, 33647, 62495, 37981, 53196, 19724, 22665, 17287, 43521,\n",
            "        41166, 48799, 20733, 42503, 37446, 13521, 44947,  9036, 30706, 24947,\n",
            "        10613,  7159, 36841,   248, 48200,  6094,  3792, 36215,  9783, 51169,\n",
            "        47024, 48809, 58361, 18167, 32945, 31950, 23673, 34648, 24067, 48712,\n",
            "        51946, 44119,  9065, 36466, 45463, 15538, 50690, 52954, 58578, 37055,\n",
            "        16803, 36769, 10438, 45644])}\n",
            "torch.Size([64, 120, 2])\n",
            "tensor([[True, True, True,  ..., True, True, True],\n",
            "        [True, True, True,  ..., True, True, True],\n",
            "        [True, True, True,  ..., True, True, True],\n",
            "        ...,\n",
            "        [True, True, True,  ..., True, True, True],\n",
            "        [True, True, True,  ..., True, True, True],\n",
            "        [True, True, True,  ..., True, True, True]])\n"
          ]
        }
      ],
      "source": [
        "# concat longitude and latitude\n",
        "\n",
        "for i in train_idx_loader:\n",
        "  print(i)\n",
        "  axes = torch.stack((train_tensors_dict['latitude']['input'][i['idx']],\n",
        "                    train_tensors_dict['longitude']['input'][i['idx']])\n",
        "                    , dim=2)\n",
        "  print(axes.shape)\n",
        "  print(axes[:, :, 0]==train_tensors_dict['latitude']['input'][i['idx']])\n",
        "  break"
      ]
    },
    {
      "cell_type": "code",
      "execution_count": null,
      "metadata": {
        "colab": {
          "base_uri": "https://localhost:8080/"
        },
        "id": "ulBmM3pZ5xHr",
        "outputId": "40698512-cacc-4c6e-f087-e80d09c15508"
      },
      "outputs": [
        {
          "output_type": "stream",
          "name": "stdout",
          "text": [
            "tensor([37.7977, 37.7978, 37.7977, 37.7978, 37.7977, 37.7998, 37.7987, 37.7969,\n",
            "        37.7918, 37.7912]) \n",
            " tensor([37.7853, 37.7853, 37.7853, 37.7853, 37.7852, 37.7853, 37.7853, 37.7852,\n",
            "        37.7852, 37.7853])\n",
            "[37.79775, 37.79777, 37.79775, 37.79777, 37.79773, 37.79977, 37.79866, 37.79694, 37.79176, 37.79125] \n",
            " [37.78526, 37.78534, 37.78525, 37.7853, 37.78522, 37.78534, 37.78534, 37.78519, 37.78521, 37.7853]\n"
          ]
        }
      ],
      "source": [
        "# final checking tests\n",
        "\n",
        "for i in train_idx_loader:\n",
        "  idx = i['idx'][0].item()\n",
        "  print(\n",
        "      train_tensors_dict['latitude']['input'][idx][:10],\n",
        "      '\\n',\n",
        "      train_tensors_dict['latitude']['pred'][idx][-10:]\n",
        "  )\n",
        "  print(train_data[idx]['latitude'][:10],\n",
        "        '\\n',\n",
        "        train_data[idx]['latitude'][-10:])\n",
        "  break"
      ]
    },
    {
      "cell_type": "code",
      "execution_count": null,
      "metadata": {
        "colab": {
          "base_uri": "https://localhost:8080/"
        },
        "id": "otFZ7siwCszS",
        "outputId": "6c10be44-e698-4d47-c4a3-7243b47e41c4"
      },
      "outputs": [
        {
          "output_type": "stream",
          "name": "stdout",
          "text": [
            "{'name': 'new_ophugbe', 'latitude': [37.7741, 37.77504, 37.77457, 37.77457, 37.77529, 37.77306, 37.76039, 37.74714, 37.73637, 37.72866, 37.71542, 37.70239, 37.68933, 37.67583, 37.66457, 37.65349, 37.63998, 37.62659, 37.614, 37.6157, 37.61693, 37.61432, 37.62411, 37.6372, 37.65058, 37.66287, 37.67373, 37.68719, 37.70051, 37.71375, 37.72643, 37.73841, 37.74973, 37.76321, 37.77404, 37.7763, 37.77948, 37.78246, 37.78465, 37.78607, 37.78615, 37.78738, 37.78774, 37.78857, 37.78864, 37.78874, 37.78865, 37.78451, 37.78372, 37.78259, 37.78426, 37.78363, 37.78193, 37.78195, 37.7818, 37.7804, 37.78184, 37.78041, 37.78091, 37.7812, 37.78121, 37.78251, 37.78111, 37.77976, 37.77861, 37.77756, 37.77891, 37.78057, 37.78265, 37.78428, 37.78503, 37.7852, 37.78151, 37.78347, 37.78617, 37.78714, 37.78742, 37.78765, 37.78765, 37.78763, 37.78762, 37.78659, 37.78533, 37.78317, 37.78312, 37.78268, 37.78206, 37.77915, 37.77778, 37.76928, 37.75821, 37.75242, 37.75242, 37.74833, 37.74826, 37.74825, 37.74775, 37.74402, 37.74402, 37.74609, 37.74881, 37.75027, 37.75012, 37.75155, 37.7522, 37.75162, 37.75186, 37.75346, 37.75538, 37.75853, 37.75934, 37.76159, 37.76439, 37.76814, 37.76984, 37.7728, 37.77576, 37.77623, 37.77615, 37.77611, 37.77618, 37.7762, 37.77779, 37.78068, 37.78262, 37.78364, 37.78404, 37.7842, 37.78416, 37.78445, 37.78515, 37.78481, 37.78613, 37.79035, 37.79158, 37.79171, 37.79244, 37.79285, 37.79082, 37.79147, 37.79067, 37.78997, 37.78947, 37.78938, 37.7852, 37.78103, 37.78103, 37.77974, 37.77745, 37.77489], 'longitude': [-122.40025, -122.39922, -122.39977, -122.39976, -122.39721, -122.39803, -122.3924, -122.3937, -122.40371, -122.40314, -122.39835, -122.39378, -122.39083, -122.38898, -122.39816, -122.40722, -122.40581, -122.40251, -122.39746, -122.38823, -122.38811, -122.39538, -122.40086, -122.40425, -122.40669, -122.40032, -122.38976, -122.39004, -122.39304, -122.39679, -122.40202, -122.40136, -122.39201, -122.39267, -122.39684, -122.39386, -122.39396, -122.3973, -122.39996, -122.40189, -122.40332, -122.40338, -122.4041, -122.40466, -122.4051, -122.40513, -122.40662, -122.40447, -122.40499, -122.40648, -122.40454, -122.40361, -122.40431, -122.40434, -122.40448, -122.40335, -122.4014, -122.40302, -122.40239, -122.4024, -122.40238, -122.40275, -122.40007, -122.39843, -122.397, -122.39989, -122.40161, -122.40387, -122.40622, -122.40831, -122.40923, -122.4109, -122.41428, -122.4127, -122.41138, -122.41463, -122.41472, -122.41392, -122.41392, -122.41357, -122.41024, -122.41005, -122.40967, -122.40716, -122.40715, -122.40696, -122.40567, -122.40213, -122.40339, -122.40556, -122.40512, -122.40296, -122.40296, -122.41004, -122.41559, -122.41793, -122.42256, -122.42341, -122.42346, -122.42454, -122.42281, -122.42276, -122.42714, -122.43003, -122.43168, -122.42895, -122.42539, -122.42305, -122.42097, -122.4213, -122.42131, -122.42157, -122.42194, -122.42234, -122.42235, -122.42227, -122.42115, -122.42176, -122.4217, -122.42166, -122.42165, -122.42164, -122.4216, -122.42153, -122.42067, -122.41681, -122.41432, -122.41319, -122.4112, -122.40956, -122.40932, -122.41414, -122.41491, -122.41586, -122.41766, -122.41771, -122.418, -122.41615, -122.41748, -122.42083, -122.42053, -122.42062, -122.42198, -122.42386, -122.42503, -122.42847, -122.42847, -122.43619, -122.43829, -122.43918], 'occupancy': [1, 1, 1, 0, 0, 0, 0, 0, 0, 0, 0, 0, 0, 0, 0, 0, 0, 0, 0, 0, 1, 1, 1, 1, 1, 1, 1, 1, 1, 1, 1, 1, 1, 1, 1, 1, 1, 1, 1, 1, 1, 0, 0, 0, 0, 1, 1, 1, 1, 1, 1, 1, 1, 0, 0, 0, 0, 0, 0, 0, 0, 0, 0, 0, 0, 0, 0, 0, 0, 0, 0, 0, 0, 1, 1, 1, 1, 1, 0, 1, 1, 1, 1, 1, 0, 1, 1, 1, 1, 1, 1, 1, 1, 1, 1, 1, 1, 1, 0, 0, 0, 0, 0, 0, 0, 0, 0, 0, 0, 0, 1, 1, 1, 1, 1, 1, 1, 1, 0, 0, 0, 0, 0, 0, 0, 0, 0, 0, 0, 1, 1, 1, 1, 1, 1, 0, 0, 0, 0, 0, 1, 1, 1, 1, 1, 1, 1, 1, 1, 1], 'time': [1212805970, 1212806020, 1212806066, 1212806072, 1212806128, 1212806193, 1212806246, 1212806299, 1212806350, 1212806387, 1212806435, 1212806483, 1212806529, 1212806576, 1212806641, 1212806683, 1212806734, 1212806791, 1212806842, 1212806922, 1212807355, 1212807416, 1212807471, 1212807529, 1212807590, 1212807637, 1212807688, 1212807741, 1212807786, 1212807855, 1212807899, 1212807959, 1212808006, 1212808056, 1212808126, 1212808180, 1212808237, 1212808296, 1212808357, 1212808422, 1212808471, 1212808687, 1212808730, 1212808790, 1212808850, 1212808876, 1212808942, 1212809074, 1212809124, 1212809183, 1212809244, 1212809299, 1212809343, 1212809349, 1212809409, 1212809463, 1212809497, 1212809587, 1212809677, 1212809733, 1212809794, 1212809876, 1212809932, 1212809968, 1212809998, 1212810073, 1212810118, 1212810188, 1212810246, 1212810300, 1212810347, 1212810393, 1212810463, 1212810482, 1212810542, 1212810602, 1212810644, 1212810684, 1212810686, 1212810742, 1212810801, 1212810861, 1212810921, 1212811041, 1212811066, 1212811093, 1212811166, 1212811213, 1212811293, 1212811333, 1212811393, 1212811423, 1212811438, 1212811485, 1212811545, 1212811606, 1212811667, 1212811739, 1212811741, 1212811810, 1212811910, 1212811970, 1212812030, 1212812091, 1212812151, 1212812223, 1212812271, 1212812341, 1212812392, 1212812454, 1212812469, 1212812530, 1212812590, 1212812650, 1212812710, 1212812770, 1212812836, 1212812897, 1212812917, 1212812977, 1212813037, 1212813097, 1212813157, 1212813194, 1212813254, 1212813314, 1212813375, 1212813400, 1212813459, 1212813511, 1212813561, 1212813621, 1212813681, 1212813741, 1212813792, 1212813798, 1212813859, 1212813919, 1212813979, 1212814105, 1212814125, 1212814185, 1212814247, 1212814321, 1212814368, 1212814428, 1212814442, 1212814488, 1212814558, 1212814608]}\n"
          ]
        }
      ],
      "source": [
        "for i in train_idx_loader:\n",
        "  idx = i['idx']\n",
        "  for i in idx:\n",
        "    idx = i.item()\n",
        "    print(train_data[idx])\n",
        "    break\n",
        "  break"
      ]
    },
    {
      "cell_type": "code",
      "execution_count": null,
      "metadata": {
        "colab": {
          "base_uri": "https://localhost:8080/"
        },
        "id": "TAqxpmEo_XYD",
        "outputId": "1774ee93-5da7-4960-e58d-572c1dff14cd"
      },
      "outputs": [
        {
          "output_type": "execute_result",
          "data": {
            "text/plain": [
              "'\\nfrom datasets import load_dataset, DatasetDict, Dataset\\nimport pandas as pd\\n\\ntrain_dataset = Dataset.from_pandas(pd.DataFrame(data=train_data))\\ntest_dataset  = Dataset.from_pandas(pd.DataFrame(data=test_data))\\n\\nfrom torch.utils.data import DataLoader, Dataset\\n\\ntrain_loader = DataLoader(train_dataset, batch_size=64, shuffle=True)\\ntest_loader  = DataLoader(test_dataset, batch_size=64, shuffle=False)\\n'"
            ],
            "application/vnd.google.colaboratory.intrinsic+json": {
              "type": "string"
            }
          },
          "metadata": {},
          "execution_count": 29
        }
      ],
      "source": [
        "'''\n",
        "from datasets import load_dataset, DatasetDict, Dataset\n",
        "import pandas as pd\n",
        "\n",
        "train_dataset = Dataset.from_pandas(pd.DataFrame(data=train_data))\n",
        "test_dataset  = Dataset.from_pandas(pd.DataFrame(data=test_data))\n",
        "\n",
        "from torch.utils.data import DataLoader, Dataset\n",
        "\n",
        "train_loader = DataLoader(train_dataset, batch_size=64, shuffle=True)\n",
        "test_loader  = DataLoader(test_dataset, batch_size=64, shuffle=False)\n",
        "'''"
      ]
    },
    {
      "cell_type": "code",
      "execution_count": null,
      "metadata": {
        "colab": {
          "base_uri": "https://localhost:8080/"
        },
        "id": "XgJaUOvvDTxz",
        "outputId": "48fe155a-618c-48ba-9223-35698fd0d991"
      },
      "outputs": [
        {
          "output_type": "execute_result",
          "data": {
            "text/plain": [
              "\"\\ndef mutate_rows(df):\\n  rows_to_drop = [i-1 for i in range(1, len(df)) if abs(df.iloc[i]['time'] - df.iloc[i-1]['time'])<30]\\n\\n  rows_to_add  = [pd.DataFrame({'cab_name':  [df.iloc[i-1]['cab_name']],\\n                                'latitude':  [(df.iloc[i]['latitude'] + df.iloc[i-1]['latitude'])/2],\\n                                'longitude': [(df.iloc[i]['longitude'] + df.iloc[i-1]['longitude'])/2],\\n                                'occupancy': [df.iloc[i-1]['occupancy']],\\n                                'time':      [(df.iloc[i]['time'] + df.iloc[i-1]['time'])//2]})\\n                  for i in range(1, len(df)) if 100<= abs(df.iloc[i]['time'] - df.iloc[i-1]['time']) <=200]\\n\\n  df = df.drop(rows_to_drop)\\n\\n  if rows_to_add:\\n    df = pd.concat([df] + rows_to_add, ignore_index=True)\\n\\n  return df\\nmutated_data = mutate_rows(df)\\n\\nmutated_data.sort_values(by=['cab_name','time'], inplace=True)\\nprint(len(mutated_data))\\nmutated_data.head()\\n\""
            ],
            "application/vnd.google.colaboratory.intrinsic+json": {
              "type": "string"
            }
          },
          "metadata": {},
          "execution_count": 30
        }
      ],
      "source": [
        "'''\n",
        "def mutate_rows(df):\n",
        "  rows_to_drop = [i-1 for i in range(1, len(df)) if abs(df.iloc[i]['time'] - df.iloc[i-1]['time'])<30]\n",
        "\n",
        "  rows_to_add  = [pd.DataFrame({'cab_name':  [df.iloc[i-1]['cab_name']],\n",
        "                                'latitude':  [(df.iloc[i]['latitude'] + df.iloc[i-1]['latitude'])/2],\n",
        "                                'longitude': [(df.iloc[i]['longitude'] + df.iloc[i-1]['longitude'])/2],\n",
        "                                'occupancy': [df.iloc[i-1]['occupancy']],\n",
        "                                'time':      [(df.iloc[i]['time'] + df.iloc[i-1]['time'])//2]})\n",
        "                  for i in range(1, len(df)) if 100<= abs(df.iloc[i]['time'] - df.iloc[i-1]['time']) <=200]\n",
        "\n",
        "  df = df.drop(rows_to_drop)\n",
        "\n",
        "  if rows_to_add:\n",
        "    df = pd.concat([df] + rows_to_add, ignore_index=True)\n",
        "\n",
        "  return df\n",
        "mutated_data = mutate_rows(df)\n",
        "\n",
        "mutated_data.sort_values(by=['cab_name','time'], inplace=True)\n",
        "print(len(mutated_data))\n",
        "mutated_data.head()\n",
        "'''"
      ]
    },
    {
      "cell_type": "code",
      "execution_count": null,
      "metadata": {
        "colab": {
          "base_uri": "https://localhost:8080/"
        },
        "id": "4c6EEP9VvzG1",
        "outputId": "72c43154-c68c-49e2-88a5-1519e6c300c1"
      },
      "outputs": [
        {
          "output_type": "execute_result",
          "data": {
            "text/plain": [
              "\"\\nhisto_0 = []\\nhisto_1 = []\\nhisto_2 = []\\n\\nfor name in data['cab_name'].unique():\\n  cab_data = data[data['cab_name']==name]\\n  t = list(cab_data['time'])\\n\\n  cab_points_0 = [i for i in range(len(cab_data)-1) if (t[i]-t[i+1])>(60*60-1)]\\n  cab_seqs_0   = [t[i]-t[i+1] for i in cab_points_0]\\n  try:\\n    cab_seqs_0.append(t[0]-t[cab_points_0[0]])\\n  except:\\n    pass\\n  histo_0.append(cab_seqs_0)\\n\\n  cab_points_1 = [i for i in range(len(cab_data)-1) if (t[i]-t[i+1])>(60*30-1)]\\n  cab_seqs_1   = [t[i]-t[i+1] for i in cab_points_1]\\n  try:\\n    cab_seqs_1.append(t[0]-t[cab_points_1[0]])\\n  except:\\n    pass\\n  histo_1.append(cab_seqs_1)\\n\\n  cab_points_2 = [i for i in range(len(cab_data)-1) if (t[i]-t[i+1])>(60*10-1)]\\n  cab_seqs_2   = [t[i]-t[i+1] for i in cab_points_2]\\n  try:\\n    cab_seqs_2.append(t[0]-t[cab_points_2[0]])\\n  except:\\n    pass\\n  histo_2.append(cab_seqs_2)\\n\""
            ],
            "application/vnd.google.colaboratory.intrinsic+json": {
              "type": "string"
            }
          },
          "metadata": {},
          "execution_count": 31
        }
      ],
      "source": [
        "'''\n",
        "histo_0 = []\n",
        "histo_1 = []\n",
        "histo_2 = []\n",
        "\n",
        "for name in data['cab_name'].unique():\n",
        "  cab_data = data[data['cab_name']==name]\n",
        "  t = list(cab_data['time'])\n",
        "\n",
        "  cab_points_0 = [i for i in range(len(cab_data)-1) if (t[i]-t[i+1])>(60*60-1)]\n",
        "  cab_seqs_0   = [t[i]-t[i+1] for i in cab_points_0]\n",
        "  try:\n",
        "    cab_seqs_0.append(t[0]-t[cab_points_0[0]])\n",
        "  except:\n",
        "    pass\n",
        "  histo_0.append(cab_seqs_0)\n",
        "\n",
        "  cab_points_1 = [i for i in range(len(cab_data)-1) if (t[i]-t[i+1])>(60*30-1)]\n",
        "  cab_seqs_1   = [t[i]-t[i+1] for i in cab_points_1]\n",
        "  try:\n",
        "    cab_seqs_1.append(t[0]-t[cab_points_1[0]])\n",
        "  except:\n",
        "    pass\n",
        "  histo_1.append(cab_seqs_1)\n",
        "\n",
        "  cab_points_2 = [i for i in range(len(cab_data)-1) if (t[i]-t[i+1])>(60*10-1)]\n",
        "  cab_seqs_2   = [t[i]-t[i+1] for i in cab_points_2]\n",
        "  try:\n",
        "    cab_seqs_2.append(t[0]-t[cab_points_2[0]])\n",
        "  except:\n",
        "    pass\n",
        "  histo_2.append(cab_seqs_2)\n",
        "'''"
      ]
    },
    {
      "cell_type": "code",
      "execution_count": null,
      "metadata": {
        "colab": {
          "base_uri": "https://localhost:8080/"
        },
        "id": "cFDEk0bIylb4",
        "outputId": "320d8a11-4330-4308-e486-3dcb3781f345"
      },
      "outputs": [
        {
          "output_type": "execute_result",
          "data": {
            "text/plain": [
              "'\\nall_0 = []\\nall_1 = []\\nall_2 = []\\n\\n\\nfor i in histo_0:\\n  for j in i:\\n    all_0.append(j)\\n\\nfor i in histo_1:\\n  for j in i:\\n    all_1.append(j)\\n\\nfor i in histo_2:\\n  for j in i:\\n    all_2.append(j)\\n\\nall_round_1 = [round(i/(60*10), 0) for i in all_1 if round(i/(60*60), 0)==1]\\n'"
            ],
            "application/vnd.google.colaboratory.intrinsic+json": {
              "type": "string"
            }
          },
          "metadata": {},
          "execution_count": 32
        }
      ],
      "source": [
        "'''\n",
        "all_0 = []\n",
        "all_1 = []\n",
        "all_2 = []\n",
        "\n",
        "\n",
        "for i in histo_0:\n",
        "  for j in i:\n",
        "    all_0.append(j)\n",
        "\n",
        "for i in histo_1:\n",
        "  for j in i:\n",
        "    all_1.append(j)\n",
        "\n",
        "for i in histo_2:\n",
        "  for j in i:\n",
        "    all_2.append(j)\n",
        "\n",
        "all_round_1 = [round(i/(60*10), 0) for i in all_1 if round(i/(60*60), 0)==1]\n",
        "'''"
      ]
    },
    {
      "cell_type": "code",
      "execution_count": null,
      "metadata": {
        "colab": {
          "base_uri": "https://localhost:8080/"
        },
        "id": "ZPxVjDeNsrGO",
        "outputId": "d3b273c5-c2b2-44ed-d15a-98855a951f60"
      },
      "outputs": [
        {
          "output_type": "execute_result",
          "data": {
            "text/plain": [
              "\"\\nimport matplotlib.pyplot as plt\\n\\n\\n# Count the occurrences of each unique element in the list\\nunique_elements, counts = [], []\\nfor item in set(all_round_1):\\n    unique_elements.append(item)\\n    counts.append(all_round_1.count(item))\\n\\n# Plot histogram\\nplt.bar(unique_elements, counts)\\n\\n# Add labels and title\\nplt.xlabel('hour')\\nplt.ylabel('Count')\\nplt.title('30 min')\\n\\n# Show plot\\nplt.show()\\n\""
            ],
            "application/vnd.google.colaboratory.intrinsic+json": {
              "type": "string"
            }
          },
          "metadata": {},
          "execution_count": 33
        }
      ],
      "source": [
        "'''\n",
        "import matplotlib.pyplot as plt\n",
        "\n",
        "\n",
        "# Count the occurrences of each unique element in the list\n",
        "unique_elements, counts = [], []\n",
        "for item in set(all_round_1):\n",
        "    unique_elements.append(item)\n",
        "    counts.append(all_round_1.count(item))\n",
        "\n",
        "# Plot histogram\n",
        "plt.bar(unique_elements, counts)\n",
        "\n",
        "# Add labels and title\n",
        "plt.xlabel('hour')\n",
        "plt.ylabel('Count')\n",
        "plt.title('30 min')\n",
        "\n",
        "# Show plot\n",
        "plt.show()\n",
        "'''"
      ]
    },
    {
      "cell_type": "code",
      "execution_count": null,
      "metadata": {
        "colab": {
          "base_uri": "https://localhost:8080/"
        },
        "id": "sEkkeZKMtfAw",
        "outputId": "8b4d3947-78b1-4fa4-9eb0-62a8e2a01e5e"
      },
      "outputs": [
        {
          "output_type": "execute_result",
          "data": {
            "text/plain": [
              "\"\\n# turn into tensor\\nname = data['cab_name'][0]\\ndata_name = data[data['cab_name']==name]\\ntensor_name = torch.tensor(data_name[['latitude','longitude']].values)\\ntensor_name.shape\\n\\ntensor_name\\n\\ndd = tensor_name.size(0)//60*60\\nd = tensor_name[:dd]\\nd = d.view(-1, 60, 2)\\nd.shape\\n\""
            ],
            "application/vnd.google.colaboratory.intrinsic+json": {
              "type": "string"
            }
          },
          "metadata": {},
          "execution_count": 34
        }
      ],
      "source": [
        "'''\n",
        "# turn into tensor\n",
        "name = data['cab_name'][0]\n",
        "data_name = data[data['cab_name']==name]\n",
        "tensor_name = torch.tensor(data_name[['latitude','longitude']].values)\n",
        "tensor_name.shape\n",
        "\n",
        "tensor_name\n",
        "\n",
        "dd = tensor_name.size(0)//60*60\n",
        "d = tensor_name[:dd]\n",
        "d = d.view(-1, 60, 2)\n",
        "d.shape\n",
        "'''"
      ]
    },
    {
      "cell_type": "code",
      "execution_count": null,
      "metadata": {
        "colab": {
          "base_uri": "https://localhost:8080/"
        },
        "id": "6582QDJElOxg",
        "outputId": "6fb62cd2-27ed-479d-cd2b-c9a8e155ebac"
      },
      "outputs": [
        {
          "output_type": "execute_result",
          "data": {
            "text/plain": [
              "\"\\n# code for saving csv version of the dataset\\nimport os\\nfolder_path = '/content/drive/My Drive/datasets/cabspottingdata'\\n\\ncabs_data = {\\n    'cab_name': [],\\n    'latitude':[],\\n    'longitude': [],\\n    'occupancy': [],\\n    'time' : []\\n}\\n\\ndef process_folder(folder_path):\\n  files = os.listdir(folder_path)\\n\\n  for file_name in files:\\n    cab_name = file_name[:-4]\\n    if not file_name == '_cabs.txt':\\n      file_path = os.path.join(folder_path, file_name)\\n      with open(file_path, 'r') as file:\\n        lines = file.readlines()\\n\\n        for line in lines:\\n          try:\\n            elements = line.split()\\n            cabs_data['latitude'].append(float(elements[0]))\\n            cabs_data['longitude'].append(float(elements[1]))\\n            cabs_data['occupancy'].append(int(elements[2]))\\n            cabs_data['time'].append(int(elements[3]))\\n            cabs_data['cab_name'].append(cab_name)\\n          except:\\n            break\\n\\nprocess_folder(folder_path)\\n\\nimport pandas as pd\\ncabs_df = pd.DataFrame(cabs_data)\\ncabs_df.to_csv('cabspotting.csv')\\n\""
            ],
            "application/vnd.google.colaboratory.intrinsic+json": {
              "type": "string"
            }
          },
          "metadata": {},
          "execution_count": 35
        }
      ],
      "source": [
        "'''\n",
        "# code for saving csv version of the dataset\n",
        "import os\n",
        "folder_path = '/content/drive/My Drive/datasets/cabspottingdata'\n",
        "\n",
        "cabs_data = {\n",
        "    'cab_name': [],\n",
        "    'latitude':[],\n",
        "    'longitude': [],\n",
        "    'occupancy': [],\n",
        "    'time' : []\n",
        "}\n",
        "\n",
        "def process_folder(folder_path):\n",
        "  files = os.listdir(folder_path)\n",
        "\n",
        "  for file_name in files:\n",
        "    cab_name = file_name[:-4]\n",
        "    if not file_name == '_cabs.txt':\n",
        "      file_path = os.path.join(folder_path, file_name)\n",
        "      with open(file_path, 'r') as file:\n",
        "        lines = file.readlines()\n",
        "\n",
        "        for line in lines:\n",
        "          try:\n",
        "            elements = line.split()\n",
        "            cabs_data['latitude'].append(float(elements[0]))\n",
        "            cabs_data['longitude'].append(float(elements[1]))\n",
        "            cabs_data['occupancy'].append(int(elements[2]))\n",
        "            cabs_data['time'].append(int(elements[3]))\n",
        "            cabs_data['cab_name'].append(cab_name)\n",
        "          except:\n",
        "            break\n",
        "\n",
        "process_folder(folder_path)\n",
        "\n",
        "import pandas as pd\n",
        "cabs_df = pd.DataFrame(cabs_data)\n",
        "cabs_df.to_csv('cabspotting.csv')\n",
        "'''"
      ]
    },
    {
      "cell_type": "code",
      "execution_count": null,
      "metadata": {
        "colab": {
          "base_uri": "https://localhost:8080/"
        },
        "id": "jBNug6klGaA3",
        "outputId": "b6d52d52-033b-4299-ceae-5771046a2ab5"
      },
      "outputs": [
        {
          "output_type": "execute_result",
          "data": {
            "text/plain": [
              "\"\\n# averages calculation\\nx = data['longitude']\\ny = data['latitude']\\no = data['occupancy']\\n\\npassenger = [math.sqrt((x[i]-x[i+1])**2 + (y[i]-y[i+1])**2) for i in range(len(data)-1) if o[i]==1 and o[i+1]==1]\\nempty = [math.sqrt((x[i]-x[i+1])**2 + (y[i]-y[i+1])**2) for i in range(len(data)-1) if o[i]==0 and o[i+1]==0]\\n\\navg_p = sum(passenger)/len(passenger)\\navg_e = sum(empty)/len(empty)\\n\\nprint(avg_p)\\nprint(avg_e)\\n\""
            ],
            "application/vnd.google.colaboratory.intrinsic+json": {
              "type": "string"
            }
          },
          "metadata": {},
          "execution_count": 36
        }
      ],
      "source": [
        "'''\n",
        "# averages calculation\n",
        "x = data['longitude']\n",
        "y = data['latitude']\n",
        "o = data['occupancy']\n",
        "\n",
        "passenger = [math.sqrt((x[i]-x[i+1])**2 + (y[i]-y[i+1])**2) for i in range(len(data)-1) if o[i]==1 and o[i+1]==1]\n",
        "empty = [math.sqrt((x[i]-x[i+1])**2 + (y[i]-y[i+1])**2) for i in range(len(data)-1) if o[i]==0 and o[i+1]==0]\n",
        "\n",
        "avg_p = sum(passenger)/len(passenger)\n",
        "avg_e = sum(empty)/len(empty)\n",
        "\n",
        "print(avg_p)\n",
        "print(avg_e)\n",
        "'''"
      ]
    },
    {
      "cell_type": "code",
      "execution_count": null,
      "metadata": {
        "colab": {
          "base_uri": "https://localhost:8080/"
        },
        "id": "QKOOanAWKc22",
        "outputId": "1a489672-8f2a-498a-fee8-53c58bf97fea"
      },
      "outputs": [
        {
          "output_type": "execute_result",
          "data": {
            "text/plain": [
              "\"\\nimport matplotlib.pyplot as plt\\n\\nl = len(cabs_data['new_ayshekki.txt'][0])\\n\\ny = [float(cabs_data['new_ayshekki.txt'][3][i+1])-float(cabs_data['new_ayshekki.txt'][3][i]) for i in range(l-1)]\\ny = [i for i in y if i>-100]\\nx = [i for i in range(len(y))]\\n\\nplt.plot(x, y, 'bo')\\n\\nplt.title('time_difs')\\n\\nplt.grid(True)\\nplt.show()\\n\""
            ],
            "application/vnd.google.colaboratory.intrinsic+json": {
              "type": "string"
            }
          },
          "metadata": {},
          "execution_count": 37
        }
      ],
      "source": [
        "'''\n",
        "import matplotlib.pyplot as plt\n",
        "\n",
        "l = len(cabs_data['new_ayshekki.txt'][0])\n",
        "\n",
        "y = [float(cabs_data['new_ayshekki.txt'][3][i+1])-float(cabs_data['new_ayshekki.txt'][3][i]) for i in range(l-1)]\n",
        "y = [i for i in y if i>-100]\n",
        "x = [i for i in range(len(y))]\n",
        "\n",
        "plt.plot(x, y, 'bo')\n",
        "\n",
        "plt.title('time_difs')\n",
        "\n",
        "plt.grid(True)\n",
        "plt.show()\n",
        "'''"
      ]
    },
    {
      "cell_type": "code",
      "execution_count": null,
      "metadata": {
        "colab": {
          "base_uri": "https://localhost:8080/"
        },
        "id": "Mb_zxCYDQ4iY",
        "outputId": "1cdfb5a8-7c0d-4b9d-ef47-51373e4b0cdd"
      },
      "outputs": [
        {
          "output_type": "execute_result",
          "data": {
            "text/plain": [
              "\"\\n# getting sampel from data\\nx = None\\ntypes = None\\nx_pred = None\\n\\nfor i in train_idx_loader:\\n  idx = i['idx']\\n  axes           = torch.stack((train_tensors_dict['latitude']['input'][i['idx']],\\n                                train_tensors_dict['longitude']['input'][i['idx']])\\n                                , dim=2)\\n\\n  token_type_ids = train_tensors_dict['occupancy']['input'][i['idx']]\\n\\n  axes_pred      = torch.stack((train_tensors_dict['latitude']['pred'][i['idx']],\\n                                train_tensors_dict['longitude']['pred'][i['idx']])\\n                                , dim=2)\\n  for i in range(len(axes)):\\n    # get a single one with padding in its end for checkings\\n    if axes[i][-1][0].item() == 0:\\n      x = axes[i]\\n      types = token_type_ids[i]\\n      x_pred = axes_pred[i]\\n      x_seq_time  = train_data[idx[i].item()]['time']\\n      x_mask      = padding_mask(x_seq_time[:len(x_seq_time)-len(x_seq_time)//5], 120)\\n      x_pred_mask = padding_mask(x_seq_time[len(x_seq_time)-len(x_seq_time)//5:], 30)\\n      x_pred_src_mask =  pad_sequence(x_seq_time[:len(x_seq_time)-len(x_seq_time)//5], 120)\\n      x_pred_src_mask = torch.where(x_pred_src_mask != 0, torch.tensor(1), x_pred_src_mask)\\n      x_pred_src_mask = x_pred_src_mask.repeat(30, 1)\\n      print(x,'\\n')\\n      print(types,'\\n')\\n      print(x_pred,'\\n')\\n      print(x_mask)\\n      print(x_pred_mask)\\n      print('pred_src_mask: ','\\n',x_pred_src_mask)\\n      break\\n\\n\\n  break\\n\""
            ],
            "application/vnd.google.colaboratory.intrinsic+json": {
              "type": "string"
            }
          },
          "metadata": {},
          "execution_count": 38
        }
      ],
      "source": [
        "'''\n",
        "# getting sampel from data\n",
        "x = None\n",
        "types = None\n",
        "x_pred = None\n",
        "\n",
        "for i in train_idx_loader:\n",
        "  idx = i['idx']\n",
        "  axes           = torch.stack((train_tensors_dict['latitude']['input'][i['idx']],\n",
        "                                train_tensors_dict['longitude']['input'][i['idx']])\n",
        "                                , dim=2)\n",
        "\n",
        "  token_type_ids = train_tensors_dict['occupancy']['input'][i['idx']]\n",
        "\n",
        "  axes_pred      = torch.stack((train_tensors_dict['latitude']['pred'][i['idx']],\n",
        "                                train_tensors_dict['longitude']['pred'][i['idx']])\n",
        "                                , dim=2)\n",
        "  for i in range(len(axes)):\n",
        "    # get a single one with padding in its end for checkings\n",
        "    if axes[i][-1][0].item() == 0:\n",
        "      x = axes[i]\n",
        "      types = token_type_ids[i]\n",
        "      x_pred = axes_pred[i]\n",
        "      x_seq_time  = train_data[idx[i].item()]['time']\n",
        "      x_mask      = padding_mask(x_seq_time[:len(x_seq_time)-len(x_seq_time)//5], 120)\n",
        "      x_pred_mask = padding_mask(x_seq_time[len(x_seq_time)-len(x_seq_time)//5:], 30)\n",
        "      x_pred_src_mask =  pad_sequence(x_seq_time[:len(x_seq_time)-len(x_seq_time)//5], 120)\n",
        "      x_pred_src_mask = torch.where(x_pred_src_mask != 0, torch.tensor(1), x_pred_src_mask)\n",
        "      x_pred_src_mask = x_pred_src_mask.repeat(30, 1)\n",
        "      print(x,'\\n')\n",
        "      print(types,'\\n')\n",
        "      print(x_pred,'\\n')\n",
        "      print(x_mask)\n",
        "      print(x_pred_mask)\n",
        "      print('pred_src_mask: ','\\n',x_pred_src_mask)\n",
        "      break\n",
        "\n",
        "\n",
        "  break\n",
        "'''"
      ]
    },
    {
      "cell_type": "markdown",
      "metadata": {
        "id": "lZqOv6K_RlcT"
      },
      "source": [
        "# Roma"
      ]
    },
    {
      "cell_type": "markdown",
      "metadata": {
        "id": "wYGfa7enUmA6"
      },
      "source": [
        "## prepaire"
      ]
    },
    {
      "cell_type": "code",
      "execution_count": null,
      "metadata": {
        "colab": {
          "base_uri": "https://localhost:8080/"
        },
        "id": "3CS-SoJeruEc",
        "outputId": "e9b83d36-25ab-4aea-94b4-0b21f4ad5272"
      },
      "outputs": [
        {
          "name": "stdout",
          "output_type": "stream",
          "text": [
            "Mounted at /content/drive\n"
          ]
        }
      ],
      "source": [
        "from google.colab import drive\n",
        "drive.mount('/content/drive')\n",
        "\n",
        "file_name = 'taxi_february.txt'\n",
        "path = '/content/drive/My Drive/datasets/'+file_name\n",
        "with open(path, 'r') as file:\n",
        "  lines = file.readlines()\n",
        "\n",
        "for line in lines:\n",
        "  print(line)\n",
        "  break\n",
        "\n",
        " # correct the format and save as a csv file on drive\n",
        "# id, time, latitude, longitude\n",
        "\n",
        "def process_lines(lines):\n",
        "  processed = dict()\n",
        "  processed['id'] = []\n",
        "  processed['time'] = []\n",
        "  processed['latitude'] = []\n",
        "  processed['longitude'] = []\n",
        "  for sample in lines:\n",
        "    try:\n",
        "      sample = sample.split(';')\n",
        "      sample_id = sample[0]\n",
        "\n",
        "      sample_date = sample[1][:10]\n",
        "      sample_day = sample_date[-2:]\n",
        "      sample_month = sample_date[-5:-3]\n",
        "\n",
        "      sample_s = sample[1][11:]\n",
        "\n",
        "      s_s = 1\n",
        "      m_s = 60\n",
        "      h_s = 60*m_s\n",
        "      d_s = 24*h_s\n",
        "      mo_s = 28*d_s\n",
        "\n",
        "      hour = sample_s[:2]\n",
        "      minute = sample_s[3:5]\n",
        "      second = sample_s[6:8]\n",
        "      sample_seconds = (int(sample_month)-2)*mo_s + (int(sample_day)-1)*d_s + int(hour)*h_s + int(minute)*m_s + int(second)*s_s\n",
        "\n",
        "      sample_x = sample[-1][6:-2]\n",
        "      sample_x = sample_x.split(' ')\n",
        "      sample_latitude = sample_x[0]\n",
        "      sample_longitude = sample_x[1]\n",
        "\n",
        "      processed['id'].append(sample_id)\n",
        "      processed['time'].append(sample_seconds)\n",
        "      processed['latitude'].append(sample_latitude)\n",
        "      processed['longitude'].append(sample_longitude)\n",
        "    except:\n",
        "      pass\n",
        "  return processed\n",
        "\n",
        "processed_lines = process_lines(lines)\n",
        "import pandas as pd\n",
        "\n",
        "df = pd.DataFrame(processed_lines)\n",
        "csv_path = '/content/drive/My Drive/datasets/'+'roma_csv'\n",
        "df.to_csv(csv_path)"
      ]
    },
    {
      "cell_type": "code",
      "execution_count": null,
      "metadata": {
        "colab": {
          "base_uri": "https://localhost:8080/",
          "height": 243
        },
        "id": "ecHcHE2lsqTi",
        "outputId": "c2cf7259-aac1-44e8-ad9d-acd5803c88eb"
      },
      "outputs": [
        {
          "name": "stdout",
          "output_type": "stream",
          "text": [
            "Drive already mounted at /content/drive; to attempt to forcibly remount, call drive.mount(\"/content/drive\", force_remount=True).\n"
          ]
        },
        {
          "data": {
            "application/vnd.google.colaboratory.intrinsic+json": {
              "type": "dataframe",
              "variable_name": "data"
            },
            "text/html": [
              "\n",
              "  <div id=\"df-29deb087-80f4-4ee2-b8c3-c7d55725abf1\" class=\"colab-df-container\">\n",
              "    <div>\n",
              "<style scoped>\n",
              "    .dataframe tbody tr th:only-of-type {\n",
              "        vertical-align: middle;\n",
              "    }\n",
              "\n",
              "    .dataframe tbody tr th {\n",
              "        vertical-align: top;\n",
              "    }\n",
              "\n",
              "    .dataframe thead th {\n",
              "        text-align: right;\n",
              "    }\n",
              "</style>\n",
              "<table border=\"1\" class=\"dataframe\">\n",
              "  <thead>\n",
              "    <tr style=\"text-align: right;\">\n",
              "      <th></th>\n",
              "      <th>Unnamed: 0</th>\n",
              "      <th>id</th>\n",
              "      <th>time</th>\n",
              "      <th>latitude</th>\n",
              "      <th>longitude</th>\n",
              "    </tr>\n",
              "  </thead>\n",
              "  <tbody>\n",
              "    <tr>\n",
              "      <th>0</th>\n",
              "      <td>0</td>\n",
              "      <td>156</td>\n",
              "      <td>0</td>\n",
              "      <td>41.883672</td>\n",
              "      <td>12.487778</td>\n",
              "    </tr>\n",
              "    <tr>\n",
              "      <th>1</th>\n",
              "      <td>1</td>\n",
              "      <td>187</td>\n",
              "      <td>1</td>\n",
              "      <td>41.928543</td>\n",
              "      <td>12.469037</td>\n",
              "    </tr>\n",
              "    <tr>\n",
              "      <th>2</th>\n",
              "      <td>2</td>\n",
              "      <td>297</td>\n",
              "      <td>1</td>\n",
              "      <td>41.891069</td>\n",
              "      <td>12.492705</td>\n",
              "    </tr>\n",
              "    <tr>\n",
              "      <th>3</th>\n",
              "      <td>3</td>\n",
              "      <td>89</td>\n",
              "      <td>1</td>\n",
              "      <td>41.793177</td>\n",
              "      <td>12.432122</td>\n",
              "    </tr>\n",
              "    <tr>\n",
              "      <th>4</th>\n",
              "      <td>4</td>\n",
              "      <td>79</td>\n",
              "      <td>1</td>\n",
              "      <td>41.900275</td>\n",
              "      <td>12.462746</td>\n",
              "    </tr>\n",
              "  </tbody>\n",
              "</table>\n",
              "</div>\n",
              "    <div class=\"colab-df-buttons\">\n",
              "\n",
              "  <div class=\"colab-df-container\">\n",
              "    <button class=\"colab-df-convert\" onclick=\"convertToInteractive('df-29deb087-80f4-4ee2-b8c3-c7d55725abf1')\"\n",
              "            title=\"Convert this dataframe to an interactive table.\"\n",
              "            style=\"display:none;\">\n",
              "\n",
              "  <svg xmlns=\"http://www.w3.org/2000/svg\" height=\"24px\" viewBox=\"0 -960 960 960\">\n",
              "    <path d=\"M120-120v-720h720v720H120Zm60-500h600v-160H180v160Zm220 220h160v-160H400v160Zm0 220h160v-160H400v160ZM180-400h160v-160H180v160Zm440 0h160v-160H620v160ZM180-180h160v-160H180v160Zm440 0h160v-160H620v160Z\"/>\n",
              "  </svg>\n",
              "    </button>\n",
              "\n",
              "  <style>\n",
              "    .colab-df-container {\n",
              "      display:flex;\n",
              "      gap: 12px;\n",
              "    }\n",
              "\n",
              "    .colab-df-convert {\n",
              "      background-color: #E8F0FE;\n",
              "      border: none;\n",
              "      border-radius: 50%;\n",
              "      cursor: pointer;\n",
              "      display: none;\n",
              "      fill: #1967D2;\n",
              "      height: 32px;\n",
              "      padding: 0 0 0 0;\n",
              "      width: 32px;\n",
              "    }\n",
              "\n",
              "    .colab-df-convert:hover {\n",
              "      background-color: #E2EBFA;\n",
              "      box-shadow: 0px 1px 2px rgba(60, 64, 67, 0.3), 0px 1px 3px 1px rgba(60, 64, 67, 0.15);\n",
              "      fill: #174EA6;\n",
              "    }\n",
              "\n",
              "    .colab-df-buttons div {\n",
              "      margin-bottom: 4px;\n",
              "    }\n",
              "\n",
              "    [theme=dark] .colab-df-convert {\n",
              "      background-color: #3B4455;\n",
              "      fill: #D2E3FC;\n",
              "    }\n",
              "\n",
              "    [theme=dark] .colab-df-convert:hover {\n",
              "      background-color: #434B5C;\n",
              "      box-shadow: 0px 1px 3px 1px rgba(0, 0, 0, 0.15);\n",
              "      filter: drop-shadow(0px 1px 2px rgba(0, 0, 0, 0.3));\n",
              "      fill: #FFFFFF;\n",
              "    }\n",
              "  </style>\n",
              "\n",
              "    <script>\n",
              "      const buttonEl =\n",
              "        document.querySelector('#df-29deb087-80f4-4ee2-b8c3-c7d55725abf1 button.colab-df-convert');\n",
              "      buttonEl.style.display =\n",
              "        google.colab.kernel.accessAllowed ? 'block' : 'none';\n",
              "\n",
              "      async function convertToInteractive(key) {\n",
              "        const element = document.querySelector('#df-29deb087-80f4-4ee2-b8c3-c7d55725abf1');\n",
              "        const dataTable =\n",
              "          await google.colab.kernel.invokeFunction('convertToInteractive',\n",
              "                                                    [key], {});\n",
              "        if (!dataTable) return;\n",
              "\n",
              "        const docLinkHtml = 'Like what you see? Visit the ' +\n",
              "          '<a target=\"_blank\" href=https://colab.research.google.com/notebooks/data_table.ipynb>data table notebook</a>'\n",
              "          + ' to learn more about interactive tables.';\n",
              "        element.innerHTML = '';\n",
              "        dataTable['output_type'] = 'display_data';\n",
              "        await google.colab.output.renderOutput(dataTable, element);\n",
              "        const docLink = document.createElement('div');\n",
              "        docLink.innerHTML = docLinkHtml;\n",
              "        element.appendChild(docLink);\n",
              "      }\n",
              "    </script>\n",
              "  </div>\n",
              "\n",
              "\n",
              "<div id=\"df-699df4a0-d90d-465a-bb28-3809e3e0a762\">\n",
              "  <button class=\"colab-df-quickchart\" onclick=\"quickchart('df-699df4a0-d90d-465a-bb28-3809e3e0a762')\"\n",
              "            title=\"Suggest charts\"\n",
              "            style=\"display:none;\">\n",
              "\n",
              "<svg xmlns=\"http://www.w3.org/2000/svg\" height=\"24px\"viewBox=\"0 0 24 24\"\n",
              "     width=\"24px\">\n",
              "    <g>\n",
              "        <path d=\"M19 3H5c-1.1 0-2 .9-2 2v14c0 1.1.9 2 2 2h14c1.1 0 2-.9 2-2V5c0-1.1-.9-2-2-2zM9 17H7v-7h2v7zm4 0h-2V7h2v10zm4 0h-2v-4h2v4z\"/>\n",
              "    </g>\n",
              "</svg>\n",
              "  </button>\n",
              "\n",
              "<style>\n",
              "  .colab-df-quickchart {\n",
              "      --bg-color: #E8F0FE;\n",
              "      --fill-color: #1967D2;\n",
              "      --hover-bg-color: #E2EBFA;\n",
              "      --hover-fill-color: #174EA6;\n",
              "      --disabled-fill-color: #AAA;\n",
              "      --disabled-bg-color: #DDD;\n",
              "  }\n",
              "\n",
              "  [theme=dark] .colab-df-quickchart {\n",
              "      --bg-color: #3B4455;\n",
              "      --fill-color: #D2E3FC;\n",
              "      --hover-bg-color: #434B5C;\n",
              "      --hover-fill-color: #FFFFFF;\n",
              "      --disabled-bg-color: #3B4455;\n",
              "      --disabled-fill-color: #666;\n",
              "  }\n",
              "\n",
              "  .colab-df-quickchart {\n",
              "    background-color: var(--bg-color);\n",
              "    border: none;\n",
              "    border-radius: 50%;\n",
              "    cursor: pointer;\n",
              "    display: none;\n",
              "    fill: var(--fill-color);\n",
              "    height: 32px;\n",
              "    padding: 0;\n",
              "    width: 32px;\n",
              "  }\n",
              "\n",
              "  .colab-df-quickchart:hover {\n",
              "    background-color: var(--hover-bg-color);\n",
              "    box-shadow: 0 1px 2px rgba(60, 64, 67, 0.3), 0 1px 3px 1px rgba(60, 64, 67, 0.15);\n",
              "    fill: var(--button-hover-fill-color);\n",
              "  }\n",
              "\n",
              "  .colab-df-quickchart-complete:disabled,\n",
              "  .colab-df-quickchart-complete:disabled:hover {\n",
              "    background-color: var(--disabled-bg-color);\n",
              "    fill: var(--disabled-fill-color);\n",
              "    box-shadow: none;\n",
              "  }\n",
              "\n",
              "  .colab-df-spinner {\n",
              "    border: 2px solid var(--fill-color);\n",
              "    border-color: transparent;\n",
              "    border-bottom-color: var(--fill-color);\n",
              "    animation:\n",
              "      spin 1s steps(1) infinite;\n",
              "  }\n",
              "\n",
              "  @keyframes spin {\n",
              "    0% {\n",
              "      border-color: transparent;\n",
              "      border-bottom-color: var(--fill-color);\n",
              "      border-left-color: var(--fill-color);\n",
              "    }\n",
              "    20% {\n",
              "      border-color: transparent;\n",
              "      border-left-color: var(--fill-color);\n",
              "      border-top-color: var(--fill-color);\n",
              "    }\n",
              "    30% {\n",
              "      border-color: transparent;\n",
              "      border-left-color: var(--fill-color);\n",
              "      border-top-color: var(--fill-color);\n",
              "      border-right-color: var(--fill-color);\n",
              "    }\n",
              "    40% {\n",
              "      border-color: transparent;\n",
              "      border-right-color: var(--fill-color);\n",
              "      border-top-color: var(--fill-color);\n",
              "    }\n",
              "    60% {\n",
              "      border-color: transparent;\n",
              "      border-right-color: var(--fill-color);\n",
              "    }\n",
              "    80% {\n",
              "      border-color: transparent;\n",
              "      border-right-color: var(--fill-color);\n",
              "      border-bottom-color: var(--fill-color);\n",
              "    }\n",
              "    90% {\n",
              "      border-color: transparent;\n",
              "      border-bottom-color: var(--fill-color);\n",
              "    }\n",
              "  }\n",
              "</style>\n",
              "\n",
              "  <script>\n",
              "    async function quickchart(key) {\n",
              "      const quickchartButtonEl =\n",
              "        document.querySelector('#' + key + ' button');\n",
              "      quickchartButtonEl.disabled = true;  // To prevent multiple clicks.\n",
              "      quickchartButtonEl.classList.add('colab-df-spinner');\n",
              "      try {\n",
              "        const charts = await google.colab.kernel.invokeFunction(\n",
              "            'suggestCharts', [key], {});\n",
              "      } catch (error) {\n",
              "        console.error('Error during call to suggestCharts:', error);\n",
              "      }\n",
              "      quickchartButtonEl.classList.remove('colab-df-spinner');\n",
              "      quickchartButtonEl.classList.add('colab-df-quickchart-complete');\n",
              "    }\n",
              "    (() => {\n",
              "      let quickchartButtonEl =\n",
              "        document.querySelector('#df-699df4a0-d90d-465a-bb28-3809e3e0a762 button');\n",
              "      quickchartButtonEl.style.display =\n",
              "        google.colab.kernel.accessAllowed ? 'block' : 'none';\n",
              "    })();\n",
              "  </script>\n",
              "</div>\n",
              "    </div>\n",
              "  </div>\n"
            ],
            "text/plain": [
              "   Unnamed: 0   id  time   latitude  longitude\n",
              "0           0  156     0  41.883672  12.487778\n",
              "1           1  187     1  41.928543  12.469037\n",
              "2           2  297     1  41.891069  12.492705\n",
              "3           3   89     1  41.793177  12.432122\n",
              "4           4   79     1  41.900275  12.462746"
            ]
          },
          "execution_count": 14,
          "metadata": {},
          "output_type": "execute_result"
        }
      ],
      "source": [
        "# importing created raw csv dataset\n",
        "from google.colab import drive\n",
        "drive.mount('/content/drive')\n",
        "import pandas as pd\n",
        "csv_path = '/content/drive/My Drive/datasets/'+'roma_csv'\n",
        "data = pd.read_csv(csv_path)\n",
        "data.head()"
      ]
    },
    {
      "cell_type": "code",
      "execution_count": null,
      "metadata": {
        "colab": {
          "base_uri": "https://localhost:8080/"
        },
        "id": "wYbNTucHUMlL",
        "outputId": "57594a0b-e397-4bb5-e9bf-806b29824c0c"
      },
      "outputs": [
        {
          "name": "stdout",
          "output_type": "stream",
          "text": [
            "[0, 0, 0, 1, 0, 1, 0, 1, 0, 0, 1, 0, 1, 0, 0]\n",
            "True\n",
            "[3, 5, 7, 10, 12]\n"
          ]
        },
        {
          "data": {
            "text/plain": [
              "[[0, 0, 30, 50], [70, 80], [130, 140], [180, 190, 200], [1000, 1003]]"
            ]
          },
          "execution_count": 18,
          "metadata": {},
          "output_type": "execute_result"
        }
      ],
      "source": [
        "# sample to correct times\n",
        "\n",
        "x = [0, 0, 30, 50, 70, 80, 130, 140, 180, 190, 200, 1000, 1003, 2000, 2001]\n",
        "y = [1 if x[i+1] // 60 > x[i] // 60 else 0 for i in range(len(x) - 1)]\n",
        "y.append(0)\n",
        "print(y)\n",
        "print(len(x)==len(y))\n",
        "z = [i for i in range(len(y)) if y[i]==1]\n",
        "print(z)\n",
        "w = [x[z[i]+1:z[i+1]+1] for i in range(len(z)-1)]\n",
        "w.reverse()\n",
        "w.append(x[:z[0]+1])\n",
        "w.reverse()\n",
        "w"
      ]
    },
    {
      "cell_type": "code",
      "execution_count": null,
      "metadata": {
        "id": "1hHxAklEQRBk"
      },
      "outputs": [],
      "source": [
        "# create a new dataframe\n",
        "new_data = None\n",
        "for id in ids:\n",
        "  x = list(data[data['id']==id]['time'])\n",
        "  y = [1 if x[i+1] // 60 > x[i] // 60 else 0 for i in range(len(x) - 1)]\n",
        "  y.append(0)\n",
        "  z = [i for i in range(len(y)) if y[i]==1]\n",
        "  id_data = data[data['id']==id].iloc[z]\n",
        "  if new_data is None:\n",
        "    new_data = id_data\n",
        "  else:\n",
        "    new_data = pd.concat([new_data, id_data], axis=0, ignore_index=True)"
      ]
    },
    {
      "cell_type": "code",
      "execution_count": null,
      "metadata": {
        "id": "edAaB7j5FVYp"
      },
      "outputs": [],
      "source": [
        "new_csv_path = '/content/drive/My Drive/datasets/'+'Roma.csv'\n",
        "new_data.to_csv(new_csv_path)"
      ]
    },
    {
      "cell_type": "code",
      "execution_count": null,
      "metadata": {
        "colab": {
          "base_uri": "https://localhost:8080/"
        },
        "id": "ckLsp8zaGAJW",
        "outputId": "6f577d94-e32e-47cc-ca10-3e09d2d239d7"
      },
      "outputs": [
        {
          "name": "stdout",
          "output_type": "stream",
          "text": [
            "Mounted at /content/drive\n"
          ]
        }
      ],
      "source": [
        "from google.colab import drive\n",
        "drive.mount('/content/drive')\n",
        "import pandas as pd\n",
        "\n",
        "new_csv_path = '/content/drive/My Drive/datasets/'+'Roma.csv'\n",
        "data = pd.read_csv(new_csv_path)"
      ]
    },
    {
      "cell_type": "code",
      "execution_count": null,
      "metadata": {
        "colab": {
          "base_uri": "https://localhost:8080/"
        },
        "id": "5nKUiS8NGXqs",
        "outputId": "6addfe33-e0f4-4afe-9e63-9e301a871e6d"
      },
      "outputs": [
        {
          "data": {
            "text/plain": [
              "3013314"
            ]
          },
          "execution_count": 2,
          "metadata": {},
          "output_type": "execute_result"
        }
      ],
      "source": [
        "len(data)"
      ]
    },
    {
      "cell_type": "code",
      "execution_count": null,
      "metadata": {
        "colab": {
          "base_uri": "https://localhost:8080/"
        },
        "id": "n06ACHiD-pHN",
        "outputId": "98262de9-8395-48a8-9e7d-c93f7c6bacf4"
      },
      "outputs": [
        {
          "data": {
            "text/plain": [
              "316"
            ]
          },
          "execution_count": 3,
          "metadata": {},
          "output_type": "execute_result"
        }
      ],
      "source": [
        "ids = []\n",
        "for id in data['id']:\n",
        "  if not id in ids:\n",
        "    ids.append(id)\n",
        "len(ids)"
      ]
    },
    {
      "cell_type": "code",
      "execution_count": null,
      "metadata": {
        "colab": {
          "base_uri": "https://localhost:8080/"
        },
        "id": "BRANY-0NKxBk",
        "outputId": "1bf7ac74-3012-4030-d503-8f415fe9c7f5"
      },
      "outputs": [
        {
          "data": {
            "text/plain": [
              "[[0, 1, 2, 3, 4], [5, 6, 7, 8, 9]]"
            ]
          },
          "execution_count": 4,
          "metadata": {},
          "output_type": "execute_result"
        }
      ],
      "source": [
        "def break_seq(seq, d):\n",
        "  inds = [d*i for i in range((len(seq)//d)+1)]\n",
        "  r = [seq[inds[i]:inds[i+1]] for i in range(len(inds)-1)]\n",
        "  return r\n",
        "t = [i for i in range(10)]\n",
        "break_seq(t, 5)"
      ]
    },
    {
      "cell_type": "code",
      "execution_count": null,
      "metadata": {
        "colab": {
          "base_uri": "https://localhost:8080/"
        },
        "id": "oZaoWHADcclj",
        "outputId": "e31a09f8-9c12-4288-d149-1911f39a4ea8"
      },
      "outputs": [
        {
          "name": "stdout",
          "output_type": "stream",
          "text": [
            "24\n",
            "b:  [-1, 6, 12, 14, 24]\n",
            "[[[1, 2, 3], [4, 9, 10]], [[20, 22, 24], [26, 27, 28]], [[2, 3, 4], [5, 6, 7], [8, 9, 10]]]\n",
            "[[1, 2, 3], [4, 9, 10], [20, 22, 24], [26, 27, 28], [2, 3, 4], [5, 6, 7], [8, 9, 10]]\n"
          ]
        }
      ],
      "source": [
        "a = [1,2, 3, 4, 9, 10, 11, 20, 22, 24, 26, 27, 28, 1000, 1004, 2, 3, 4, 5, 6, 7, 8, 9, 10]\n",
        "aa = [i for i in range(len(a))]\n",
        "print(len(a))\n",
        "\n",
        "\n",
        "b = [i for i in range(len(a)-1) if abs(a[i+1]-a[i])>5]\n",
        "b.append(len(a))\n",
        "b.reverse()\n",
        "b.append(-1)\n",
        "b.reverse()\n",
        "print('b: ', b)\n",
        "\n",
        "c = [a[b[i]+1:b[i+1]+1] for i in range(len(b)-1)]\n",
        "c = [break_seq(i, 3) for i in c if not break_seq(i,3)==[]]\n",
        "print(c)\n",
        "c = [e[i] for e in c for i in range(len(e)) ]\n",
        "print(c)\n",
        "\n",
        "\n",
        "d = [aa[b[i]+1:b[i+1]+1] for i in range(len(b)-1)]"
      ]
    },
    {
      "cell_type": "code",
      "execution_count": null,
      "metadata": {
        "colab": {
          "base_uri": "https://localhost:8080/"
        },
        "id": "biy2mgz0no_J",
        "outputId": "924cc218-7315-45b7-8af1-861aef8967be"
      },
      "outputs": [
        {
          "name": "stdout",
          "output_type": "stream",
          "text": [
            "8809\n",
            "[-1, 173, 665, 1119, 1674]\n",
            "len train:  13041\n"
          ]
        }
      ],
      "source": [
        "# create sequences of travels\n",
        "# length: 150 (120:30)\n",
        "# 30 min\n",
        "\n",
        "data_times      = list(data['time'])\n",
        "data_latitudes  = list(data['latitude'])\n",
        "data_longitudes = list(data['longitude'])\n",
        "data_ids        = list(data['id'])\n",
        "data_index = [i for i in range(len(data_times))]\n",
        "\n",
        "break_points=[i for i in range(len(data_times)-1) if abs(data_times[i+1]-data_times[i])>=1800]\n",
        "break_points.append(len(data_times))\n",
        "break_points.reverse()\n",
        "break_points.append(-1)\n",
        "break_points.reverse()\n",
        "print(len(break_points))\n",
        "print(break_points[:5])\n",
        "\n",
        "seqs_time = [data_times[break_points[i]+1:break_points[i+1]+1] for i in range(len(break_points)-1)]\n",
        "seqs_time = [break_seq(i, 150) for i in seqs_time if not break_seq(i,150)==[]]\n",
        "seqs_time  = [e[i] for e in seqs_time for i in range(len(e))]\n",
        "\n",
        "seqs_latitude = [data_latitudes[break_points[i]+1:break_points[i+1]+1] for i in range(len(break_points)-1)]\n",
        "seqs_latitude = [break_seq(i, 150) for i in seqs_latitude if not break_seq(i,150)==[]]\n",
        "seqs_latitude  = [e[i] for e in seqs_latitude for i in range(len(e))]\n",
        "\n",
        "seqs_longitude = [data_longitudes[break_points[i]+1:break_points[i+1]+1] for i in range(len(break_points)-1)]\n",
        "seqs_longitude = [break_seq(i, 150) for i in seqs_longitude if not break_seq(i,150)==[]]\n",
        "seqs_longitude = [e[i] for e in seqs_longitude for i in range(len(e))]\n",
        "\n",
        "seqs_id = [data_ids[break_points[i]+1:break_points[i+1]+1] for i in range(len(break_points)-1)]\n",
        "seqs_id = [break_seq(i, 150) for i in seqs_id if not break_seq(i,150)==[]]\n",
        "seqs_id  = [e[i] for e in seqs_id for i in range(len(e))]\n",
        "\n",
        "\n",
        "# randomly sample to create training and test data\n",
        "\n",
        "import random\n",
        "\n",
        "indexes = [i for i in range(len(seqs_time))]\n",
        "test_index = random.sample(indexes, 3000)\n",
        "\n",
        "train_index = [i for i in indexes if not i in test_index]\n",
        "print('len train: ', len(train_index))\n",
        "\n",
        "#store them as dictionaries\n",
        "\n",
        "train_dict = {\n",
        "    'id': [seqs_id[i] for i in train_index],\n",
        "    'time': [seqs_time[i] for i in train_index],\n",
        "    'latitude': [seqs_latitude[i] for i in train_index],\n",
        "    'longitude': [seqs_longitude[i] for i in train_index]\n",
        "}\n",
        "\n",
        "test_dict = {\n",
        "    'id': [seqs_id[i] for i in test_index],\n",
        "    'time': [seqs_time[i] for i in test_index],\n",
        "    'latitude': [seqs_latitude[i] for i in test_index],\n",
        "    'longitude': [seqs_longitude[i] for i in test_index]\n",
        "}\n",
        "\n",
        "import json\n",
        "\n",
        "train_path = '/content/drive/My Drive/datasets/'+'Roma_train_150'\n",
        "test_path  = '/content/drive/My Drive/datasets/'+'Roma_test_150'\n",
        "\n",
        "with open(train_path, 'w') as json_file:\n",
        "  json.dump(train_dict, json_file)\n",
        "\n",
        "with open(test_path, 'w') as json_file:\n",
        "  json.dump(test_dict, json_file)"
      ]
    },
    {
      "cell_type": "code",
      "execution_count": null,
      "metadata": {
        "colab": {
          "base_uri": "https://localhost:8080/"
        },
        "id": "K-pE9GYvjQyq",
        "outputId": "1e56f155-4e07-4ead-cbb6-e5e61313c86c"
      },
      "outputs": [
        {
          "name": "stdout",
          "output_type": "stream",
          "text": [
            "11777\n",
            "[-1, 173, 665, 819, 919]\n"
          ]
        }
      ],
      "source": [
        "# create sequences of travels\n",
        "# length: 80 (60:20)\n",
        "# 10 min\n",
        "\n",
        "data_times      = list(data['time'])\n",
        "data_latitudes  = list(data['latitude'])\n",
        "data_longitudes = list(data['longitude'])\n",
        "data_ids        = list(data['id'])\n",
        "data_index = [i for i in range(len(data_times))]\n",
        "\n",
        "break_points=[i for i in range(len(data_times)-1) if abs(data_times[i+1]-data_times[i])>=600]\n",
        "break_points.append(len(data_times))\n",
        "break_points.reverse()\n",
        "break_points.append(-1)\n",
        "break_points.reverse()\n",
        "print(len(break_points))\n",
        "print(break_points[:5])\n",
        "\n",
        "seqs_time = [data_times[break_points[i]+1:break_points[i+1]+1] for i in range(len(break_points)-1)]\n",
        "seqs_time = [break_seq(i, 80) for i in seqs_time if not break_seq(i,80)==[]]\n",
        "seqs_time  = [e[i] for e in seqs_time for i in range(len(e))]"
      ]
    },
    {
      "cell_type": "code",
      "execution_count": null,
      "metadata": {
        "id": "Bw8_hUZ0x--p"
      },
      "outputs": [],
      "source": [
        "seqs_latitude = [data_latitudes[break_points[i]+1:break_points[i+1]+1] for i in range(len(break_points)-1)]\n",
        "seqs_latitude = [break_seq(i, 80) for i in seqs_latitude if not break_seq(i,80)==[]]\n",
        "seqs_latitude  = [e[i] for e in seqs_latitude for i in range(len(e))]\n",
        "\n",
        "seqs_longitude = [data_longitudes[break_points[i]+1:break_points[i+1]+1] for i in range(len(break_points)-1)]\n",
        "seqs_longitude = [break_seq(i, 80) for i in seqs_longitude if not break_seq(i,80)==[]]\n",
        "seqs_longitude = [e[i] for e in seqs_longitude for i in range(len(e))]\n",
        "\n",
        "seqs_id = [data_ids[break_points[i]+1:break_points[i+1]+1] for i in range(len(break_points)-1)]\n",
        "seqs_id = [break_seq(i, 80) for i in seqs_id if not break_seq(i,80)==[]]\n",
        "seqs_id  = [e[i] for e in seqs_id for i in range(len(e))]"
      ]
    },
    {
      "cell_type": "code",
      "execution_count": null,
      "metadata": {
        "id": "Xa3sCRdDxX47"
      },
      "outputs": [],
      "source": [
        "# randomly sample to create training and test data\n",
        "\n",
        "import random\n",
        "\n",
        "indexes = [i for i in range(len(seqs_time))]\n",
        "test_index = random.sample(indexes, 5000)"
      ]
    },
    {
      "cell_type": "code",
      "execution_count": null,
      "metadata": {
        "colab": {
          "base_uri": "https://localhost:8080/"
        },
        "id": "SELzoM-qQ-gQ",
        "outputId": "2325a21e-9ee7-43ca-8121-46cb04240861"
      },
      "outputs": [
        {
          "data": {
            "text/plain": [
              "27342"
            ]
          },
          "execution_count": 188,
          "metadata": {},
          "output_type": "execute_result"
        }
      ],
      "source": [
        "train_index = [i for i in indexes if not i in test_index]\n",
        "len(train_index)"
      ]
    },
    {
      "cell_type": "code",
      "execution_count": null,
      "metadata": {
        "id": "nmt7RtqaRK-N"
      },
      "outputs": [],
      "source": [
        "#store them as dictionaries\n",
        "\n",
        "train_dict = {\n",
        "    'id': [seqs_id[i] for i in train_index],\n",
        "    'time': [seqs_time[i] for i in train_index],\n",
        "    'latitude': [seqs_latitude[i] for i in train_index],\n",
        "    'longitude': [seqs_longitude[i] for i in train_index]\n",
        "}\n",
        "\n",
        "test_dict = {\n",
        "    'id': [seqs_id[i] for i in test_index],\n",
        "    'time': [seqs_time[i] for i in test_index],\n",
        "    'latitude': [seqs_latitude[i] for i in test_index],\n",
        "    'longitude': [seqs_longitude[i] for i in test_index]\n",
        "}"
      ]
    },
    {
      "cell_type": "code",
      "execution_count": null,
      "metadata": {
        "id": "1kzHArrJSuuX"
      },
      "outputs": [],
      "source": [
        "import json\n",
        "\n",
        "train_path = '/content/drive/My Drive/datasets/'+'Roma_train'\n",
        "test_path  = '/content/drive/My Drive/datasets/'+'Roma_test'\n",
        "\n",
        "with open(train_path, 'w') as json_file:\n",
        "  json.dump(train_dict, json_file)\n",
        "\n",
        "with open(test_path, 'w') as json_file:\n",
        "  json.dump(test_dict, json_file)"
      ]
    },
    {
      "cell_type": "markdown",
      "metadata": {
        "id": "eL2MndJBUfxp"
      },
      "source": [
        "## train"
      ]
    },
    {
      "cell_type": "code",
      "execution_count": null,
      "metadata": {
        "colab": {
          "base_uri": "https://localhost:8080/"
        },
        "id": "04uyQ7fdpN8L",
        "outputId": "10a1dbb5-6002-4425-d9d6-51d17fab6852"
      },
      "outputs": [
        {
          "name": "stdout",
          "output_type": "stream",
          "text": [
            "Drive already mounted at /content/drive; to attempt to forcibly remount, call drive.mount(\"/content/drive\", force_remount=True).\n"
          ]
        },
        {
          "name": "stderr",
          "output_type": "stream",
          "text": [
            " 49%|████▉     | 100/204 [06:34<06:35,  3.80s/it]"
          ]
        },
        {
          "name": "stdout",
          "output_type": "stream",
          "text": [
            "loss: 632.91259765625, epoch: 1, iter: 100\n"
          ]
        },
        {
          "name": "stderr",
          "output_type": "stream",
          "text": [
            " 98%|█████████▊| 200/204 [13:05<00:15,  3.96s/it]"
          ]
        },
        {
          "name": "stdout",
          "output_type": "stream",
          "text": [
            "loss: 520.2451171875, epoch: 1, iter: 200\n"
          ]
        },
        {
          "name": "stderr",
          "output_type": "stream",
          "text": [
            "100%|██████████| 204/204 [13:19<00:00,  3.92s/it]\n",
            " 49%|████▉     | 100/204 [06:27<06:57,  4.02s/it]"
          ]
        },
        {
          "name": "stdout",
          "output_type": "stream",
          "text": [
            "loss: 423.0262145996094, epoch: 2, iter: 100\n"
          ]
        },
        {
          "name": "stderr",
          "output_type": "stream",
          "text": [
            " 98%|█████████▊| 200/204 [12:50<00:14,  3.73s/it]"
          ]
        },
        {
          "name": "stdout",
          "output_type": "stream",
          "text": [
            "loss: 341.6178283691406, epoch: 2, iter: 200\n"
          ]
        },
        {
          "name": "stderr",
          "output_type": "stream",
          "text": [
            "100%|██████████| 204/204 [13:05<00:00,  3.85s/it]\n",
            " 49%|████▉     | 100/204 [06:27<06:45,  3.90s/it]"
          ]
        },
        {
          "name": "stdout",
          "output_type": "stream",
          "text": [
            "loss: 271.9976806640625, epoch: 3, iter: 100\n"
          ]
        },
        {
          "name": "stderr",
          "output_type": "stream",
          "text": [
            " 98%|█████████▊| 200/204 [12:54<00:16,  4.09s/it]"
          ]
        },
        {
          "name": "stdout",
          "output_type": "stream",
          "text": [
            "loss: 214.67599487304688, epoch: 3, iter: 200\n"
          ]
        },
        {
          "name": "stderr",
          "output_type": "stream",
          "text": [
            "100%|██████████| 204/204 [13:08<00:00,  3.87s/it]\n",
            " 49%|████▉     | 100/204 [06:26<06:44,  3.89s/it]"
          ]
        },
        {
          "name": "stdout",
          "output_type": "stream",
          "text": [
            "loss: 163.85635375976562, epoch: 4, iter: 100\n"
          ]
        },
        {
          "name": "stderr",
          "output_type": "stream",
          "text": [
            " 98%|█████████▊| 200/204 [12:52<00:14,  3.74s/it]"
          ]
        },
        {
          "name": "stdout",
          "output_type": "stream",
          "text": [
            "loss: 122.34140014648438, epoch: 4, iter: 200\n"
          ]
        },
        {
          "name": "stderr",
          "output_type": "stream",
          "text": [
            "100%|██████████| 204/204 [13:07<00:00,  3.86s/it]\n",
            " 49%|████▉     | 100/204 [06:27<06:55,  3.99s/it]"
          ]
        },
        {
          "name": "stdout",
          "output_type": "stream",
          "text": [
            "loss: 84.4460220336914, epoch: 5, iter: 100\n"
          ]
        },
        {
          "name": "stderr",
          "output_type": "stream",
          "text": [
            " 98%|█████████▊| 200/204 [12:52<00:15,  3.83s/it]"
          ]
        },
        {
          "name": "stdout",
          "output_type": "stream",
          "text": [
            "loss: 57.4505729675293, epoch: 5, iter: 200\n"
          ]
        },
        {
          "name": "stderr",
          "output_type": "stream",
          "text": [
            "100%|██████████| 204/204 [13:07<00:00,  3.86s/it]\n",
            " 49%|████▉     | 100/204 [06:27<07:18,  4.21s/it]"
          ]
        },
        {
          "name": "stdout",
          "output_type": "stream",
          "text": [
            "loss: 35.1508674621582, epoch: 6, iter: 100\n"
          ]
        },
        {
          "name": "stderr",
          "output_type": "stream",
          "text": [
            " 98%|█████████▊| 200/204 [12:53<00:14,  3.70s/it]"
          ]
        },
        {
          "name": "stdout",
          "output_type": "stream",
          "text": [
            "loss: 20.207117080688477, epoch: 6, iter: 200\n"
          ]
        },
        {
          "name": "stderr",
          "output_type": "stream",
          "text": [
            "100%|██████████| 204/204 [13:08<00:00,  3.86s/it]\n",
            " 49%|████▉     | 100/204 [06:26<06:39,  3.84s/it]"
          ]
        },
        {
          "name": "stdout",
          "output_type": "stream",
          "text": [
            "loss: 8.964007377624512, epoch: 7, iter: 100\n"
          ]
        },
        {
          "name": "stderr",
          "output_type": "stream",
          "text": [
            " 98%|█████████▊| 200/204 [12:51<00:15,  3.89s/it]"
          ]
        },
        {
          "name": "stdout",
          "output_type": "stream",
          "text": [
            "loss: 3.3321762084960938, epoch: 7, iter: 200\n"
          ]
        },
        {
          "name": "stderr",
          "output_type": "stream",
          "text": [
            "100%|██████████| 204/204 [13:05<00:00,  3.85s/it]\n"
          ]
        }
      ],
      "source": [
        " # loading\n",
        "from google.colab import drive\n",
        "drive.mount('/content/drive')\n",
        "\n",
        "import json\n",
        "\n",
        "train_path = '/content/drive/My Drive/datasets/'+'Roma_train_150'\n",
        "test_path  = '/content/drive/My Drive/datasets/'+'Roma_test_150'\n",
        "\n",
        "with open(train_path, 'r') as json_file:\n",
        "  train_dict = json.load(json_file)\n",
        "\n",
        "with open(test_path, 'r') as json_file:\n",
        "  test_dict = json.load(json_file)\n",
        "\n",
        "train_idx = [{'idx':i} for i in range(len(train_dict['time']))]\n",
        "test_idx = [{'idx':i} for i in range(len(test_dict['time']))]\n",
        "\n",
        "from torch.utils.data import DataLoader, Dataset\n",
        "train_idx_loader = DataLoader(train_idx, batch_size= 64, shuffle=True)\n",
        "test_idx_loader = DataLoader(test_idx, batch_size= 64, shuffle=False)\n",
        "\n",
        "import torch.optim as optim\n",
        "\n",
        "d_input = 2\n",
        "d_model = 256\n",
        "num_layers = 4\n",
        "h = 4\n",
        "ff_hidden_dim = 512\n",
        "dropout = 0.1\n",
        "\n",
        "model = Transformer(d_input, d_model, num_layers, h, ff_hidden_dim, dropout)\n",
        "#Encoder(num_layers, d_model, h, ff_hidden_dim, dropout)\n",
        "\n",
        "criterion = nn.MSELoss()\n",
        "optimizer = optim.Adam(model.parameters(), lr=2e-4)\n",
        "\n",
        "# train loop\n",
        "import tqdm\n",
        "from tqdm import tqdm\n",
        "\n",
        "def train_loop(model, idx_loader, criterion):\n",
        "  train_losses = []\n",
        "  epoch_num = 0\n",
        "  learning_rate = 2e-4\n",
        "\n",
        "  while epoch_num<7:\n",
        "    epoch_loss = 0\n",
        "    epoch_num+= 1\n",
        "    optimizer = optim.Adam(model.parameters(), lr= learning_rate)\n",
        "    model.train()\n",
        "    iter = 0\n",
        "\n",
        "    for i in tqdm(idx_loader):\n",
        "      iter+= 1\n",
        "\n",
        "      lat_input = torch.tensor([train_dict['latitude'][j][:60] for j in i['idx']])\n",
        "      long_input = torch.tensor([train_dict['longitude'][j][:60] for j in i['idx']])\n",
        "      lat_tgt = torch.tensor([train_dict['latitude'][j][60:] for j in i['idx']])\n",
        "      long_tgt = torch.tensor([train_dict['longitude'][j][60:] for j in i['idx']])\n",
        "\n",
        "      input_axes = torch.stack((lat_input, long_input), dim=-1)\n",
        "      pred_axes   = torch.stack((lat_tgt, long_tgt), dim=-1)\n",
        "\n",
        "      tgt_mask = torch.triu(torch.ones((input_axes.shape[0], pred_axes.shape[1]-1, pred_axes.shape[1]-1)), diagonal=1).type(torch.int)\n",
        "      tgt_mask = (tgt_mask+1)%2\n",
        "\n",
        "      tgt_axes = pred_axes[:, :-1].clone()\n",
        "      real_axes = pred_axes[:, 1:].clone()\n",
        "\n",
        "      out = model(input_axes, tgt_axes, src_mask=None, tgt_src_mask=None, tgt_mask=tgt_mask, inference=False)\n",
        "\n",
        "      optimizer.zero_grad()\n",
        "\n",
        "      y =   real_axes\n",
        "      loss = criterion(out, y)\n",
        "      epoch_loss += loss.item()\n",
        "      loss.backward()\n",
        "      optimizer.step()\n",
        "      if iter%100 == 0:\n",
        "       print(f'loss: {loss.item()}, epoch: {epoch_num}, iter: {iter}')\n",
        "\n",
        "    learning_rate = learning_rate * 0.9\n",
        "    train_loss = epoch_loss / len(idx_loader)\n",
        "    train_losses.append(train_loss)\n",
        "\n",
        "  return train_losses\n",
        "\n",
        "train_loop(model, train_idx_loader, criterion)\n",
        "\n",
        "torch.save(model.state_dict(), '/content/drive/My Drive/models/T_Roma_150.pt')"
      ]
    },
    {
      "cell_type": "code",
      "execution_count": null,
      "metadata": {
        "id": "8TjMAoUyxA8Y"
      },
      "outputs": [],
      "source": []
    },
    {
      "cell_type": "code",
      "execution_count": null,
      "metadata": {
        "colab": {
          "base_uri": "https://localhost:8080/",
          "height": 425
        },
        "id": "csXQgbRi_q7j",
        "outputId": "b4e83308-326b-4e1a-9de1-3246711359a8"
      },
      "outputs": [
        {
          "name": "stderr",
          "output_type": "stream",
          "text": [
            " 49%|████▉     | 100/204 [06:23<06:58,  4.02s/it]"
          ]
        },
        {
          "name": "stdout",
          "output_type": "stream",
          "text": [
            "loss: 0.003078696085140109, epoch: 1, iter: 100\n"
          ]
        },
        {
          "name": "stderr",
          "output_type": "stream",
          "text": [
            " 98%|█████████▊| 200/204 [12:44<00:14,  3.74s/it]"
          ]
        },
        {
          "name": "stdout",
          "output_type": "stream",
          "text": [
            "loss: 0.0030012044589966536, epoch: 1, iter: 200\n"
          ]
        },
        {
          "name": "stderr",
          "output_type": "stream",
          "text": [
            "100%|██████████| 204/204 [12:59<00:00,  3.82s/it]\n",
            "  0%|          | 1/204 [00:04<13:36,  4.02s/it]\n"
          ]
        },
        {
          "ename": "KeyboardInterrupt",
          "evalue": "",
          "output_type": "error",
          "traceback": [
            "\u001b[0;31m---------------------------------------------------------------------------\u001b[0m",
            "\u001b[0;31mKeyboardInterrupt\u001b[0m                         Traceback (most recent call last)",
            "\u001b[0;32m<ipython-input-22-f885820e9f73>\u001b[0m in \u001b[0;36m<cell line: 51>\u001b[0;34m()\u001b[0m\n\u001b[1;32m     49\u001b[0m   \u001b[0;32mreturn\u001b[0m \u001b[0mtrain_losses\u001b[0m\u001b[0;34m\u001b[0m\u001b[0;34m\u001b[0m\u001b[0m\n\u001b[1;32m     50\u001b[0m \u001b[0;34m\u001b[0m\u001b[0m\n\u001b[0;32m---> 51\u001b[0;31m \u001b[0mtrain_loop\u001b[0m\u001b[0;34m(\u001b[0m\u001b[0mmodel\u001b[0m\u001b[0;34m,\u001b[0m \u001b[0mtrain_idx_loader\u001b[0m\u001b[0;34m,\u001b[0m \u001b[0mcriterion\u001b[0m\u001b[0;34m)\u001b[0m\u001b[0;34m\u001b[0m\u001b[0;34m\u001b[0m\u001b[0m\n\u001b[0m\u001b[1;32m     52\u001b[0m \u001b[0;34m\u001b[0m\u001b[0m\n\u001b[1;32m     53\u001b[0m \u001b[0mtorch\u001b[0m\u001b[0;34m.\u001b[0m\u001b[0msave\u001b[0m\u001b[0;34m(\u001b[0m\u001b[0mmodel\u001b[0m\u001b[0;34m.\u001b[0m\u001b[0mstate_dict\u001b[0m\u001b[0;34m(\u001b[0m\u001b[0;34m)\u001b[0m\u001b[0;34m,\u001b[0m \u001b[0;34m'/content/drive/My Drive/models/T_Roma_150.pt'\u001b[0m\u001b[0;34m)\u001b[0m\u001b[0;34m\u001b[0m\u001b[0;34m\u001b[0m\u001b[0m\n",
            "\u001b[0;32m<ipython-input-22-f885820e9f73>\u001b[0m in \u001b[0;36mtrain_loop\u001b[0;34m(model, idx_loader, criterion)\u001b[0m\n\u001b[1;32m     31\u001b[0m       \u001b[0mreal_axes\u001b[0m \u001b[0;34m=\u001b[0m \u001b[0mpred_axes\u001b[0m\u001b[0;34m[\u001b[0m\u001b[0;34m:\u001b[0m\u001b[0;34m,\u001b[0m \u001b[0;36m1\u001b[0m\u001b[0;34m:\u001b[0m\u001b[0;34m]\u001b[0m\u001b[0;34m.\u001b[0m\u001b[0mclone\u001b[0m\u001b[0;34m(\u001b[0m\u001b[0;34m)\u001b[0m\u001b[0;34m\u001b[0m\u001b[0;34m\u001b[0m\u001b[0m\n\u001b[1;32m     32\u001b[0m \u001b[0;34m\u001b[0m\u001b[0m\n\u001b[0;32m---> 33\u001b[0;31m       \u001b[0mout\u001b[0m \u001b[0;34m=\u001b[0m \u001b[0mmodel\u001b[0m\u001b[0;34m(\u001b[0m\u001b[0minput_axes\u001b[0m\u001b[0;34m,\u001b[0m \u001b[0mtgt_axes\u001b[0m\u001b[0;34m,\u001b[0m \u001b[0msrc_mask\u001b[0m\u001b[0;34m=\u001b[0m\u001b[0;32mNone\u001b[0m\u001b[0;34m,\u001b[0m \u001b[0mtgt_src_mask\u001b[0m\u001b[0;34m=\u001b[0m\u001b[0;32mNone\u001b[0m\u001b[0;34m,\u001b[0m \u001b[0mtgt_mask\u001b[0m\u001b[0;34m=\u001b[0m\u001b[0mtgt_mask\u001b[0m\u001b[0;34m,\u001b[0m \u001b[0minference\u001b[0m\u001b[0;34m=\u001b[0m\u001b[0;32mFalse\u001b[0m\u001b[0;34m)\u001b[0m\u001b[0;34m\u001b[0m\u001b[0;34m\u001b[0m\u001b[0m\n\u001b[0m\u001b[1;32m     34\u001b[0m \u001b[0;34m\u001b[0m\u001b[0m\n\u001b[1;32m     35\u001b[0m       \u001b[0moptimizer\u001b[0m\u001b[0;34m.\u001b[0m\u001b[0mzero_grad\u001b[0m\u001b[0;34m(\u001b[0m\u001b[0;34m)\u001b[0m\u001b[0;34m\u001b[0m\u001b[0;34m\u001b[0m\u001b[0m\n",
            "\u001b[0;32m/usr/local/lib/python3.10/dist-packages/torch/nn/modules/module.py\u001b[0m in \u001b[0;36m_wrapped_call_impl\u001b[0;34m(self, *args, **kwargs)\u001b[0m\n\u001b[1;32m   1551\u001b[0m             \u001b[0;32mreturn\u001b[0m \u001b[0mself\u001b[0m\u001b[0;34m.\u001b[0m\u001b[0m_compiled_call_impl\u001b[0m\u001b[0;34m(\u001b[0m\u001b[0;34m*\u001b[0m\u001b[0margs\u001b[0m\u001b[0;34m,\u001b[0m \u001b[0;34m**\u001b[0m\u001b[0mkwargs\u001b[0m\u001b[0;34m)\u001b[0m  \u001b[0;31m# type: ignore[misc]\u001b[0m\u001b[0;34m\u001b[0m\u001b[0;34m\u001b[0m\u001b[0m\n\u001b[1;32m   1552\u001b[0m         \u001b[0;32melse\u001b[0m\u001b[0;34m:\u001b[0m\u001b[0;34m\u001b[0m\u001b[0;34m\u001b[0m\u001b[0m\n\u001b[0;32m-> 1553\u001b[0;31m             \u001b[0;32mreturn\u001b[0m \u001b[0mself\u001b[0m\u001b[0;34m.\u001b[0m\u001b[0m_call_impl\u001b[0m\u001b[0;34m(\u001b[0m\u001b[0;34m*\u001b[0m\u001b[0margs\u001b[0m\u001b[0;34m,\u001b[0m \u001b[0;34m**\u001b[0m\u001b[0mkwargs\u001b[0m\u001b[0;34m)\u001b[0m\u001b[0;34m\u001b[0m\u001b[0;34m\u001b[0m\u001b[0m\n\u001b[0m\u001b[1;32m   1554\u001b[0m \u001b[0;34m\u001b[0m\u001b[0m\n\u001b[1;32m   1555\u001b[0m     \u001b[0;32mdef\u001b[0m \u001b[0m_call_impl\u001b[0m\u001b[0;34m(\u001b[0m\u001b[0mself\u001b[0m\u001b[0;34m,\u001b[0m \u001b[0;34m*\u001b[0m\u001b[0margs\u001b[0m\u001b[0;34m,\u001b[0m \u001b[0;34m**\u001b[0m\u001b[0mkwargs\u001b[0m\u001b[0;34m)\u001b[0m\u001b[0;34m:\u001b[0m\u001b[0;34m\u001b[0m\u001b[0;34m\u001b[0m\u001b[0m\n",
            "\u001b[0;32m/usr/local/lib/python3.10/dist-packages/torch/nn/modules/module.py\u001b[0m in \u001b[0;36m_call_impl\u001b[0;34m(self, *args, **kwargs)\u001b[0m\n\u001b[1;32m   1560\u001b[0m                 \u001b[0;32mor\u001b[0m \u001b[0m_global_backward_pre_hooks\u001b[0m \u001b[0;32mor\u001b[0m \u001b[0m_global_backward_hooks\u001b[0m\u001b[0;34m\u001b[0m\u001b[0;34m\u001b[0m\u001b[0m\n\u001b[1;32m   1561\u001b[0m                 or _global_forward_hooks or _global_forward_pre_hooks):\n\u001b[0;32m-> 1562\u001b[0;31m             \u001b[0;32mreturn\u001b[0m \u001b[0mforward_call\u001b[0m\u001b[0;34m(\u001b[0m\u001b[0;34m*\u001b[0m\u001b[0margs\u001b[0m\u001b[0;34m,\u001b[0m \u001b[0;34m**\u001b[0m\u001b[0mkwargs\u001b[0m\u001b[0;34m)\u001b[0m\u001b[0;34m\u001b[0m\u001b[0;34m\u001b[0m\u001b[0m\n\u001b[0m\u001b[1;32m   1563\u001b[0m \u001b[0;34m\u001b[0m\u001b[0m\n\u001b[1;32m   1564\u001b[0m         \u001b[0;32mtry\u001b[0m\u001b[0;34m:\u001b[0m\u001b[0;34m\u001b[0m\u001b[0;34m\u001b[0m\u001b[0m\n",
            "\u001b[0;32m<ipython-input-17-f8e7361174dd>\u001b[0m in \u001b[0;36mforward\u001b[0;34m(self, src, tgt, src_mask, tgt_src_mask, tgt_mask, inference)\u001b[0m\n\u001b[1;32m     12\u001b[0m     \u001b[0mtgt\u001b[0m \u001b[0;34m=\u001b[0m \u001b[0mself\u001b[0m\u001b[0;34m.\u001b[0m\u001b[0membedding\u001b[0m\u001b[0;34m(\u001b[0m\u001b[0mtgt\u001b[0m\u001b[0;34m)\u001b[0m\u001b[0;34m\u001b[0m\u001b[0;34m\u001b[0m\u001b[0m\n\u001b[1;32m     13\u001b[0m     \u001b[0mencoder_out\u001b[0m \u001b[0;34m=\u001b[0m \u001b[0mself\u001b[0m\u001b[0;34m.\u001b[0m\u001b[0mencoder\u001b[0m\u001b[0;34m(\u001b[0m\u001b[0msrc\u001b[0m\u001b[0;34m,\u001b[0m \u001b[0msrc_mask\u001b[0m\u001b[0;34m)\u001b[0m\u001b[0;34m\u001b[0m\u001b[0;34m\u001b[0m\u001b[0m\n\u001b[0;32m---> 14\u001b[0;31m     \u001b[0mdecoder_out\u001b[0m \u001b[0;34m=\u001b[0m \u001b[0mself\u001b[0m\u001b[0;34m.\u001b[0m\u001b[0mdecoder\u001b[0m\u001b[0;34m(\u001b[0m\u001b[0mtgt\u001b[0m\u001b[0;34m,\u001b[0m \u001b[0mencoder_out\u001b[0m\u001b[0;34m,\u001b[0m \u001b[0msrc_mask\u001b[0m\u001b[0;34m=\u001b[0m \u001b[0mtgt_src_mask\u001b[0m\u001b[0;34m,\u001b[0m \u001b[0mtgt_mask\u001b[0m\u001b[0;34m=\u001b[0m \u001b[0mtgt_mask\u001b[0m\u001b[0;34m)\u001b[0m\u001b[0;34m\u001b[0m\u001b[0;34m\u001b[0m\u001b[0m\n\u001b[0m\u001b[1;32m     15\u001b[0m     \u001b[0;32mif\u001b[0m \u001b[0minference\u001b[0m \u001b[0;34m==\u001b[0m \u001b[0;32mTrue\u001b[0m\u001b[0;34m:\u001b[0m\u001b[0;34m\u001b[0m\u001b[0;34m\u001b[0m\u001b[0m\n\u001b[1;32m     16\u001b[0m       \u001b[0msampler_out\u001b[0m \u001b[0;34m=\u001b[0m \u001b[0mself\u001b[0m\u001b[0;34m.\u001b[0m\u001b[0msampler\u001b[0m\u001b[0;34m(\u001b[0m\u001b[0mdecoder_out\u001b[0m\u001b[0;34m[\u001b[0m\u001b[0;34m:\u001b[0m\u001b[0;34m,\u001b[0m \u001b[0;34m-\u001b[0m\u001b[0;36m1\u001b[0m\u001b[0;34m]\u001b[0m\u001b[0;34m)\u001b[0m\u001b[0;34m\u001b[0m\u001b[0;34m\u001b[0m\u001b[0m\n",
            "\u001b[0;32m/usr/local/lib/python3.10/dist-packages/torch/nn/modules/module.py\u001b[0m in \u001b[0;36m_wrapped_call_impl\u001b[0;34m(self, *args, **kwargs)\u001b[0m\n\u001b[1;32m   1551\u001b[0m             \u001b[0;32mreturn\u001b[0m \u001b[0mself\u001b[0m\u001b[0;34m.\u001b[0m\u001b[0m_compiled_call_impl\u001b[0m\u001b[0;34m(\u001b[0m\u001b[0;34m*\u001b[0m\u001b[0margs\u001b[0m\u001b[0;34m,\u001b[0m \u001b[0;34m**\u001b[0m\u001b[0mkwargs\u001b[0m\u001b[0;34m)\u001b[0m  \u001b[0;31m# type: ignore[misc]\u001b[0m\u001b[0;34m\u001b[0m\u001b[0;34m\u001b[0m\u001b[0m\n\u001b[1;32m   1552\u001b[0m         \u001b[0;32melse\u001b[0m\u001b[0;34m:\u001b[0m\u001b[0;34m\u001b[0m\u001b[0;34m\u001b[0m\u001b[0m\n\u001b[0;32m-> 1553\u001b[0;31m             \u001b[0;32mreturn\u001b[0m \u001b[0mself\u001b[0m\u001b[0;34m.\u001b[0m\u001b[0m_call_impl\u001b[0m\u001b[0;34m(\u001b[0m\u001b[0;34m*\u001b[0m\u001b[0margs\u001b[0m\u001b[0;34m,\u001b[0m \u001b[0;34m**\u001b[0m\u001b[0mkwargs\u001b[0m\u001b[0;34m)\u001b[0m\u001b[0;34m\u001b[0m\u001b[0;34m\u001b[0m\u001b[0m\n\u001b[0m\u001b[1;32m   1554\u001b[0m \u001b[0;34m\u001b[0m\u001b[0m\n\u001b[1;32m   1555\u001b[0m     \u001b[0;32mdef\u001b[0m \u001b[0m_call_impl\u001b[0m\u001b[0;34m(\u001b[0m\u001b[0mself\u001b[0m\u001b[0;34m,\u001b[0m \u001b[0;34m*\u001b[0m\u001b[0margs\u001b[0m\u001b[0;34m,\u001b[0m \u001b[0;34m**\u001b[0m\u001b[0mkwargs\u001b[0m\u001b[0;34m)\u001b[0m\u001b[0;34m:\u001b[0m\u001b[0;34m\u001b[0m\u001b[0;34m\u001b[0m\u001b[0m\n",
            "\u001b[0;32m/usr/local/lib/python3.10/dist-packages/torch/nn/modules/module.py\u001b[0m in \u001b[0;36m_call_impl\u001b[0;34m(self, *args, **kwargs)\u001b[0m\n\u001b[1;32m   1560\u001b[0m                 \u001b[0;32mor\u001b[0m \u001b[0m_global_backward_pre_hooks\u001b[0m \u001b[0;32mor\u001b[0m \u001b[0m_global_backward_hooks\u001b[0m\u001b[0;34m\u001b[0m\u001b[0;34m\u001b[0m\u001b[0m\n\u001b[1;32m   1561\u001b[0m                 or _global_forward_hooks or _global_forward_pre_hooks):\n\u001b[0;32m-> 1562\u001b[0;31m             \u001b[0;32mreturn\u001b[0m \u001b[0mforward_call\u001b[0m\u001b[0;34m(\u001b[0m\u001b[0;34m*\u001b[0m\u001b[0margs\u001b[0m\u001b[0;34m,\u001b[0m \u001b[0;34m**\u001b[0m\u001b[0mkwargs\u001b[0m\u001b[0;34m)\u001b[0m\u001b[0;34m\u001b[0m\u001b[0;34m\u001b[0m\u001b[0m\n\u001b[0m\u001b[1;32m   1563\u001b[0m \u001b[0;34m\u001b[0m\u001b[0m\n\u001b[1;32m   1564\u001b[0m         \u001b[0;32mtry\u001b[0m\u001b[0;34m:\u001b[0m\u001b[0;34m\u001b[0m\u001b[0;34m\u001b[0m\u001b[0m\n",
            "\u001b[0;32m<ipython-input-14-a9c29240508f>\u001b[0m in \u001b[0;36mforward\u001b[0;34m(self, tgt, memory, src_mask, tgt_mask)\u001b[0m\n\u001b[1;32m     35\u001b[0m \u001b[0;34m\u001b[0m\u001b[0m\n\u001b[1;32m     36\u001b[0m         \u001b[0;32mfor\u001b[0m \u001b[0mlayer\u001b[0m \u001b[0;32min\u001b[0m \u001b[0mself\u001b[0m\u001b[0;34m.\u001b[0m\u001b[0mlayers\u001b[0m\u001b[0;34m:\u001b[0m\u001b[0;34m\u001b[0m\u001b[0;34m\u001b[0m\u001b[0m\n\u001b[0;32m---> 37\u001b[0;31m             \u001b[0mtgt\u001b[0m \u001b[0;34m=\u001b[0m \u001b[0mlayer\u001b[0m\u001b[0;34m(\u001b[0m\u001b[0mtgt\u001b[0m\u001b[0;34m,\u001b[0m \u001b[0mmemory\u001b[0m\u001b[0;34m,\u001b[0m \u001b[0msrc_mask\u001b[0m\u001b[0;34m=\u001b[0m\u001b[0msrc_mask\u001b[0m\u001b[0;34m,\u001b[0m \u001b[0mtgt_mask\u001b[0m\u001b[0;34m=\u001b[0m\u001b[0mtgt_mask\u001b[0m\u001b[0;34m)\u001b[0m\u001b[0;34m\u001b[0m\u001b[0;34m\u001b[0m\u001b[0m\n\u001b[0m\u001b[1;32m     38\u001b[0m         \u001b[0;32mreturn\u001b[0m \u001b[0mtgt\u001b[0m\u001b[0;34m\u001b[0m\u001b[0;34m\u001b[0m\u001b[0m\n",
            "\u001b[0;32m/usr/local/lib/python3.10/dist-packages/torch/nn/modules/module.py\u001b[0m in \u001b[0;36m_wrapped_call_impl\u001b[0;34m(self, *args, **kwargs)\u001b[0m\n\u001b[1;32m   1551\u001b[0m             \u001b[0;32mreturn\u001b[0m \u001b[0mself\u001b[0m\u001b[0;34m.\u001b[0m\u001b[0m_compiled_call_impl\u001b[0m\u001b[0;34m(\u001b[0m\u001b[0;34m*\u001b[0m\u001b[0margs\u001b[0m\u001b[0;34m,\u001b[0m \u001b[0;34m**\u001b[0m\u001b[0mkwargs\u001b[0m\u001b[0;34m)\u001b[0m  \u001b[0;31m# type: ignore[misc]\u001b[0m\u001b[0;34m\u001b[0m\u001b[0;34m\u001b[0m\u001b[0m\n\u001b[1;32m   1552\u001b[0m         \u001b[0;32melse\u001b[0m\u001b[0;34m:\u001b[0m\u001b[0;34m\u001b[0m\u001b[0;34m\u001b[0m\u001b[0m\n\u001b[0;32m-> 1553\u001b[0;31m             \u001b[0;32mreturn\u001b[0m \u001b[0mself\u001b[0m\u001b[0;34m.\u001b[0m\u001b[0m_call_impl\u001b[0m\u001b[0;34m(\u001b[0m\u001b[0;34m*\u001b[0m\u001b[0margs\u001b[0m\u001b[0;34m,\u001b[0m \u001b[0;34m**\u001b[0m\u001b[0mkwargs\u001b[0m\u001b[0;34m)\u001b[0m\u001b[0;34m\u001b[0m\u001b[0;34m\u001b[0m\u001b[0m\n\u001b[0m\u001b[1;32m   1554\u001b[0m \u001b[0;34m\u001b[0m\u001b[0m\n\u001b[1;32m   1555\u001b[0m     \u001b[0;32mdef\u001b[0m \u001b[0m_call_impl\u001b[0m\u001b[0;34m(\u001b[0m\u001b[0mself\u001b[0m\u001b[0;34m,\u001b[0m \u001b[0;34m*\u001b[0m\u001b[0margs\u001b[0m\u001b[0;34m,\u001b[0m \u001b[0;34m**\u001b[0m\u001b[0mkwargs\u001b[0m\u001b[0;34m)\u001b[0m\u001b[0;34m:\u001b[0m\u001b[0;34m\u001b[0m\u001b[0;34m\u001b[0m\u001b[0m\n",
            "\u001b[0;32m/usr/local/lib/python3.10/dist-packages/torch/nn/modules/module.py\u001b[0m in \u001b[0;36m_call_impl\u001b[0;34m(self, *args, **kwargs)\u001b[0m\n\u001b[1;32m   1560\u001b[0m                 \u001b[0;32mor\u001b[0m \u001b[0m_global_backward_pre_hooks\u001b[0m \u001b[0;32mor\u001b[0m \u001b[0m_global_backward_hooks\u001b[0m\u001b[0;34m\u001b[0m\u001b[0;34m\u001b[0m\u001b[0m\n\u001b[1;32m   1561\u001b[0m                 or _global_forward_hooks or _global_forward_pre_hooks):\n\u001b[0;32m-> 1562\u001b[0;31m             \u001b[0;32mreturn\u001b[0m \u001b[0mforward_call\u001b[0m\u001b[0;34m(\u001b[0m\u001b[0;34m*\u001b[0m\u001b[0margs\u001b[0m\u001b[0;34m,\u001b[0m \u001b[0;34m**\u001b[0m\u001b[0mkwargs\u001b[0m\u001b[0;34m)\u001b[0m\u001b[0;34m\u001b[0m\u001b[0;34m\u001b[0m\u001b[0m\n\u001b[0m\u001b[1;32m   1563\u001b[0m \u001b[0;34m\u001b[0m\u001b[0m\n\u001b[1;32m   1564\u001b[0m         \u001b[0;32mtry\u001b[0m\u001b[0;34m:\u001b[0m\u001b[0;34m\u001b[0m\u001b[0;34m\u001b[0m\u001b[0m\n",
            "\u001b[0;32m<ipython-input-14-a9c29240508f>\u001b[0m in \u001b[0;36mforward\u001b[0;34m(self, tgt, src, src_mask, tgt_mask)\u001b[0m\n\u001b[1;32m     16\u001b[0m         \u001b[0mtgt\u001b[0m \u001b[0;34m=\u001b[0m \u001b[0mself\u001b[0m\u001b[0;34m.\u001b[0m\u001b[0mnorm1\u001b[0m\u001b[0;34m(\u001b[0m\u001b[0mtgt\u001b[0m\u001b[0;34m)\u001b[0m\u001b[0;34m\u001b[0m\u001b[0;34m\u001b[0m\u001b[0m\n\u001b[1;32m     17\u001b[0m \u001b[0;34m\u001b[0m\u001b[0m\n\u001b[0;32m---> 18\u001b[0;31m         \u001b[0mtgt2\u001b[0m \u001b[0;34m=\u001b[0m \u001b[0mself\u001b[0m\u001b[0;34m.\u001b[0m\u001b[0mcross_attn\u001b[0m\u001b[0;34m(\u001b[0m\u001b[0mtgt\u001b[0m\u001b[0;34m,\u001b[0m \u001b[0msrc\u001b[0m\u001b[0;34m,\u001b[0m \u001b[0msrc\u001b[0m\u001b[0;34m,\u001b[0m \u001b[0mmask\u001b[0m\u001b[0;34m=\u001b[0m\u001b[0msrc_mask\u001b[0m\u001b[0;34m)\u001b[0m\u001b[0;34m\u001b[0m\u001b[0;34m\u001b[0m\u001b[0m\n\u001b[0m\u001b[1;32m     19\u001b[0m         \u001b[0mtgt\u001b[0m \u001b[0;34m=\u001b[0m \u001b[0mtgt\u001b[0m \u001b[0;34m+\u001b[0m \u001b[0mself\u001b[0m\u001b[0;34m.\u001b[0m\u001b[0mdropout\u001b[0m\u001b[0;34m(\u001b[0m\u001b[0mtgt2\u001b[0m\u001b[0;34m)\u001b[0m  \u001b[0;31m# not an in-place operation\u001b[0m\u001b[0;34m\u001b[0m\u001b[0;34m\u001b[0m\u001b[0m\n\u001b[1;32m     20\u001b[0m         \u001b[0mtgt\u001b[0m \u001b[0;34m=\u001b[0m \u001b[0mself\u001b[0m\u001b[0;34m.\u001b[0m\u001b[0mnorm2\u001b[0m\u001b[0;34m(\u001b[0m\u001b[0mtgt\u001b[0m\u001b[0;34m)\u001b[0m\u001b[0;34m\u001b[0m\u001b[0;34m\u001b[0m\u001b[0m\n",
            "\u001b[0;32m/usr/local/lib/python3.10/dist-packages/torch/nn/modules/module.py\u001b[0m in \u001b[0;36m_wrapped_call_impl\u001b[0;34m(self, *args, **kwargs)\u001b[0m\n\u001b[1;32m   1551\u001b[0m             \u001b[0;32mreturn\u001b[0m \u001b[0mself\u001b[0m\u001b[0;34m.\u001b[0m\u001b[0m_compiled_call_impl\u001b[0m\u001b[0;34m(\u001b[0m\u001b[0;34m*\u001b[0m\u001b[0margs\u001b[0m\u001b[0;34m,\u001b[0m \u001b[0;34m**\u001b[0m\u001b[0mkwargs\u001b[0m\u001b[0;34m)\u001b[0m  \u001b[0;31m# type: ignore[misc]\u001b[0m\u001b[0;34m\u001b[0m\u001b[0;34m\u001b[0m\u001b[0m\n\u001b[1;32m   1552\u001b[0m         \u001b[0;32melse\u001b[0m\u001b[0;34m:\u001b[0m\u001b[0;34m\u001b[0m\u001b[0;34m\u001b[0m\u001b[0m\n\u001b[0;32m-> 1553\u001b[0;31m             \u001b[0;32mreturn\u001b[0m \u001b[0mself\u001b[0m\u001b[0;34m.\u001b[0m\u001b[0m_call_impl\u001b[0m\u001b[0;34m(\u001b[0m\u001b[0;34m*\u001b[0m\u001b[0margs\u001b[0m\u001b[0;34m,\u001b[0m \u001b[0;34m**\u001b[0m\u001b[0mkwargs\u001b[0m\u001b[0;34m)\u001b[0m\u001b[0;34m\u001b[0m\u001b[0;34m\u001b[0m\u001b[0m\n\u001b[0m\u001b[1;32m   1554\u001b[0m \u001b[0;34m\u001b[0m\u001b[0m\n\u001b[1;32m   1555\u001b[0m     \u001b[0;32mdef\u001b[0m \u001b[0m_call_impl\u001b[0m\u001b[0;34m(\u001b[0m\u001b[0mself\u001b[0m\u001b[0;34m,\u001b[0m \u001b[0;34m*\u001b[0m\u001b[0margs\u001b[0m\u001b[0;34m,\u001b[0m \u001b[0;34m**\u001b[0m\u001b[0mkwargs\u001b[0m\u001b[0;34m)\u001b[0m\u001b[0;34m:\u001b[0m\u001b[0;34m\u001b[0m\u001b[0;34m\u001b[0m\u001b[0m\n",
            "\u001b[0;32m/usr/local/lib/python3.10/dist-packages/torch/nn/modules/module.py\u001b[0m in \u001b[0;36m_call_impl\u001b[0;34m(self, *args, **kwargs)\u001b[0m\n\u001b[1;32m   1560\u001b[0m                 \u001b[0;32mor\u001b[0m \u001b[0m_global_backward_pre_hooks\u001b[0m \u001b[0;32mor\u001b[0m \u001b[0m_global_backward_hooks\u001b[0m\u001b[0;34m\u001b[0m\u001b[0;34m\u001b[0m\u001b[0m\n\u001b[1;32m   1561\u001b[0m                 or _global_forward_hooks or _global_forward_pre_hooks):\n\u001b[0;32m-> 1562\u001b[0;31m             \u001b[0;32mreturn\u001b[0m \u001b[0mforward_call\u001b[0m\u001b[0;34m(\u001b[0m\u001b[0;34m*\u001b[0m\u001b[0margs\u001b[0m\u001b[0;34m,\u001b[0m \u001b[0;34m**\u001b[0m\u001b[0mkwargs\u001b[0m\u001b[0;34m)\u001b[0m\u001b[0;34m\u001b[0m\u001b[0;34m\u001b[0m\u001b[0m\n\u001b[0m\u001b[1;32m   1563\u001b[0m \u001b[0;34m\u001b[0m\u001b[0m\n\u001b[1;32m   1564\u001b[0m         \u001b[0;32mtry\u001b[0m\u001b[0;34m:\u001b[0m\u001b[0;34m\u001b[0m\u001b[0;34m\u001b[0m\u001b[0m\n",
            "\u001b[0;32m<ipython-input-11-796731e5f6f1>\u001b[0m in \u001b[0;36mforward\u001b[0;34m(self, q, k, v, mask)\u001b[0m\n\u001b[1;32m     35\u001b[0m         \u001b[0mvalue\u001b[0m \u001b[0;34m=\u001b[0m \u001b[0mvalue\u001b[0m\u001b[0;34m.\u001b[0m\u001b[0mview\u001b[0m\u001b[0;34m(\u001b[0m\u001b[0mvalue\u001b[0m\u001b[0;34m.\u001b[0m\u001b[0mshape\u001b[0m\u001b[0;34m[\u001b[0m\u001b[0;36m0\u001b[0m\u001b[0;34m]\u001b[0m\u001b[0;34m,\u001b[0m \u001b[0mvalue\u001b[0m\u001b[0;34m.\u001b[0m\u001b[0mshape\u001b[0m\u001b[0;34m[\u001b[0m\u001b[0;36m1\u001b[0m\u001b[0;34m]\u001b[0m\u001b[0;34m,\u001b[0m \u001b[0mself\u001b[0m\u001b[0;34m.\u001b[0m\u001b[0mh\u001b[0m\u001b[0;34m,\u001b[0m \u001b[0mself\u001b[0m\u001b[0;34m.\u001b[0m\u001b[0md_k\u001b[0m\u001b[0;34m)\u001b[0m\u001b[0;34m.\u001b[0m\u001b[0mtranspose\u001b[0m\u001b[0;34m(\u001b[0m\u001b[0;36m1\u001b[0m\u001b[0;34m,\u001b[0m \u001b[0;36m2\u001b[0m\u001b[0;34m)\u001b[0m\u001b[0;34m\u001b[0m\u001b[0;34m\u001b[0m\u001b[0m\n\u001b[1;32m     36\u001b[0m \u001b[0;34m\u001b[0m\u001b[0m\n\u001b[0;32m---> 37\u001b[0;31m         \u001b[0mx\u001b[0m\u001b[0;34m,\u001b[0m \u001b[0mself\u001b[0m\u001b[0;34m.\u001b[0m\u001b[0mattention_scores\u001b[0m \u001b[0;34m=\u001b[0m \u001b[0mMultiHeadAttentionBlock\u001b[0m\u001b[0;34m.\u001b[0m\u001b[0mattention\u001b[0m\u001b[0;34m(\u001b[0m\u001b[0mquery\u001b[0m\u001b[0;34m,\u001b[0m \u001b[0mkey\u001b[0m\u001b[0;34m,\u001b[0m \u001b[0mvalue\u001b[0m\u001b[0;34m,\u001b[0m \u001b[0mmask\u001b[0m\u001b[0;34m,\u001b[0m \u001b[0mself\u001b[0m\u001b[0;34m.\u001b[0m\u001b[0mdropout\u001b[0m\u001b[0;34m)\u001b[0m\u001b[0;34m\u001b[0m\u001b[0;34m\u001b[0m\u001b[0m\n\u001b[0m\u001b[1;32m     38\u001b[0m \u001b[0;34m\u001b[0m\u001b[0m\n\u001b[1;32m     39\u001b[0m         \u001b[0mx\u001b[0m \u001b[0;34m=\u001b[0m \u001b[0mx\u001b[0m\u001b[0;34m.\u001b[0m\u001b[0mtranspose\u001b[0m\u001b[0;34m(\u001b[0m\u001b[0;36m1\u001b[0m\u001b[0;34m,\u001b[0m \u001b[0;36m2\u001b[0m\u001b[0;34m)\u001b[0m\u001b[0;34m.\u001b[0m\u001b[0mcontiguous\u001b[0m\u001b[0;34m(\u001b[0m\u001b[0;34m)\u001b[0m\u001b[0;34m.\u001b[0m\u001b[0mview\u001b[0m\u001b[0;34m(\u001b[0m\u001b[0mx\u001b[0m\u001b[0;34m.\u001b[0m\u001b[0mshape\u001b[0m\u001b[0;34m[\u001b[0m\u001b[0;36m0\u001b[0m\u001b[0;34m]\u001b[0m\u001b[0;34m,\u001b[0m \u001b[0;34m-\u001b[0m\u001b[0;36m1\u001b[0m\u001b[0;34m,\u001b[0m \u001b[0mself\u001b[0m\u001b[0;34m.\u001b[0m\u001b[0mh\u001b[0m \u001b[0;34m*\u001b[0m \u001b[0mself\u001b[0m\u001b[0;34m.\u001b[0m\u001b[0md_k\u001b[0m\u001b[0;34m)\u001b[0m\u001b[0;34m\u001b[0m\u001b[0;34m\u001b[0m\u001b[0m\n",
            "\u001b[0;32m<ipython-input-11-796731e5f6f1>\u001b[0m in \u001b[0;36mattention\u001b[0;34m(query, key, value, mask, dropout)\u001b[0m\n\u001b[1;32m     19\u001b[0m         \u001b[0;32mif\u001b[0m \u001b[0mmask\u001b[0m \u001b[0;32mis\u001b[0m \u001b[0;32mnot\u001b[0m \u001b[0;32mNone\u001b[0m\u001b[0;34m:\u001b[0m\u001b[0;34m\u001b[0m\u001b[0;34m\u001b[0m\u001b[0m\n\u001b[1;32m     20\u001b[0m             \u001b[0mattention_scores\u001b[0m \u001b[0;34m=\u001b[0m \u001b[0mattention_scores\u001b[0m\u001b[0;34m.\u001b[0m\u001b[0mmasked_fill\u001b[0m\u001b[0;34m(\u001b[0m\u001b[0mmask\u001b[0m \u001b[0;34m==\u001b[0m \u001b[0;36m0\u001b[0m\u001b[0;34m,\u001b[0m \u001b[0;34m-\u001b[0m\u001b[0;36m1e9\u001b[0m\u001b[0;34m)\u001b[0m\u001b[0;34m.\u001b[0m\u001b[0mclone\u001b[0m\u001b[0;34m(\u001b[0m\u001b[0;34m)\u001b[0m\u001b[0;34m\u001b[0m\u001b[0;34m\u001b[0m\u001b[0m\n\u001b[0;32m---> 21\u001b[0;31m         \u001b[0mattention_scores\u001b[0m \u001b[0;34m=\u001b[0m \u001b[0mattention_scores\u001b[0m\u001b[0;34m.\u001b[0m\u001b[0msoftmax\u001b[0m\u001b[0;34m(\u001b[0m\u001b[0mdim\u001b[0m\u001b[0;34m=\u001b[0m\u001b[0;34m-\u001b[0m\u001b[0;36m1\u001b[0m\u001b[0;34m)\u001b[0m\u001b[0;34m\u001b[0m\u001b[0;34m\u001b[0m\u001b[0m\n\u001b[0m\u001b[1;32m     22\u001b[0m         \u001b[0;32mif\u001b[0m \u001b[0mdropout\u001b[0m \u001b[0;32mis\u001b[0m \u001b[0;32mnot\u001b[0m \u001b[0;32mNone\u001b[0m\u001b[0;34m:\u001b[0m\u001b[0;34m\u001b[0m\u001b[0;34m\u001b[0m\u001b[0m\n\u001b[1;32m     23\u001b[0m             \u001b[0mattention_scores\u001b[0m \u001b[0;34m=\u001b[0m \u001b[0mdropout\u001b[0m\u001b[0;34m(\u001b[0m\u001b[0mattention_scores\u001b[0m\u001b[0;34m)\u001b[0m\u001b[0;34m\u001b[0m\u001b[0;34m\u001b[0m\u001b[0m\n",
            "\u001b[0;31mKeyboardInterrupt\u001b[0m: "
          ]
        }
      ],
      "source": [
        "import tqdm\n",
        "from tqdm import tqdm\n",
        "\n",
        "def train_loop(model, idx_loader, criterion):\n",
        "  train_losses = []\n",
        "  epoch_num = 0\n",
        "  learning_rate = 2e-4\n",
        "\n",
        "  while epoch_num<2:\n",
        "    epoch_loss = 0\n",
        "    epoch_num+= 1\n",
        "    optimizer = optim.Adam(model.parameters(), lr= learning_rate)\n",
        "    model.train()\n",
        "    iter = 0\n",
        "\n",
        "    for i in tqdm(idx_loader):\n",
        "      iter+= 1\n",
        "\n",
        "      lat_input = torch.tensor([train_dict['latitude'][j][:60] for j in i['idx']])\n",
        "      long_input = torch.tensor([train_dict['longitude'][j][:60] for j in i['idx']])\n",
        "      lat_tgt = torch.tensor([train_dict['latitude'][j][60:] for j in i['idx']])\n",
        "      long_tgt = torch.tensor([train_dict['longitude'][j][60:] for j in i['idx']])\n",
        "\n",
        "      input_axes = torch.stack((lat_input, long_input), dim=-1)\n",
        "      pred_axes   = torch.stack((lat_tgt, long_tgt), dim=-1)\n",
        "\n",
        "      tgt_mask = torch.triu(torch.ones((input_axes.shape[0], pred_axes.shape[1]-1, pred_axes.shape[1]-1)), diagonal=1).type(torch.int)\n",
        "      tgt_mask = (tgt_mask+1)%2\n",
        "\n",
        "      tgt_axes = pred_axes[:, :-1].clone()\n",
        "      real_axes = pred_axes[:, 1:].clone()\n",
        "\n",
        "      out = model(input_axes, tgt_axes, src_mask=None, tgt_src_mask=None, tgt_mask=tgt_mask, inference=False)\n",
        "\n",
        "      optimizer.zero_grad()\n",
        "\n",
        "      y =   real_axes\n",
        "      loss = criterion(out, y)\n",
        "      epoch_loss += loss.item()\n",
        "      loss.backward()\n",
        "      optimizer.step()\n",
        "      if iter%100 == 0:\n",
        "       print(f'loss: {loss.item()}, epoch: {epoch_num}, iter: {iter}')\n",
        "\n",
        "    learning_rate = learning_rate * 0.9\n",
        "    train_loss = epoch_loss / len(idx_loader)\n",
        "    train_losses.append(train_loss)\n",
        "\n",
        "  return train_losses\n",
        "\n",
        "train_loop(model, train_idx_loader, criterion)\n",
        "\n",
        "torch.save(model.state_dict(), '/content/drive/My Drive/models/T_Roma_150.pt')"
      ]
    },
    {
      "cell_type": "code",
      "execution_count": null,
      "metadata": {
        "id": "YlWfOOfJCyw0"
      },
      "outputs": [],
      "source": [
        "import torch\n",
        "\n",
        " # loading\n",
        "from google.colab import drive\n",
        "drive.mount('/content/drive')\n",
        "\n",
        "import json\n",
        "\n",
        "train_path = '/content/drive/My Drive/datasets/'+'Roma_train_150'\n",
        "test_path  = '/content/drive/My Drive/datasets/'+'Roma_test_150'\n",
        "\n",
        "with open(train_path, 'r') as json_file:\n",
        "  train_dict = json.load(json_file)\n",
        "\n",
        "with open(test_path, 'r') as json_file:\n",
        "  test_dict = json.load(json_file)\n",
        "\n",
        "train_idx = [{'idx':i} for i in range(len(train_dict['time']))]\n",
        "test_idx = [{'idx':i} for i in range(len(test_dict['time']))]\n",
        "\n",
        "from torch.utils.data import DataLoader, Dataset\n",
        "train_idx_loader = DataLoader(train_idx, batch_size= 64, shuffle=True)\n",
        "test_idx_loader = DataLoader(test_idx, batch_size= 64, shuffle=False)\n",
        "\n",
        "import torch.optim as optim\n",
        "\n",
        "d_input = 2\n",
        "d_model = 256\n",
        "num_layers = 4\n",
        "h = 4\n",
        "ff_hidden_dim = 512\n",
        "dropout = 0.1\n",
        "\n",
        "loaded_model = Transformer(d_input, d_model, num_layers, h, ff_hidden_dim, dropout)\n",
        "loaded_model.load_state_dict(torch.load('/content/drive/My Drive/models/T_Roma_150.pt'))\n",
        "\n",
        "# testing\n",
        "import tqdm\n",
        "from tqdm import tqdm\n",
        "\n",
        "def test_loop(model, idx_loader, pred_len):\n",
        "  model.eval()\n",
        "  total_test_loss = 0\n",
        "  iter = 0\n",
        "\n",
        "  for i in tqdm(idx_loader):\n",
        "      lat_input = torch.tensor([test_dict['latitude'][j][:120] for j in i['idx']])\n",
        "      long_input = torch.tensor([test_dict['longitude'][j][:120] for j in i['idx']])\n",
        "      lat_tgt = torch.tensor([test_dict['latitude'][j][120:] for j in i['idx']])\n",
        "      long_tgt = torch.tensor([test_dict['longitude'][j][120:] for j in i['idx']])\n",
        "\n",
        "      input_axes = torch.stack((lat_input, long_input), dim=-1)\n",
        "      pred_axes   = torch.stack((lat_tgt, long_tgt), dim=-1)\n",
        "\n",
        "      tgt_mask = torch.triu(torch.ones((input_axes.shape[0], pred_axes.shape[1]-1, pred_axes.shape[1]-1)), diagonal=1).type(torch.int)\n",
        "      tgt_mask = (tgt_mask+1)%2\n",
        "\n",
        "      try:\n",
        "        tgt_axes = pred_axes[:, 0].clone()\n",
        "        tgt_axes = tgt_axes.view(-1,1,2)\n",
        "        real_axes = pred_axes[:, 1:].clone()\n",
        "        for i in range(pred_len):\n",
        "          out = model(input_axes, tgt_axes, src_mask=None, tgt_src_mask=None, tgt_mask=None, inference=True)\n",
        "\n",
        "          y = real_axes[:, i]\n",
        "          loss = criterion(out, y)\n",
        "          total_test_loss += loss.item()\n",
        "          out = out.view(64,1,2)\n",
        "          tgt_axes = torch.cat((tgt_axes, out), dim=1)\n",
        "\n",
        "        iter+= 1\n",
        "        if iter%100 == 0:\n",
        "          print(f'loss: { total_test_loss / (iter*pred_len)}, iter: {iter}')\n",
        "\n",
        "      except:\n",
        "        pass\n",
        "\n",
        "  avg_test_loss = total_test_loss / (iter*pred_len)\n",
        "  print(f\"Test Loss: {avg_test_loss}\")\n",
        "  return avg_test_loss\n",
        "\n",
        "test_loop(loaded_model, test_idx_loader, pred_len=29)"
      ]
    },
    {
      "cell_type": "code",
      "execution_count": null,
      "metadata": {
        "colab": {
          "base_uri": "https://localhost:8080/"
        },
        "id": "La84vi0fTzGO",
        "outputId": "1d819b8f-10c4-4613-da7f-0df6d523061f"
      },
      "outputs": [
        {
          "name": "stdout",
          "output_type": "stream",
          "text": [
            "Drive already mounted at /content/drive; to attempt to forcibly remount, call drive.mount(\"/content/drive\", force_remount=True).\n"
          ]
        }
      ],
      "source": [
        "  # loading\n",
        "from google.colab import drive\n",
        "drive.mount('/content/drive')\n",
        "\n",
        "import json\n",
        "\n",
        "train_path = '/content/drive/My Drive/datasets/'+'Roma_train'\n",
        "test_path  = '/content/drive/My Drive/datasets/'+'Roma_test'\n",
        "\n",
        "with open(train_path, 'r') as json_file:\n",
        "  train_dict = json.load(json_file)\n",
        "\n",
        "with open(test_path, 'r') as json_file:\n",
        "  test_dict = json.load(json_file)"
      ]
    },
    {
      "cell_type": "code",
      "execution_count": null,
      "metadata": {
        "id": "D_B2ta3NVldc"
      },
      "outputs": [],
      "source": [
        "import torch\n",
        "!pip install datasets"
      ]
    },
    {
      "cell_type": "code",
      "execution_count": null,
      "metadata": {
        "id": "su1ufJFhWGUp"
      },
      "outputs": [],
      "source": [
        "train_idx = [{'idx':i} for i in range(len(train_dict['time']))]\n",
        "test_idx = [{'idx':i} for i in range(len(test_dict['time']))]\n",
        "\n",
        "from torch.utils.data import DataLoader, Dataset\n",
        "train_idx_loader = DataLoader(train_idx, batch_size= 64, shuffle=True)\n",
        "test_idx_loader = DataLoader(test_idx, batch_size= 64, shuffle=False)\n"
      ]
    },
    {
      "cell_type": "code",
      "execution_count": null,
      "metadata": {
        "colab": {
          "base_uri": "https://localhost:8080/"
        },
        "id": "Gxqo84Kyx5D7",
        "outputId": "780a43af-2feb-4da1-bb1b-a9802968de55"
      },
      "outputs": [
        {
          "name": "stdout",
          "output_type": "stream",
          "text": [
            "torch.Size([64, 20])\n",
            "tensor([[1682455, 1682490, 1682819,  ..., 1683716, 1683777, 1683833],\n",
            "        [1560053, 1560116, 1560179,  ..., 1561075, 1561137, 1561194],\n",
            "        [ 207345,  207406,  207465,  ...,  208378,  208434,  208493],\n",
            "        ...,\n",
            "        [2141096, 2141154, 2141218,  ..., 2142119, 2142174, 2142238],\n",
            "        [1241992, 1242055, 1242118,  ..., 1243014, 1243071, 1243136],\n",
            "        [2370239, 2370295, 2370351,  ..., 2371256, 2371319, 2371375]])\n"
          ]
        }
      ],
      "source": [
        "for i in test_idx_loader:\n",
        "  tl = [test_dict['time'][j][60:] for j in i['idx']]\n",
        "  tensor = torch.tensor(tl)\n",
        "  print(tensor.shape)\n",
        "  print(tensor)\n",
        "  break"
      ]
    },
    {
      "cell_type": "code",
      "execution_count": null,
      "metadata": {
        "id": "mRCa7IlIUqrU"
      },
      "outputs": [],
      "source": [
        "import torch.optim as optim\n",
        "\n",
        "d_input = 2\n",
        "d_model = 256\n",
        "num_layers = 4\n",
        "h = 4\n",
        "ff_hidden_dim = 512\n",
        "dropout = 0.1\n",
        "\n",
        "model = Transformer(d_input, d_model, num_layers, h, ff_hidden_dim, dropout)\n",
        "#Encoder(num_layers, d_model, h, ff_hidden_dim, dropout)\n",
        "\n",
        "criterion = nn.MSELoss()\n",
        "optimizer = optim.Adam(model.parameters(), lr=2e-4)"
      ]
    },
    {
      "cell_type": "code",
      "execution_count": null,
      "metadata": {
        "colab": {
          "base_uri": "https://localhost:8080/"
        },
        "id": "KzeOEcFI05lE",
        "outputId": "18a50ebd-48f8-464e-9f1c-4d5dadd4772a"
      },
      "outputs": [
        {
          "name": "stdout",
          "output_type": "stream",
          "text": [
            "torch.Size([1, 3])\n"
          ]
        },
        {
          "data": {
            "text/plain": [
              "tensor([[[1, 2, 3]],\n",
              "\n",
              "        [[3, 4, 7]]])"
            ]
          },
          "execution_count": 21,
          "metadata": {},
          "output_type": "execute_result"
        }
      ],
      "source": [
        "a = torch.tensor([1, 2, 3])\n",
        "b = torch.tensor([3, 4, 7])\n",
        "c = torch.stack((a.view(1, -1), b.view(1, -1)), dim=0)\n",
        "print(a.view(1, -1).shape)\n",
        "c.shape\n",
        "c"
      ]
    },
    {
      "cell_type": "code",
      "execution_count": null,
      "metadata": {
        "colab": {
          "base_uri": "https://localhost:8080/"
        },
        "id": "rnlIlie9x945",
        "outputId": "abb20e51-562e-4b80-8d09-4d4a096ab5bf"
      },
      "outputs": [
        {
          "name": "stderr",
          "output_type": "stream",
          "text": [
            "\r  0%|          | 0/428 [00:00<?, ?it/s]"
          ]
        },
        {
          "name": "stdout",
          "output_type": "stream",
          "text": [
            "long_shape:  torch.Size([64, 60]) torch.Size([64, 20])\n",
            "input_shape:  torch.Size([64, 60, 2])\n",
            "tgt_shape:  torch.Size([64, 20, 2])\n",
            "tgt_mask:  torch.Size([64, 19, 19])\n"
          ]
        },
        {
          "name": "stderr",
          "output_type": "stream",
          "text": [
            "\r  0%|          | 0/428 [00:01<?, ?it/s]"
          ]
        },
        {
          "name": "stdout",
          "output_type": "stream",
          "text": [
            "out:  torch.Size([64, 19, 2])\n",
            "True\n"
          ]
        },
        {
          "name": "stderr",
          "output_type": "stream",
          "text": [
            "\n"
          ]
        }
      ],
      "source": [
        "# example of a single pass\n",
        "# sizes are fixed so padding is not needed\n",
        "\n",
        "import tqdm\n",
        "from tqdm import tqdm\n",
        "\n",
        "for i in tqdm(train_idx_loader):\n",
        "  lat_input = torch.tensor([train_dict['latitude'][j][:60] for j in i['idx']])\n",
        "  long_input = torch.tensor([train_dict['longitude'][j][:60] for j in i['idx']])\n",
        "  lat_tgt = torch.tensor([train_dict['latitude'][j][60:] for j in i['idx']])\n",
        "  long_tgt = torch.tensor([train_dict['longitude'][j][60:] for j in i['idx']])\n",
        "\n",
        "  input_axes = torch.stack((lat_input, long_input), dim=-1)\n",
        "  pred_axes   = torch.stack((lat_tgt, long_tgt), dim=-1)\n",
        "\n",
        "  print('long_shape: ', long_input.shape, long_tgt.shape)\n",
        "  print('input_shape: ', input_axes.shape)\n",
        "  print('tgt_shape: ', pred_axes.shape)\n",
        "\n",
        "  tgt_mask = torch.triu(torch.ones((input_axes.shape[0], pred_axes.shape[1]-1, pred_axes.shape[1]-1)), diagonal=1).type(torch.int)\n",
        "  tgt_mask = (tgt_mask+1)%2\n",
        "  print('tgt_mask: ', tgt_mask.shape)\n",
        "\n",
        "  tgt_axes = pred_axes[:, :-1].clone()\n",
        "  real_axes = pred_axes[:, 1:].clone()\n",
        "\n",
        "  out = model(input_axes, tgt_axes, src_mask=None, tgt_src_mask=None, tgt_mask=tgt_mask, inference=False)\n",
        "  print('out: ', out.shape)\n",
        "  print(out.shape == real_axes.shape)\n",
        "  break"
      ]
    },
    {
      "cell_type": "code",
      "execution_count": null,
      "metadata": {
        "id": "4dzvctIbHTad"
      },
      "outputs": [],
      "source": [
        "# train loop\n",
        "\n",
        "def train_loop(model, idx_loader, criterion):\n",
        "  train_losses = []\n",
        "  epoch_num = 0\n",
        "  learning_rate = 2e-4\n",
        "\n",
        "  while epoch_num<7:\n",
        "    epoch_loss = 0\n",
        "    epoch_num+= 1\n",
        "    optimizer = optim.Adam(model.parameters(), lr= learning_rate)\n",
        "    model.train()\n",
        "    iter = 0\n",
        "\n",
        "    for i in tqdm(idx_loader):\n",
        "      iter+= 1\n",
        "\n",
        "      lat_input = torch.tensor([train_dict['latitude'][j][:60] for j in i['idx']])\n",
        "      long_input = torch.tensor([train_dict['longitude'][j][:60] for j in i['idx']])\n",
        "      lat_tgt = torch.tensor([train_dict['latitude'][j][60:] for j in i['idx']])\n",
        "      long_tgt = torch.tensor([train_dict['longitude'][j][60:] for j in i['idx']])\n",
        "\n",
        "      input_axes = torch.stack((lat_input, long_input), dim=-1)\n",
        "      pred_axes   = torch.stack((lat_tgt, long_tgt), dim=-1)\n",
        "\n",
        "      tgt_mask = torch.triu(torch.ones((input_axes.shape[0], pred_axes.shape[1]-1, pred_axes.shape[1]-1)), diagonal=1).type(torch.int)\n",
        "      tgt_mask = (tgt_mask+1)%2\n",
        "\n",
        "      tgt_axes = pred_axes[:, :-1].clone()\n",
        "      real_axes = pred_axes[:, 1:].clone()\n",
        "\n",
        "      out = model(input_axes, tgt_axes, src_mask=None, tgt_src_mask=None, tgt_mask=tgt_mask, inference=False)\n",
        "\n",
        "      optimizer.zero_grad()\n",
        "\n",
        "      y =   real_axes\n",
        "      loss = criterion(out, y)\n",
        "      epoch_loss += loss.item()\n",
        "      loss.backward()\n",
        "      optimizer.step()\n",
        "      if iter%100 == 0:\n",
        "       print(f'loss: {loss.item()}, epoch: {epoch_num}, iter: {iter}')\n",
        "\n",
        "    learning_rate = learning_rate * 0.9\n",
        "    train_loss = epoch_loss / len(idx_loader)\n",
        "    train_losses.append(train_loss)\n",
        "\n",
        "  return train_losses"
      ]
    },
    {
      "cell_type": "code",
      "execution_count": null,
      "metadata": {
        "colab": {
          "base_uri": "https://localhost:8080/",
          "height": 356
        },
        "id": "xTnsRQvTJ8sJ",
        "outputId": "b178a788-81f6-4847-a20d-e29707a24472"
      },
      "outputs": [
        {
          "name": "stderr",
          "output_type": "stream",
          "text": [
            " 23%|██▎       | 100/428 [03:29<10:43,  1.96s/it]"
          ]
        },
        {
          "name": "stdout",
          "output_type": "stream",
          "text": [
            "loss: 0.0029254883993417025, epoch: 1, iter: 100\n"
          ]
        },
        {
          "name": "stderr",
          "output_type": "stream",
          "text": [
            " 47%|████▋     | 200/428 [07:31<07:40,  2.02s/it]"
          ]
        },
        {
          "name": "stdout",
          "output_type": "stream",
          "text": [
            "loss: 0.003338820533826947, epoch: 1, iter: 200\n"
          ]
        },
        {
          "name": "stderr",
          "output_type": "stream",
          "text": [
            " 70%|███████   | 300/428 [10:58<04:26,  2.08s/it]"
          ]
        },
        {
          "name": "stdout",
          "output_type": "stream",
          "text": [
            "loss: 0.003257832955569029, epoch: 1, iter: 300\n"
          ]
        },
        {
          "name": "stderr",
          "output_type": "stream",
          "text": [
            " 75%|███████▍  | 319/428 [11:38<03:58,  2.19s/it]\n"
          ]
        },
        {
          "ename": "KeyboardInterrupt",
          "evalue": "",
          "output_type": "error",
          "traceback": [
            "\u001b[0;31m---------------------------------------------------------------------------\u001b[0m",
            "\u001b[0;31mKeyboardInterrupt\u001b[0m                         Traceback (most recent call last)",
            "\u001b[0;32m<ipython-input-62-824d4c9620ce>\u001b[0m in \u001b[0;36m<cell line: 1>\u001b[0;34m()\u001b[0m\n\u001b[0;32m----> 1\u001b[0;31m \u001b[0mtrain_loop\u001b[0m\u001b[0;34m(\u001b[0m\u001b[0mloaded_model\u001b[0m\u001b[0;34m,\u001b[0m \u001b[0mtrain_idx_loader\u001b[0m\u001b[0;34m,\u001b[0m \u001b[0mcriterion\u001b[0m\u001b[0;34m)\u001b[0m\u001b[0;34m\u001b[0m\u001b[0;34m\u001b[0m\u001b[0m\n\u001b[0m",
            "\u001b[0;32m<ipython-input-61-4a895c1ebcf5>\u001b[0m in \u001b[0;36mtrain_loop\u001b[0;34m(model, idx_loader, criterion)\u001b[0m\n\u001b[1;32m     37\u001b[0m       \u001b[0mloss\u001b[0m \u001b[0;34m=\u001b[0m \u001b[0mcriterion\u001b[0m\u001b[0;34m(\u001b[0m\u001b[0mout\u001b[0m\u001b[0;34m,\u001b[0m \u001b[0my\u001b[0m\u001b[0;34m)\u001b[0m\u001b[0;34m\u001b[0m\u001b[0;34m\u001b[0m\u001b[0m\n\u001b[1;32m     38\u001b[0m       \u001b[0mepoch_loss\u001b[0m \u001b[0;34m+=\u001b[0m \u001b[0mloss\u001b[0m\u001b[0;34m.\u001b[0m\u001b[0mitem\u001b[0m\u001b[0;34m(\u001b[0m\u001b[0;34m)\u001b[0m\u001b[0;34m\u001b[0m\u001b[0;34m\u001b[0m\u001b[0m\n\u001b[0;32m---> 39\u001b[0;31m       \u001b[0mloss\u001b[0m\u001b[0;34m.\u001b[0m\u001b[0mbackward\u001b[0m\u001b[0;34m(\u001b[0m\u001b[0;34m)\u001b[0m\u001b[0;34m\u001b[0m\u001b[0;34m\u001b[0m\u001b[0m\n\u001b[0m\u001b[1;32m     40\u001b[0m       \u001b[0moptimizer\u001b[0m\u001b[0;34m.\u001b[0m\u001b[0mstep\u001b[0m\u001b[0;34m(\u001b[0m\u001b[0;34m)\u001b[0m\u001b[0;34m\u001b[0m\u001b[0;34m\u001b[0m\u001b[0m\n\u001b[1;32m     41\u001b[0m       \u001b[0;32mif\u001b[0m \u001b[0miter\u001b[0m\u001b[0;34m%\u001b[0m\u001b[0;36m100\u001b[0m \u001b[0;34m==\u001b[0m \u001b[0;36m0\u001b[0m\u001b[0;34m:\u001b[0m\u001b[0;34m\u001b[0m\u001b[0;34m\u001b[0m\u001b[0m\n",
            "\u001b[0;32m/usr/local/lib/python3.10/dist-packages/torch/_tensor.py\u001b[0m in \u001b[0;36mbackward\u001b[0;34m(self, gradient, retain_graph, create_graph, inputs)\u001b[0m\n\u001b[1;32m    519\u001b[0m                 \u001b[0minputs\u001b[0m\u001b[0;34m=\u001b[0m\u001b[0minputs\u001b[0m\u001b[0;34m,\u001b[0m\u001b[0;34m\u001b[0m\u001b[0;34m\u001b[0m\u001b[0m\n\u001b[1;32m    520\u001b[0m             )\n\u001b[0;32m--> 521\u001b[0;31m         torch.autograd.backward(\n\u001b[0m\u001b[1;32m    522\u001b[0m             \u001b[0mself\u001b[0m\u001b[0;34m,\u001b[0m \u001b[0mgradient\u001b[0m\u001b[0;34m,\u001b[0m \u001b[0mretain_graph\u001b[0m\u001b[0;34m,\u001b[0m \u001b[0mcreate_graph\u001b[0m\u001b[0;34m,\u001b[0m \u001b[0minputs\u001b[0m\u001b[0;34m=\u001b[0m\u001b[0minputs\u001b[0m\u001b[0;34m\u001b[0m\u001b[0;34m\u001b[0m\u001b[0m\n\u001b[1;32m    523\u001b[0m         )\n",
            "\u001b[0;32m/usr/local/lib/python3.10/dist-packages/torch/autograd/__init__.py\u001b[0m in \u001b[0;36mbackward\u001b[0;34m(tensors, grad_tensors, retain_graph, create_graph, grad_variables, inputs)\u001b[0m\n\u001b[1;32m    287\u001b[0m     \u001b[0;31m# some Python versions print out the first line of a multi-line function\u001b[0m\u001b[0;34m\u001b[0m\u001b[0;34m\u001b[0m\u001b[0m\n\u001b[1;32m    288\u001b[0m     \u001b[0;31m# calls in the traceback and some print out the last line\u001b[0m\u001b[0;34m\u001b[0m\u001b[0;34m\u001b[0m\u001b[0m\n\u001b[0;32m--> 289\u001b[0;31m     _engine_run_backward(\n\u001b[0m\u001b[1;32m    290\u001b[0m         \u001b[0mtensors\u001b[0m\u001b[0;34m,\u001b[0m\u001b[0;34m\u001b[0m\u001b[0;34m\u001b[0m\u001b[0m\n\u001b[1;32m    291\u001b[0m         \u001b[0mgrad_tensors_\u001b[0m\u001b[0;34m,\u001b[0m\u001b[0;34m\u001b[0m\u001b[0;34m\u001b[0m\u001b[0m\n",
            "\u001b[0;32m/usr/local/lib/python3.10/dist-packages/torch/autograd/graph.py\u001b[0m in \u001b[0;36m_engine_run_backward\u001b[0;34m(t_outputs, *args, **kwargs)\u001b[0m\n\u001b[1;32m    766\u001b[0m         \u001b[0munregister_hooks\u001b[0m \u001b[0;34m=\u001b[0m \u001b[0m_register_logging_hooks_on_whole_graph\u001b[0m\u001b[0;34m(\u001b[0m\u001b[0mt_outputs\u001b[0m\u001b[0;34m)\u001b[0m\u001b[0;34m\u001b[0m\u001b[0;34m\u001b[0m\u001b[0m\n\u001b[1;32m    767\u001b[0m     \u001b[0;32mtry\u001b[0m\u001b[0;34m:\u001b[0m\u001b[0;34m\u001b[0m\u001b[0;34m\u001b[0m\u001b[0m\n\u001b[0;32m--> 768\u001b[0;31m         return Variable._execution_engine.run_backward(  # Calls into the C++ engine to run the backward pass\n\u001b[0m\u001b[1;32m    769\u001b[0m             \u001b[0mt_outputs\u001b[0m\u001b[0;34m,\u001b[0m \u001b[0;34m*\u001b[0m\u001b[0margs\u001b[0m\u001b[0;34m,\u001b[0m \u001b[0;34m**\u001b[0m\u001b[0mkwargs\u001b[0m\u001b[0;34m\u001b[0m\u001b[0;34m\u001b[0m\u001b[0m\n\u001b[1;32m    770\u001b[0m         )  # Calls into the C++ engine to run the backward pass\n",
            "\u001b[0;31mKeyboardInterrupt\u001b[0m: "
          ]
        }
      ],
      "source": [
        "train_loop(loaded_model, train_idx_loader, criterion)"
      ]
    },
    {
      "cell_type": "code",
      "execution_count": null,
      "metadata": {
        "id": "jBXZZzCeWmHz"
      },
      "outputs": [],
      "source": [
        "\n",
        "#torch.save(model.state_dict(), '/content/drive/My Drive/models/T_Roma.pt')"
      ]
    },
    {
      "cell_type": "code",
      "execution_count": null,
      "metadata": {
        "colab": {
          "base_uri": "https://localhost:8080/"
        },
        "id": "R8xuHROMXAhI",
        "outputId": "3c9b4fe8-f970-433f-9c95-5fb0e3d889b3"
      },
      "outputs": [
        {
          "name": "stderr",
          "output_type": "stream",
          "text": [
            "<ipython-input-16-b6fcac87d679>:10: FutureWarning: You are using `torch.load` with `weights_only=False` (the current default value), which uses the default pickle module implicitly. It is possible to construct malicious pickle data which will execute arbitrary code during unpickling (See https://github.com/pytorch/pytorch/blob/main/SECURITY.md#untrusted-models for more details). In a future release, the default value for `weights_only` will be flipped to `True`. This limits the functions that could be executed during unpickling. Arbitrary objects will no longer be allowed to be loaded via this mode unless they are explicitly allowlisted by the user via `torch.serialization.add_safe_globals`. We recommend you start setting `weights_only=True` for any use case where you don't have full control of the loaded file. Please open an issue on GitHub for any issues related to this experimental feature.\n",
            "  loaded_model.load_state_dict(torch.load('/content/drive/My Drive/models/T_Roma.pt'))\n"
          ]
        },
        {
          "data": {
            "text/plain": [
              "<All keys matched successfully>"
            ]
          },
          "execution_count": 16,
          "metadata": {},
          "output_type": "execute_result"
        }
      ],
      "source": [
        "d_input = 2\n",
        "d_model = 256\n",
        "num_layers = 4\n",
        "h = 4\n",
        "ff_hidden_dim = 512\n",
        "dropout = 0.1\n",
        "\n",
        "criterion = nn.MSELoss()\n",
        "loaded_model = Transformer(d_input, d_model, num_layers, h, ff_hidden_dim, dropout)\n",
        "loaded_model.load_state_dict(torch.load('/content/drive/My Drive/models/T_Roma.pt'))"
      ]
    },
    {
      "cell_type": "code",
      "execution_count": null,
      "metadata": {
        "id": "ifhYznLo7gDK"
      },
      "outputs": [],
      "source": [
        "# testing\n",
        "import tqdm\n",
        "from tqdm import tqdm\n",
        "\n",
        "def test_loop(model, idx_loader, pred_len):\n",
        "  model.eval()\n",
        "  total_test_loss = 0\n",
        "  iter = 0\n",
        "\n",
        "  for i in tqdm(idx_loader):\n",
        "      lat_input = torch.tensor([test_dict['latitude'][j][:60] for j in i['idx']])\n",
        "      long_input = torch.tensor([test_dict['longitude'][j][:60] for j in i['idx']])\n",
        "      lat_tgt = torch.tensor([test_dict['latitude'][j][60:] for j in i['idx']])\n",
        "      long_tgt = torch.tensor([test_dict['longitude'][j][60:] for j in i['idx']])\n",
        "\n",
        "      input_axes = torch.stack((lat_input, long_input), dim=-1)\n",
        "      pred_axes   = torch.stack((lat_tgt, long_tgt), dim=-1)\n",
        "\n",
        "      tgt_mask = torch.triu(torch.ones((input_axes.shape[0], pred_axes.shape[1]-1, pred_axes.shape[1]-1)), diagonal=1).type(torch.int)\n",
        "      tgt_mask = (tgt_mask+1)%2\n",
        "\n",
        "      try:\n",
        "        tgt_axes = pred_axes[:, 0].clone()\n",
        "        tgt_axes = tgt_axes.view(-1,1,2)\n",
        "        real_axes = pred_axes[:, 1:].clone()\n",
        "        for i in range(pred_len):\n",
        "          out = model(input_axes, tgt_axes, src_mask=None, tgt_src_mask=None, tgt_mask=None, inference=True)\n",
        "\n",
        "          y = real_axes[:, i]\n",
        "          loss = criterion(out, y)\n",
        "          total_test_loss += loss.item()\n",
        "          out = out.view(64,1,2)\n",
        "          tgt_axes = torch.cat((tgt_axes, out), dim=1)\n",
        "\n",
        "        iter+= 1\n",
        "        if iter%100 == 0:\n",
        "          print(f'loss: { total_test_loss / (iter*pred_len)}, iter: {iter}')\n",
        "\n",
        "      except:\n",
        "        pass\n",
        "\n",
        "  avg_test_loss = total_test_loss / (iter*pred_len)\n",
        "  print(f\"Test Loss: {avg_test_loss}\")\n",
        "  return avg_test_loss"
      ]
    },
    {
      "cell_type": "code",
      "execution_count": null,
      "metadata": {
        "colab": {
          "base_uri": "https://localhost:8080/"
        },
        "id": "uaZWc0-x_cGh",
        "outputId": "563f5bf4-293b-4c41-8047-c92710f3faba"
      },
      "outputs": [
        {
          "name": "stderr",
          "output_type": "stream",
          "text": [
            "100%|██████████| 79/79 [14:30<00:00, 11.02s/it]\n"
          ]
        },
        {
          "name": "stdout",
          "output_type": "stream",
          "text": [
            "Test Loss: 0.0028907352970556736\n"
          ]
        },
        {
          "data": {
            "text/plain": [
              "0.0028907352970556736"
            ]
          },
          "execution_count": 18,
          "metadata": {},
          "output_type": "execute_result"
        }
      ],
      "source": [
        "test_loop(loaded_model, test_idx_loader, pred_len=19)"
      ]
    },
    {
      "cell_type": "markdown",
      "metadata": {
        "id": "lA9KYWzpgbNL"
      },
      "source": [
        "## prepairation"
      ]
    },
    {
      "cell_type": "code",
      "execution_count": null,
      "metadata": {
        "colab": {
          "base_uri": "https://localhost:8080/"
        },
        "id": "bxYTjcQFX5ho",
        "outputId": "41f19023-1ebc-4d59-9ba3-f2e168d38400"
      },
      "outputs": [
        {
          "output_type": "stream",
          "name": "stdout",
          "text": [
            "Drive already mounted at /content/drive; to attempt to forcibly remount, call drive.mount(\"/content/drive\", force_remount=True).\n"
          ]
        }
      ],
      "source": [
        "import pandas as pd\n",
        "from google.colab import drive\n",
        "drive.mount('/content/drive')"
      ]
    },
    {
      "cell_type": "code",
      "execution_count": null,
      "metadata": {
        "id": "FyJsjuCT6S0z"
      },
      "outputs": [],
      "source": [
        "# date-teime -> seconds\n",
        "\n",
        "def sec_time(t):\n",
        "      s_s = 1\n",
        "      m_s = 60\n",
        "      h_s = 60*m_s\n",
        "      d_s = 24*h_s\n",
        "\n",
        "      day = t[8:10]\n",
        "      hour= t[11:13]\n",
        "      minute = t[14:16]\n",
        "      second = t[17:20]\n",
        "\n",
        "      sample_seconds =  (int(day)-1)*d_s + int(hour)*h_s + int(minute)*m_s + int(second)*s_s\n",
        "      return sample_seconds"
      ]
    },
    {
      "cell_type": "code",
      "execution_count": null,
      "metadata": {
        "colab": {
          "base_uri": "https://localhost:8080/"
        },
        "id": "K1FNwAzCf93q",
        "outputId": "fb2562b4-c955-4fc4-fb8f-f8ce447342c9"
      },
      "outputs": [
        {
          "output_type": "stream",
          "name": "stderr",
          "text": [
            "<ipython-input-9-eda1052f307f>:61: FutureWarning: The behavior of DataFrame concatenation with empty or all-NA entries is deprecated. In a future version, this will no longer exclude empty or all-NA columns when determining the result dtypes. To retain the old behavior, exclude the relevant entries before the concat operation.\n",
            "  final_df = pd.concat([final_df, df_taxi])\n",
            "<ipython-input-9-eda1052f307f>:61: FutureWarning: The behavior of DataFrame concatenation with empty or all-NA entries is deprecated. In a future version, this will no longer exclude empty or all-NA columns when determining the result dtypes. To retain the old behavior, exclude the relevant entries before the concat operation.\n",
            "  final_df = pd.concat([final_df, df_taxi])\n",
            "<ipython-input-9-eda1052f307f>:61: FutureWarning: The behavior of DataFrame concatenation with empty or all-NA entries is deprecated. In a future version, this will no longer exclude empty or all-NA columns when determining the result dtypes. To retain the old behavior, exclude the relevant entries before the concat operation.\n",
            "  final_df = pd.concat([final_df, df_taxi])\n",
            "<ipython-input-9-eda1052f307f>:61: FutureWarning: The behavior of DataFrame concatenation with empty or all-NA entries is deprecated. In a future version, this will no longer exclude empty or all-NA columns when determining the result dtypes. To retain the old behavior, exclude the relevant entries before the concat operation.\n",
            "  final_df = pd.concat([final_df, df_taxi])\n",
            "<ipython-input-9-eda1052f307f>:61: FutureWarning: The behavior of DataFrame concatenation with empty or all-NA entries is deprecated. In a future version, this will no longer exclude empty or all-NA columns when determining the result dtypes. To retain the old behavior, exclude the relevant entries before the concat operation.\n",
            "  final_df = pd.concat([final_df, df_taxi])\n",
            "<ipython-input-9-eda1052f307f>:61: FutureWarning: The behavior of DataFrame concatenation with empty or all-NA entries is deprecated. In a future version, this will no longer exclude empty or all-NA columns when determining the result dtypes. To retain the old behavior, exclude the relevant entries before the concat operation.\n",
            "  final_df = pd.concat([final_df, df_taxi])\n",
            "<ipython-input-9-eda1052f307f>:61: FutureWarning: The behavior of DataFrame concatenation with empty or all-NA entries is deprecated. In a future version, this will no longer exclude empty or all-NA columns when determining the result dtypes. To retain the old behavior, exclude the relevant entries before the concat operation.\n",
            "  final_df = pd.concat([final_df, df_taxi])\n",
            "<ipython-input-9-eda1052f307f>:61: FutureWarning: The behavior of DataFrame concatenation with empty or all-NA entries is deprecated. In a future version, this will no longer exclude empty or all-NA columns when determining the result dtypes. To retain the old behavior, exclude the relevant entries before the concat operation.\n",
            "  final_df = pd.concat([final_df, df_taxi])\n",
            "<ipython-input-9-eda1052f307f>:61: FutureWarning: The behavior of DataFrame concatenation with empty or all-NA entries is deprecated. In a future version, this will no longer exclude empty or all-NA columns when determining the result dtypes. To retain the old behavior, exclude the relevant entries before the concat operation.\n",
            "  final_df = pd.concat([final_df, df_taxi])\n",
            "<ipython-input-9-eda1052f307f>:61: FutureWarning: The behavior of DataFrame concatenation with empty or all-NA entries is deprecated. In a future version, this will no longer exclude empty or all-NA columns when determining the result dtypes. To retain the old behavior, exclude the relevant entries before the concat operation.\n",
            "  final_df = pd.concat([final_df, df_taxi])\n",
            "<ipython-input-9-eda1052f307f>:61: FutureWarning: The behavior of DataFrame concatenation with empty or all-NA entries is deprecated. In a future version, this will no longer exclude empty or all-NA columns when determining the result dtypes. To retain the old behavior, exclude the relevant entries before the concat operation.\n",
            "  final_df = pd.concat([final_df, df_taxi])\n",
            "<ipython-input-9-eda1052f307f>:61: FutureWarning: The behavior of DataFrame concatenation with empty or all-NA entries is deprecated. In a future version, this will no longer exclude empty or all-NA columns when determining the result dtypes. To retain the old behavior, exclude the relevant entries before the concat operation.\n",
            "  final_df = pd.concat([final_df, df_taxi])\n",
            "<ipython-input-9-eda1052f307f>:61: FutureWarning: The behavior of DataFrame concatenation with empty or all-NA entries is deprecated. In a future version, this will no longer exclude empty or all-NA columns when determining the result dtypes. To retain the old behavior, exclude the relevant entries before the concat operation.\n",
            "  final_df = pd.concat([final_df, df_taxi])\n",
            "<ipython-input-9-eda1052f307f>:61: FutureWarning: The behavior of DataFrame concatenation with empty or all-NA entries is deprecated. In a future version, this will no longer exclude empty or all-NA columns when determining the result dtypes. To retain the old behavior, exclude the relevant entries before the concat operation.\n",
            "  final_df = pd.concat([final_df, df_taxi])\n",
            "<ipython-input-9-eda1052f307f>:61: FutureWarning: The behavior of DataFrame concatenation with empty or all-NA entries is deprecated. In a future version, this will no longer exclude empty or all-NA columns when determining the result dtypes. To retain the old behavior, exclude the relevant entries before the concat operation.\n",
            "  final_df = pd.concat([final_df, df_taxi])\n",
            "<ipython-input-9-eda1052f307f>:61: FutureWarning: The behavior of DataFrame concatenation with empty or all-NA entries is deprecated. In a future version, this will no longer exclude empty or all-NA columns when determining the result dtypes. To retain the old behavior, exclude the relevant entries before the concat operation.\n",
            "  final_df = pd.concat([final_df, df_taxi])\n",
            "<ipython-input-9-eda1052f307f>:61: FutureWarning: The behavior of DataFrame concatenation with empty or all-NA entries is deprecated. In a future version, this will no longer exclude empty or all-NA columns when determining the result dtypes. To retain the old behavior, exclude the relevant entries before the concat operation.\n",
            "  final_df = pd.concat([final_df, df_taxi])\n",
            "<ipython-input-9-eda1052f307f>:61: FutureWarning: The behavior of DataFrame concatenation with empty or all-NA entries is deprecated. In a future version, this will no longer exclude empty or all-NA columns when determining the result dtypes. To retain the old behavior, exclude the relevant entries before the concat operation.\n",
            "  final_df = pd.concat([final_df, df_taxi])\n",
            "<ipython-input-9-eda1052f307f>:61: FutureWarning: The behavior of DataFrame concatenation with empty or all-NA entries is deprecated. In a future version, this will no longer exclude empty or all-NA columns when determining the result dtypes. To retain the old behavior, exclude the relevant entries before the concat operation.\n",
            "  final_df = pd.concat([final_df, df_taxi])\n",
            "<ipython-input-9-eda1052f307f>:61: FutureWarning: The behavior of DataFrame concatenation with empty or all-NA entries is deprecated. In a future version, this will no longer exclude empty or all-NA columns when determining the result dtypes. To retain the old behavior, exclude the relevant entries before the concat operation.\n",
            "  final_df = pd.concat([final_df, df_taxi])\n",
            "<ipython-input-9-eda1052f307f>:61: FutureWarning: The behavior of DataFrame concatenation with empty or all-NA entries is deprecated. In a future version, this will no longer exclude empty or all-NA columns when determining the result dtypes. To retain the old behavior, exclude the relevant entries before the concat operation.\n",
            "  final_df = pd.concat([final_df, df_taxi])\n"
          ]
        }
      ],
      "source": [
        "# create a csv file from text files of taxies\n",
        "import os\n",
        "import pandas as pd\n",
        "import numpy as np\n",
        "\n",
        "directory = 'taxi_log_2008_by_id'\n",
        "directory = '/content/drive/My Drive/datasets/' + directory\n",
        "\n",
        "\n",
        "final_df = pd.DataFrame([[-1, -1, -1]], columns=['time', 'x', 'y'])\n",
        "\n",
        "file_names = os.listdir(directory)\n",
        "file_paths = [os.path.join(directory, file_name) for file_name in file_names]\n",
        "\n",
        "for file_path in file_paths:\n",
        "  with open(file_path, 'r') as file:\n",
        "    elements = [line.strip().split(',') for line in file.readlines()]\n",
        "    id = np.array([int(element[0]) for element in elements])\n",
        "    time = np.array([sec_time(element[1]) for element in elements])\n",
        "    x = np.array([float(element[2]) for element in elements])\n",
        "    y = np.array([float(element[3]) for element in elements])\n",
        "\n",
        "    time_diff = np.diff(time)\n",
        "    gap_indices = np.where(time_diff > 60)[0]\n",
        "\n",
        "    new_time = []\n",
        "    new_x = []\n",
        "    new_y = []\n",
        "\n",
        "    for idx in gap_indices:\n",
        "        t1 = time[idx]\n",
        "        t2 = time[idx + 1]\n",
        "        x1 = x[idx]\n",
        "        x2 = x[idx + 1]\n",
        "        y1 = y[idx]\n",
        "        y2 = y[idx + 1]\n",
        "\n",
        "        new_times = np.arange(t1 + 60, t2, 60)\n",
        "        new_x_vals = ((new_times - t1) * (x2 - x1) / (t2 - t1)) + x1\n",
        "        new_y_vals = ((new_times - t1) * (y2 - y1) / (t2 - t1)) + y1\n",
        "\n",
        "        # Append the new times, x, and y values\n",
        "        new_time.extend(new_times.tolist())\n",
        "        new_x.extend(new_x_vals.tolist())\n",
        "        new_y.extend(new_y_vals.tolist())\n",
        "\n",
        "\n",
        "    # Step 1: Combine original and new data\n",
        "    final_time = np.concatenate([time, np.array(new_time)])\n",
        "    final_x = np.concatenate([x, np.array(new_x)])\n",
        "    final_y = np.concatenate([y, np.array(new_y)])\n",
        "\n",
        "    # Step 2: Sort by time\n",
        "    sorted_indices = np.argsort(final_time)\n",
        "    final_time = list(final_time[sorted_indices])\n",
        "    final_x = list(final_x[sorted_indices])\n",
        "    final_y = list(final_y[sorted_indices])\n",
        "\n",
        "    taxi_data = [[final_time[i], final_x[i], final_y[i]] for i in range(len(final_time))]\n",
        "    df_taxi = pd.DataFrame(taxi_data, columns=['time', 'x', 'y'])\n",
        "    final_df = pd.concat([final_df, df_taxi])\n",
        "\n",
        "final_df.drop(0)\n",
        "final_df.reset_index(drop=True)\n",
        "save_path = '/content/drive/My Drive/datasets/' + 'new_Beijing.csv'\n",
        "final_df.to_csv(save_path, index=False)"
      ]
    },
    {
      "cell_type": "code",
      "execution_count": null,
      "metadata": {
        "id": "aMXBP5BVheTb"
      },
      "outputs": [],
      "source": [
        "# reading the saved data\n",
        "\n",
        "from google.colab import drive\n",
        "drive.mount('/content/drive')\n",
        "import pandas as pd\n",
        "path = save_path = '/content/drive/My Drive/datasets/' + 'new_Beijing.csv'\n",
        "data = pd.read_csv(path)\n",
        "data.head(5)"
      ]
    },
    {
      "cell_type": "code",
      "execution_count": null,
      "metadata": {
        "id": "CAwgqDbVniRY"
      },
      "outputs": [],
      "source": [
        "data['time'] = data['time'].apply(sec_time)"
      ]
    },
    {
      "cell_type": "code",
      "execution_count": null,
      "metadata": {
        "id": "3GgOVAMXjZw4"
      },
      "outputs": [],
      "source": [
        "x = list(data['x'])\n",
        "y = list(data['y'])\n",
        "time = list(data['time'])"
      ]
    },
    {
      "cell_type": "code",
      "execution_count": null,
      "metadata": {
        "colab": {
          "base_uri": "https://localhost:8080/",
          "height": 211
        },
        "id": "rlHcDsEJjzdU",
        "outputId": "b596cec4-277c-4253-ffaa-452b451cac0b"
      },
      "outputs": [
        {
          "ename": "KeyboardInterrupt",
          "evalue": "",
          "output_type": "error",
          "traceback": [
            "\u001b[0;31m---------------------------------------------------------------------------\u001b[0m",
            "\u001b[0;31mKeyboardInterrupt\u001b[0m                         Traceback (most recent call last)",
            "\u001b[0;32m<ipython-input-8-0977806475ae>\u001b[0m in \u001b[0;36m<cell line: 15>\u001b[0;34m()\u001b[0m\n\u001b[1;32m     27\u001b[0m     \u001b[0;31m# Append the new times, x, and y values\u001b[0m\u001b[0;34m\u001b[0m\u001b[0;34m\u001b[0m\u001b[0m\n\u001b[1;32m     28\u001b[0m     \u001b[0mnew_time\u001b[0m\u001b[0;34m.\u001b[0m\u001b[0mextend\u001b[0m\u001b[0;34m(\u001b[0m\u001b[0mnew_times\u001b[0m\u001b[0;34m.\u001b[0m\u001b[0mtolist\u001b[0m\u001b[0;34m(\u001b[0m\u001b[0;34m)\u001b[0m\u001b[0;34m)\u001b[0m\u001b[0;34m\u001b[0m\u001b[0;34m\u001b[0m\u001b[0m\n\u001b[0;32m---> 29\u001b[0;31m     \u001b[0mnew_x\u001b[0m\u001b[0;34m.\u001b[0m\u001b[0mextend\u001b[0m\u001b[0;34m(\u001b[0m\u001b[0mnew_x_vals\u001b[0m\u001b[0;34m.\u001b[0m\u001b[0mtolist\u001b[0m\u001b[0;34m(\u001b[0m\u001b[0;34m)\u001b[0m\u001b[0;34m)\u001b[0m\u001b[0;34m\u001b[0m\u001b[0;34m\u001b[0m\u001b[0m\n\u001b[0m\u001b[1;32m     30\u001b[0m     \u001b[0mnew_y\u001b[0m\u001b[0;34m.\u001b[0m\u001b[0mextend\u001b[0m\u001b[0;34m(\u001b[0m\u001b[0mnew_y_vals\u001b[0m\u001b[0;34m.\u001b[0m\u001b[0mtolist\u001b[0m\u001b[0;34m(\u001b[0m\u001b[0;34m)\u001b[0m\u001b[0;34m)\u001b[0m\u001b[0;34m\u001b[0m\u001b[0;34m\u001b[0m\u001b[0m\n\u001b[1;32m     31\u001b[0m \u001b[0;34m\u001b[0m\u001b[0m\n",
            "\u001b[0;31mKeyboardInterrupt\u001b[0m: "
          ]
        }
      ],
      "source": [
        "import numpy as np\n",
        "\n",
        "time = np.array(time)\n",
        "x = np.array(x)\n",
        "y = np.array(y)\n",
        "\n",
        "time_diff = np.diff(time)\n",
        "\n",
        "gap_indices = np.where(time_diff > 60)[0]\n",
        "\n",
        "new_time = []\n",
        "new_x = []\n",
        "new_y = []\n",
        "\n",
        "for idx in gap_indices:\n",
        "    t1 = time[idx]\n",
        "    t2 = time[idx + 1]\n",
        "    x1 = x[idx]\n",
        "    x2 = x[idx + 1]\n",
        "    y1 = y[idx]\n",
        "    y2 = y[idx + 1]\n",
        "\n",
        "    new_times = np.arange(t1 + 60, t2, 60)\n",
        "    new_x_vals = ((new_times - t1) * (x2 - x1) / (t2 - t1)) + x1\n",
        "    new_y_vals = ((new_times - t1) * (y2 - y1) / (t2 - t1)) + y1\n",
        "\n",
        "    # Append the new times, x, and y values\n",
        "    new_time.extend(new_times.tolist())\n",
        "    new_x.extend(new_x_vals.tolist())\n",
        "    new_y.extend(new_y_vals.tolist())\n",
        "\n",
        "\n",
        "# Step 6: Combine original and new data\n",
        "final_time = np.concatenate([time, np.array(new_time)])\n",
        "final_x = np.concatenate([x, np.array(new_x)])\n",
        "final_y = np.concatenate([y, np.array(new_y)])\n",
        "\n",
        "# Step 7: Sort by time\n",
        "sorted_indices = np.argsort(final_time)\n",
        "final_time = final_time[sorted_indices]\n",
        "final_x = final_x[sorted_indices]\n",
        "final_y = final_y[sorted_indices]"
      ]
    },
    {
      "cell_type": "code",
      "execution_count": null,
      "metadata": {
        "id": "f76grCXrn-1v"
      },
      "outputs": [],
      "source": [
        "s = 'sara, mahsa'\n",
        "s = s.split(',')\n",
        "s"
      ]
    },
    {
      "cell_type": "code",
      "execution_count": null,
      "metadata": {
        "colab": {
          "base_uri": "https://localhost:8080/",
          "height": 223
        },
        "id": "N0qZaay1UN8I",
        "outputId": "2e573aa3-e49a-4e2f-bbe0-d2403342301e"
      },
      "outputs": [
        {
          "name": "stdout",
          "output_type": "stream",
          "text": [
            "Drive already mounted at /content/drive; to attempt to forcibly remount, call drive.mount(\"/content/drive\", force_remount=True).\n"
          ]
        },
        {
          "data": {
            "application/vnd.google.colaboratory.intrinsic+json": {
              "type": "dataframe",
              "variable_name": "data"
            },
            "text/html": [
              "\n",
              "  <div id=\"df-b9a0406d-b8bb-448d-8aaa-8365d00b3887\" class=\"colab-df-container\">\n",
              "    <div>\n",
              "<style scoped>\n",
              "    .dataframe tbody tr th:only-of-type {\n",
              "        vertical-align: middle;\n",
              "    }\n",
              "\n",
              "    .dataframe tbody tr th {\n",
              "        vertical-align: top;\n",
              "    }\n",
              "\n",
              "    .dataframe thead th {\n",
              "        text-align: right;\n",
              "    }\n",
              "</style>\n",
              "<table border=\"1\" class=\"dataframe\">\n",
              "  <thead>\n",
              "    <tr style=\"text-align: right;\">\n",
              "      <th></th>\n",
              "      <th>id</th>\n",
              "      <th>time</th>\n",
              "      <th>x</th>\n",
              "      <th>y</th>\n",
              "    </tr>\n",
              "  </thead>\n",
              "  <tbody>\n",
              "    <tr>\n",
              "      <th>0</th>\n",
              "      <td>8929</td>\n",
              "      <td>2008-02-02 13:39:26</td>\n",
              "      <td>116.30747</td>\n",
              "      <td>39.91023</td>\n",
              "    </tr>\n",
              "    <tr>\n",
              "      <th>1</th>\n",
              "      <td>8929</td>\n",
              "      <td>2008-02-02 13:44:26</td>\n",
              "      <td>116.31485</td>\n",
              "      <td>39.90924</td>\n",
              "    </tr>\n",
              "    <tr>\n",
              "      <th>2</th>\n",
              "      <td>8929</td>\n",
              "      <td>2008-02-02 13:49:26</td>\n",
              "      <td>116.31494</td>\n",
              "      <td>39.90813</td>\n",
              "    </tr>\n",
              "    <tr>\n",
              "      <th>3</th>\n",
              "      <td>8929</td>\n",
              "      <td>2008-02-02 13:54:26</td>\n",
              "      <td>116.31491</td>\n",
              "      <td>39.90654</td>\n",
              "    </tr>\n",
              "    <tr>\n",
              "      <th>4</th>\n",
              "      <td>8929</td>\n",
              "      <td>2008-02-02 13:57:37</td>\n",
              "      <td>116.31500</td>\n",
              "      <td>39.89662</td>\n",
              "    </tr>\n",
              "  </tbody>\n",
              "</table>\n",
              "</div>\n",
              "    <div class=\"colab-df-buttons\">\n",
              "\n",
              "  <div class=\"colab-df-container\">\n",
              "    <button class=\"colab-df-convert\" onclick=\"convertToInteractive('df-b9a0406d-b8bb-448d-8aaa-8365d00b3887')\"\n",
              "            title=\"Convert this dataframe to an interactive table.\"\n",
              "            style=\"display:none;\">\n",
              "\n",
              "  <svg xmlns=\"http://www.w3.org/2000/svg\" height=\"24px\" viewBox=\"0 -960 960 960\">\n",
              "    <path d=\"M120-120v-720h720v720H120Zm60-500h600v-160H180v160Zm220 220h160v-160H400v160Zm0 220h160v-160H400v160ZM180-400h160v-160H180v160Zm440 0h160v-160H620v160ZM180-180h160v-160H180v160Zm440 0h160v-160H620v160Z\"/>\n",
              "  </svg>\n",
              "    </button>\n",
              "\n",
              "  <style>\n",
              "    .colab-df-container {\n",
              "      display:flex;\n",
              "      gap: 12px;\n",
              "    }\n",
              "\n",
              "    .colab-df-convert {\n",
              "      background-color: #E8F0FE;\n",
              "      border: none;\n",
              "      border-radius: 50%;\n",
              "      cursor: pointer;\n",
              "      display: none;\n",
              "      fill: #1967D2;\n",
              "      height: 32px;\n",
              "      padding: 0 0 0 0;\n",
              "      width: 32px;\n",
              "    }\n",
              "\n",
              "    .colab-df-convert:hover {\n",
              "      background-color: #E2EBFA;\n",
              "      box-shadow: 0px 1px 2px rgba(60, 64, 67, 0.3), 0px 1px 3px 1px rgba(60, 64, 67, 0.15);\n",
              "      fill: #174EA6;\n",
              "    }\n",
              "\n",
              "    .colab-df-buttons div {\n",
              "      margin-bottom: 4px;\n",
              "    }\n",
              "\n",
              "    [theme=dark] .colab-df-convert {\n",
              "      background-color: #3B4455;\n",
              "      fill: #D2E3FC;\n",
              "    }\n",
              "\n",
              "    [theme=dark] .colab-df-convert:hover {\n",
              "      background-color: #434B5C;\n",
              "      box-shadow: 0px 1px 3px 1px rgba(0, 0, 0, 0.15);\n",
              "      filter: drop-shadow(0px 1px 2px rgba(0, 0, 0, 0.3));\n",
              "      fill: #FFFFFF;\n",
              "    }\n",
              "  </style>\n",
              "\n",
              "    <script>\n",
              "      const buttonEl =\n",
              "        document.querySelector('#df-b9a0406d-b8bb-448d-8aaa-8365d00b3887 button.colab-df-convert');\n",
              "      buttonEl.style.display =\n",
              "        google.colab.kernel.accessAllowed ? 'block' : 'none';\n",
              "\n",
              "      async function convertToInteractive(key) {\n",
              "        const element = document.querySelector('#df-b9a0406d-b8bb-448d-8aaa-8365d00b3887');\n",
              "        const dataTable =\n",
              "          await google.colab.kernel.invokeFunction('convertToInteractive',\n",
              "                                                    [key], {});\n",
              "        if (!dataTable) return;\n",
              "\n",
              "        const docLinkHtml = 'Like what you see? Visit the ' +\n",
              "          '<a target=\"_blank\" href=https://colab.research.google.com/notebooks/data_table.ipynb>data table notebook</a>'\n",
              "          + ' to learn more about interactive tables.';\n",
              "        element.innerHTML = '';\n",
              "        dataTable['output_type'] = 'display_data';\n",
              "        await google.colab.output.renderOutput(dataTable, element);\n",
              "        const docLink = document.createElement('div');\n",
              "        docLink.innerHTML = docLinkHtml;\n",
              "        element.appendChild(docLink);\n",
              "      }\n",
              "    </script>\n",
              "  </div>\n",
              "\n",
              "\n",
              "<div id=\"df-3af64b1d-5a1f-42f5-ac3b-373c9f10a237\">\n",
              "  <button class=\"colab-df-quickchart\" onclick=\"quickchart('df-3af64b1d-5a1f-42f5-ac3b-373c9f10a237')\"\n",
              "            title=\"Suggest charts\"\n",
              "            style=\"display:none;\">\n",
              "\n",
              "<svg xmlns=\"http://www.w3.org/2000/svg\" height=\"24px\"viewBox=\"0 0 24 24\"\n",
              "     width=\"24px\">\n",
              "    <g>\n",
              "        <path d=\"M19 3H5c-1.1 0-2 .9-2 2v14c0 1.1.9 2 2 2h14c1.1 0 2-.9 2-2V5c0-1.1-.9-2-2-2zM9 17H7v-7h2v7zm4 0h-2V7h2v10zm4 0h-2v-4h2v4z\"/>\n",
              "    </g>\n",
              "</svg>\n",
              "  </button>\n",
              "\n",
              "<style>\n",
              "  .colab-df-quickchart {\n",
              "      --bg-color: #E8F0FE;\n",
              "      --fill-color: #1967D2;\n",
              "      --hover-bg-color: #E2EBFA;\n",
              "      --hover-fill-color: #174EA6;\n",
              "      --disabled-fill-color: #AAA;\n",
              "      --disabled-bg-color: #DDD;\n",
              "  }\n",
              "\n",
              "  [theme=dark] .colab-df-quickchart {\n",
              "      --bg-color: #3B4455;\n",
              "      --fill-color: #D2E3FC;\n",
              "      --hover-bg-color: #434B5C;\n",
              "      --hover-fill-color: #FFFFFF;\n",
              "      --disabled-bg-color: #3B4455;\n",
              "      --disabled-fill-color: #666;\n",
              "  }\n",
              "\n",
              "  .colab-df-quickchart {\n",
              "    background-color: var(--bg-color);\n",
              "    border: none;\n",
              "    border-radius: 50%;\n",
              "    cursor: pointer;\n",
              "    display: none;\n",
              "    fill: var(--fill-color);\n",
              "    height: 32px;\n",
              "    padding: 0;\n",
              "    width: 32px;\n",
              "  }\n",
              "\n",
              "  .colab-df-quickchart:hover {\n",
              "    background-color: var(--hover-bg-color);\n",
              "    box-shadow: 0 1px 2px rgba(60, 64, 67, 0.3), 0 1px 3px 1px rgba(60, 64, 67, 0.15);\n",
              "    fill: var(--button-hover-fill-color);\n",
              "  }\n",
              "\n",
              "  .colab-df-quickchart-complete:disabled,\n",
              "  .colab-df-quickchart-complete:disabled:hover {\n",
              "    background-color: var(--disabled-bg-color);\n",
              "    fill: var(--disabled-fill-color);\n",
              "    box-shadow: none;\n",
              "  }\n",
              "\n",
              "  .colab-df-spinner {\n",
              "    border: 2px solid var(--fill-color);\n",
              "    border-color: transparent;\n",
              "    border-bottom-color: var(--fill-color);\n",
              "    animation:\n",
              "      spin 1s steps(1) infinite;\n",
              "  }\n",
              "\n",
              "  @keyframes spin {\n",
              "    0% {\n",
              "      border-color: transparent;\n",
              "      border-bottom-color: var(--fill-color);\n",
              "      border-left-color: var(--fill-color);\n",
              "    }\n",
              "    20% {\n",
              "      border-color: transparent;\n",
              "      border-left-color: var(--fill-color);\n",
              "      border-top-color: var(--fill-color);\n",
              "    }\n",
              "    30% {\n",
              "      border-color: transparent;\n",
              "      border-left-color: var(--fill-color);\n",
              "      border-top-color: var(--fill-color);\n",
              "      border-right-color: var(--fill-color);\n",
              "    }\n",
              "    40% {\n",
              "      border-color: transparent;\n",
              "      border-right-color: var(--fill-color);\n",
              "      border-top-color: var(--fill-color);\n",
              "    }\n",
              "    60% {\n",
              "      border-color: transparent;\n",
              "      border-right-color: var(--fill-color);\n",
              "    }\n",
              "    80% {\n",
              "      border-color: transparent;\n",
              "      border-right-color: var(--fill-color);\n",
              "      border-bottom-color: var(--fill-color);\n",
              "    }\n",
              "    90% {\n",
              "      border-color: transparent;\n",
              "      border-bottom-color: var(--fill-color);\n",
              "    }\n",
              "  }\n",
              "</style>\n",
              "\n",
              "  <script>\n",
              "    async function quickchart(key) {\n",
              "      const quickchartButtonEl =\n",
              "        document.querySelector('#' + key + ' button');\n",
              "      quickchartButtonEl.disabled = true;  // To prevent multiple clicks.\n",
              "      quickchartButtonEl.classList.add('colab-df-spinner');\n",
              "      try {\n",
              "        const charts = await google.colab.kernel.invokeFunction(\n",
              "            'suggestCharts', [key], {});\n",
              "      } catch (error) {\n",
              "        console.error('Error during call to suggestCharts:', error);\n",
              "      }\n",
              "      quickchartButtonEl.classList.remove('colab-df-spinner');\n",
              "      quickchartButtonEl.classList.add('colab-df-quickchart-complete');\n",
              "    }\n",
              "    (() => {\n",
              "      let quickchartButtonEl =\n",
              "        document.querySelector('#df-3af64b1d-5a1f-42f5-ac3b-373c9f10a237 button');\n",
              "      quickchartButtonEl.style.display =\n",
              "        google.colab.kernel.accessAllowed ? 'block' : 'none';\n",
              "    })();\n",
              "  </script>\n",
              "</div>\n",
              "    </div>\n",
              "  </div>\n"
            ],
            "text/plain": [
              "     id                 time          x         y\n",
              "0  8929  2008-02-02 13:39:26  116.30747  39.91023\n",
              "1  8929  2008-02-02 13:44:26  116.31485  39.90924\n",
              "2  8929  2008-02-02 13:49:26  116.31494  39.90813\n",
              "3  8929  2008-02-02 13:54:26  116.31491  39.90654\n",
              "4  8929  2008-02-02 13:57:37  116.31500  39.89662"
            ]
          },
          "execution_count": 3,
          "metadata": {},
          "output_type": "execute_result"
        }
      ],
      "source": [
        "df = pd.DataFrame(taxi_data, columns=['id', 'time', 'x', 'y'])"
      ]
    },
    {
      "cell_type": "code",
      "execution_count": null,
      "metadata": {
        "id": "qbEqA-L963lH"
      },
      "outputs": [],
      "source": [
        "save_path = '/content/drive/My Drive/datasets/' + 'Beijing_new.csv'\n",
        "new_df.to_csv(save_path, index=False)"
      ]
    },
    {
      "cell_type": "markdown",
      "metadata": {
        "id": "iyfBGTNRgplE"
      },
      "source": [
        "## train"
      ]
    },
    {
      "cell_type": "code",
      "execution_count": null,
      "metadata": {
        "id": "pnMUEwbCguBU"
      },
      "outputs": [],
      "source": []
    }
  ],
  "metadata": {
    "colab": {
      "collapsed_sections": [
        "mYjBdMr0w34k",
        "N3v-S02Gw_dA",
        "B_tp0EfhyvLt",
        "CurUkG1h85Pc",
        "IaC5e3S7JQCL",
        "BIgyuKTkNMzw",
        "q7iSK6Pew9gX",
        "x_iv4yAFfoe-",
        "SEXc6v2Y4Y2M",
        "3K5i2ZST2NxP",
        "zbBDdRPsCibL",
        "ODpZ6_FBy8Z1",
        "lZqOv6K_RlcT",
        "wYGfa7enUmA6",
        "eL2MndJBUfxp"
      ],
      "provenance": []
    },
    "kernelspec": {
      "display_name": "Python 3",
      "name": "python3"
    }
  },
  "nbformat": 4,
  "nbformat_minor": 0
}